{
  "cells": [
    {
      "cell_type": "markdown",
      "metadata": {
        "id": "view-in-github",
        "colab_type": "text"
      },
      "source": [
        "<a href=\"https://colab.research.google.com/github/moonman5/swd_project/blob/main/site/en/tutorials/reinforcement_learning/actor_critic.ipynb\" target=\"_parent\"><img src=\"https://colab.research.google.com/assets/colab-badge.svg\" alt=\"Open In Colab\"/></a>"
      ]
    },
    {
      "cell_type": "markdown",
      "metadata": {
        "id": "_jQ1tEQCxwRx"
      },
      "source": [
        "##### Copyright 2020 The TensorFlow Authors."
      ]
    },
    {
      "cell_type": "code",
      "execution_count": null,
      "metadata": {
        "cellView": "form",
        "id": "V_sgB_5dx1f1"
      },
      "outputs": [],
      "source": [
        "#@title Licensed under the Apache License, Version 2.0 (the \"License\");\n",
        "# you may not use this file except in compliance with the License.\n",
        "# You may obtain a copy of the License at\n",
        "#\n",
        "# https://www.apache.org/licenses/LICENSE-2.0\n",
        "#\n",
        "# Unless required by applicable law or agreed to in writing, software\n",
        "# distributed under the License is distributed on an \"AS IS\" BASIS,\n",
        "# WITHOUT WARRANTIES OR CONDITIONS OF ANY KIND, either express or implied.\n",
        "# See the License for the specific language governing permissions and\n",
        "# limitations under the License."
      ]
    },
    {
      "cell_type": "markdown",
      "metadata": {
        "id": "p62G8M_viUJp"
      },
      "source": [
        "# Playing CartPole with the Actor-Critic method\n"
      ]
    },
    {
      "cell_type": "markdown",
      "metadata": {
        "id": "-mJ2i6jvZ3sK"
      },
      "source": [
        "<table class=\"tfo-notebook-buttons\" align=\"left\">\n",
        "  <td>\n",
        "    <a target=\"_blank\" href=\"https://www.tensorflow.org/tutorials/reinforcement_learning/actor_critic\">\n",
        "    <img src=\"https://www.tensorflow.org/images/tf_logo_32px.png\" />\n",
        "    View on TensorFlow.org</a>\n",
        "  </td>\n",
        "  <td>\n",
        "    <a target=\"_blank\" href=\"https://colab.research.google.com/github/tensorflow/docs/blob/master/site/en/tutorials/reinforcement_learning/actor_critic.ipynb\">\n",
        "    <img src=\"https://www.tensorflow.org/images/colab_logo_32px.png\" />\n",
        "    Run in Google Colab</a>\n",
        "  </td>\n",
        "  <td>\n",
        "    <a target=\"_blank\" href=\"https://github.com/tensorflow/docs/blob/master/site/en/tutorials/reinforcement_learning/actor_critic.ipynb\">\n",
        "    <img src=\"https://www.tensorflow.org/images/GitHub-Mark-32px.png\" />\n",
        "    View source on GitHub</a>\n",
        "  </td>\n",
        "  <td>\n",
        "    <a href=\"https://storage.googleapis.com/tensorflow_docs/docs/site/en/tutorials/reinforcement_learning/actor_critic.ipynb\"><img src=\"https://www.tensorflow.org/images/download_logo_32px.png\" />Download notebook</a>\n",
        "  </td>\n",
        "</table>"
      ]
    },
    {
      "cell_type": "markdown",
      "metadata": {
        "id": "kFgN7h_wiUJq"
      },
      "source": [
        "This tutorial demonstrates how to implement the [Actor-Critic](https://papers.nips.cc/paper/1786-actor-critic-algorithms.pdf) method using TensorFlow to train an agent on the [Open AI Gym](https://www.gymlibrary.dev/) [`CartPole-v0`](https://www.gymlibrary.dev/environments/classic_control/cart_pole/) environment.\n",
        "The reader is assumed to have some familiarity with [policy gradient methods](https://papers.nips.cc/paper/1713-policy-gradient-methods-for-reinforcement-learning-with-function-approximation.pdf) of [(deep) reinforcement learning](https://en.wikipedia.org/wiki/Deep_reinforcement_learning).\n"
      ]
    },
    {
      "cell_type": "markdown",
      "metadata": {
        "id": "_kA10ZKRR0hi"
      },
      "source": [
        "**Actor-Critic methods**\n",
        "\n",
        "Actor-Critic methods are [temporal difference (TD) learning](https://en.wikipedia.org/wiki/Temporal_difference_learning) methods that represent the policy function independent of the value function.\n",
        "\n",
        "A policy function (or policy) returns a probability distribution over actions that the agent can take based on the given state.\n",
        "A value function determines the expected return for an agent starting at a given state and acting according to a particular policy forever after.\n",
        "\n",
        "In the Actor-Critic method, the policy is referred to as the *actor* that proposes a set of possible actions given a state, and the estimated value function is referred to as the *critic*, which evaluates actions taken by the *actor* based on the given policy.\n",
        "\n",
        "In this tutorial, both the *Actor* and *Critic* will be represented using one neural network with two outputs.\n"
      ]
    },
    {
      "cell_type": "markdown",
      "metadata": {
        "id": "rBfiafKSRs2k"
      },
      "source": [
        "**`CartPole-v0`**\n",
        "\n",
        "In the [`CartPole-v0` environment](https://www.gymlibrary.dev/environments/classic_control/cart_pole/), a pole is attached to a cart moving along a frictionless track.\n",
        "The pole starts upright and the goal of the agent is to prevent it from falling over by applying a force of `-1` or `+1` to the cart.\n",
        "A reward of `+1` is given for every time step the pole remains upright.\n",
        "An episode ends when: 1) the pole is more than 15 degrees from vertical; or 2) the cart moves more than 2.4 units from the center.\n",
        "\n",
        "<center>\n",
        "  <figure>\n",
        "    <image src=\"https://tensorflow.org/tutorials/reinforcement_learning/images/cartpole-v0.gif\">\n",
        "    <figcaption>\n",
        "      Trained actor-critic model in Cartpole-v0 environment\n",
        "    </figcaption>\n",
        "  </figure>\n",
        "</center>\n"
      ]
    },
    {
      "cell_type": "markdown",
      "metadata": {
        "id": "XSNVK0AeRoJd"
      },
      "source": [
        "The problem is considered \"solved\" when the average total reward for the episode reaches 195 over 100 consecutive trials."
      ]
    },
    {
      "cell_type": "markdown",
      "metadata": {
        "id": "glLwIctHiUJq"
      },
      "source": [
        "## Setup\n",
        "\n",
        "Import necessary packages and configure global settings.\n"
      ]
    },
    {
      "cell_type": "code",
      "execution_count": 1,
      "metadata": {
        "id": "13l6BbxKhCKp",
        "outputId": "69a6e9d0-d26f-4627-de99-eef372bdb6b3",
        "colab": {
          "base_uri": "https://localhost:8080/"
        }
      },
      "outputs": [
        {
          "output_type": "stream",
          "name": "stdout",
          "text": [
            "Requirement already satisfied: gym in /usr/local/lib/python3.11/dist-packages (0.25.2)\n",
            "Requirement already satisfied: numpy>=1.18.0 in /usr/local/lib/python3.11/dist-packages (from gym) (1.26.4)\n",
            "Requirement already satisfied: cloudpickle>=1.2.0 in /usr/local/lib/python3.11/dist-packages (from gym) (3.1.1)\n",
            "Requirement already satisfied: gym_notices>=0.0.4 in /usr/local/lib/python3.11/dist-packages (from gym) (0.0.8)\n",
            "Collecting pyglet\n",
            "  Downloading pyglet-2.1.2-py3-none-any.whl.metadata (7.7 kB)\n",
            "Downloading pyglet-2.1.2-py3-none-any.whl (961 kB)\n",
            "\u001b[2K   \u001b[90m━━━━━━━━━━━━━━━━━━━━━━━━━━━━━━━━━━━━━━━━\u001b[0m \u001b[32m962.0/962.0 kB\u001b[0m \u001b[31m9.8 MB/s\u001b[0m eta \u001b[36m0:00:00\u001b[0m\n",
            "\u001b[?25hInstalling collected packages: pyglet\n",
            "Successfully installed pyglet-2.1.2\n"
          ]
        }
      ],
      "source": [
        "!pip install gym\n",
        "!pip install pyglet"
      ]
    },
    {
      "cell_type": "code",
      "execution_count": 2,
      "metadata": {
        "id": "WBeQhPi2S4m5",
        "outputId": "12bab4ce-c238-4912-e189-276338868528",
        "colab": {
          "base_uri": "https://localhost:8080/"
        }
      },
      "outputs": [
        {
          "output_type": "stream",
          "name": "stdout",
          "text": [
            "Hit:1 http://archive.ubuntu.com/ubuntu jammy InRelease\n",
            "Get:2 http://archive.ubuntu.com/ubuntu jammy-updates InRelease [128 kB]\n",
            "Get:3 http://security.ubuntu.com/ubuntu jammy-security InRelease [129 kB]\n",
            "Get:4 https://cloud.r-project.org/bin/linux/ubuntu jammy-cran40/ InRelease [3,626 B]\n",
            "Hit:5 https://developer.download.nvidia.com/compute/cuda/repos/ubuntu2204/x86_64  InRelease\n",
            "Get:6 https://r2u.stat.illinois.edu/ubuntu jammy InRelease [6,555 B]\n",
            "Get:7 http://archive.ubuntu.com/ubuntu jammy-backports InRelease [127 kB]\n",
            "Get:8 https://ppa.launchpadcontent.net/deadsnakes/ppa/ubuntu jammy InRelease [18.1 kB]\n",
            "Hit:9 https://ppa.launchpadcontent.net/graphics-drivers/ppa/ubuntu jammy InRelease\n",
            "Hit:10 https://ppa.launchpadcontent.net/ubuntugis/ppa/ubuntu jammy InRelease\n",
            "Get:11 http://security.ubuntu.com/ubuntu jammy-security/main amd64 Packages [2,606 kB]\n",
            "Get:12 http://security.ubuntu.com/ubuntu jammy-security/universe amd64 Packages [1,230 kB]\n",
            "Get:13 http://archive.ubuntu.com/ubuntu jammy-updates/universe amd64 Packages [1,523 kB]\n",
            "Get:14 http://archive.ubuntu.com/ubuntu jammy-updates/main amd64 Packages [2,907 kB]\n",
            "Get:15 https://r2u.stat.illinois.edu/ubuntu jammy/main amd64 Packages [2,650 kB]\n",
            "Get:16 https://r2u.stat.illinois.edu/ubuntu jammy/main all Packages [8,657 kB]\n",
            "Get:17 https://ppa.launchpadcontent.net/deadsnakes/ppa/ubuntu jammy/main amd64 Packages [33.6 kB]\n",
            "Fetched 20.0 MB in 5s (4,242 kB/s)\n",
            "Reading package lists...\n",
            "Reading package lists...\n",
            "Building dependency tree...\n",
            "Reading state information...\n",
            "The following additional packages will be installed:\n",
            "  libfontenc1 libxfont2 libxkbfile1 x11-xkb-utils xfonts-base xfonts-encodings xfonts-utils\n",
            "  xserver-common\n",
            "The following NEW packages will be installed:\n",
            "  libfontenc1 libxfont2 libxkbfile1 x11-xkb-utils xfonts-base xfonts-encodings xfonts-utils\n",
            "  xserver-common xvfb\n",
            "0 upgraded, 9 newly installed, 0 to remove and 33 not upgraded.\n",
            "Need to get 7,815 kB of archives.\n",
            "After this operation, 11.9 MB of additional disk space will be used.\n",
            "Get:1 http://archive.ubuntu.com/ubuntu jammy/main amd64 libfontenc1 amd64 1:1.1.4-1build3 [14.7 kB]\n",
            "Get:2 http://archive.ubuntu.com/ubuntu jammy/main amd64 libxfont2 amd64 1:2.0.5-1build1 [94.5 kB]\n",
            "Get:3 http://archive.ubuntu.com/ubuntu jammy/main amd64 libxkbfile1 amd64 1:1.1.0-1build3 [71.8 kB]\n",
            "Get:4 http://archive.ubuntu.com/ubuntu jammy/main amd64 x11-xkb-utils amd64 7.7+5build4 [172 kB]\n",
            "Get:5 http://archive.ubuntu.com/ubuntu jammy/main amd64 xfonts-encodings all 1:1.0.5-0ubuntu2 [578 kB]\n",
            "Get:6 http://archive.ubuntu.com/ubuntu jammy/main amd64 xfonts-utils amd64 1:7.7+6build2 [94.6 kB]\n",
            "Get:7 http://archive.ubuntu.com/ubuntu jammy/main amd64 xfonts-base all 1:1.0.5 [5,896 kB]\n",
            "Get:8 http://archive.ubuntu.com/ubuntu jammy-updates/main amd64 xserver-common all 2:21.1.4-2ubuntu1.7~22.04.12 [28.7 kB]\n",
            "Get:9 http://archive.ubuntu.com/ubuntu jammy-updates/universe amd64 xvfb amd64 2:21.1.4-2ubuntu1.7~22.04.12 [864 kB]\n",
            "Fetched 7,815 kB in 0s (17.7 MB/s)\n",
            "Selecting previously unselected package libfontenc1:amd64.\r\n",
            "(Reading database ... \r(Reading database ... 5%\r(Reading database ... 10%\r(Reading database ... 15%\r(Reading database ... 20%\r(Reading database ... 25%\r(Reading database ... 30%\r(Reading database ... 35%\r(Reading database ... 40%\r(Reading database ... 45%\r(Reading database ... 50%\r(Reading database ... 55%\r(Reading database ... 60%\r(Reading database ... 65%\r(Reading database ... 70%\r(Reading database ... 75%\r(Reading database ... 80%\r(Reading database ... 85%\r(Reading database ... 90%\r(Reading database ... 95%\r(Reading database ... 100%\r(Reading database ... 124926 files and directories currently installed.)\r\n",
            "Preparing to unpack .../0-libfontenc1_1%3a1.1.4-1build3_amd64.deb ...\r\n",
            "Unpacking libfontenc1:amd64 (1:1.1.4-1build3) ...\r\n",
            "Selecting previously unselected package libxfont2:amd64.\r\n",
            "Preparing to unpack .../1-libxfont2_1%3a2.0.5-1build1_amd64.deb ...\r\n",
            "Unpacking libxfont2:amd64 (1:2.0.5-1build1) ...\r\n",
            "Selecting previously unselected package libxkbfile1:amd64.\r\n",
            "Preparing to unpack .../2-libxkbfile1_1%3a1.1.0-1build3_amd64.deb ...\r\n",
            "Unpacking libxkbfile1:amd64 (1:1.1.0-1build3) ...\r\n",
            "Selecting previously unselected package x11-xkb-utils.\r\n",
            "Preparing to unpack .../3-x11-xkb-utils_7.7+5build4_amd64.deb ...\r\n",
            "Unpacking x11-xkb-utils (7.7+5build4) ...\r\n",
            "Selecting previously unselected package xfonts-encodings.\r\n",
            "Preparing to unpack .../4-xfonts-encodings_1%3a1.0.5-0ubuntu2_all.deb ...\r\n",
            "Unpacking xfonts-encodings (1:1.0.5-0ubuntu2) ...\r\n",
            "Selecting previously unselected package xfonts-utils.\r\n",
            "Preparing to unpack .../5-xfonts-utils_1%3a7.7+6build2_amd64.deb ...\r\n",
            "Unpacking xfonts-utils (1:7.7+6build2) ...\r\n",
            "Selecting previously unselected package xfonts-base.\r\n",
            "Preparing to unpack .../6-xfonts-base_1%3a1.0.5_all.deb ...\r\n",
            "Unpacking xfonts-base (1:1.0.5) ...\r\n",
            "Selecting previously unselected package xserver-common.\r\n",
            "Preparing to unpack .../7-xserver-common_2%3a21.1.4-2ubuntu1.7~22.04.12_all.deb ...\r\n",
            "Unpacking xserver-common (2:21.1.4-2ubuntu1.7~22.04.12) ...\r\n",
            "Selecting previously unselected package xvfb.\r\n",
            "Preparing to unpack .../8-xvfb_2%3a21.1.4-2ubuntu1.7~22.04.12_amd64.deb ...\r\n",
            "Unpacking xvfb (2:21.1.4-2ubuntu1.7~22.04.12) ...\r\n",
            "Setting up libfontenc1:amd64 (1:1.1.4-1build3) ...\r\n",
            "Setting up xfonts-encodings (1:1.0.5-0ubuntu2) ...\r\n",
            "Setting up libxkbfile1:amd64 (1:1.1.0-1build3) ...\r\n",
            "Setting up libxfont2:amd64 (1:2.0.5-1build1) ...\r\n",
            "Setting up x11-xkb-utils (7.7+5build4) ...\r\n",
            "Setting up xfonts-utils (1:7.7+6build2) ...\r\n",
            "Setting up xfonts-base (1:1.0.5) ...\r\n",
            "Setting up xserver-common (2:21.1.4-2ubuntu1.7~22.04.12) ...\r\n",
            "Setting up xvfb (2:21.1.4-2ubuntu1.7~22.04.12) ...\r\n",
            "Processing triggers for man-db (2.10.2-1) ...\r\n",
            "Processing triggers for fontconfig (2.13.1-4.2ubuntu5) ...\r\n",
            "Processing triggers for libc-bin (2.35-0ubuntu3.8) ...\r\n",
            "/sbin/ldconfig.real: /usr/local/lib/libumf.so.0 is not a symbolic link\r\n",
            "\r\n",
            "/sbin/ldconfig.real: /usr/local/lib/libtcm.so.1 is not a symbolic link\r\n",
            "\r\n",
            "/sbin/ldconfig.real: /usr/local/lib/libhwloc.so.15 is not a symbolic link\r\n",
            "\r\n",
            "/sbin/ldconfig.real: /usr/local/lib/libur_adapter_level_zero.so.0 is not a symbolic link\r\n",
            "\r\n",
            "/sbin/ldconfig.real: /usr/local/lib/libtbbbind_2_0.so.3 is not a symbolic link\r\n",
            "\r\n",
            "/sbin/ldconfig.real: /usr/local/lib/libur_adapter_opencl.so.0 is not a symbolic link\r\n",
            "\r\n",
            "/sbin/ldconfig.real: /usr/local/lib/libtbbmalloc_proxy.so.2 is not a symbolic link\r\n",
            "\r\n",
            "/sbin/ldconfig.real: /usr/local/lib/libtbbmalloc.so.2 is not a symbolic link\r\n",
            "\r\n",
            "/sbin/ldconfig.real: /usr/local/lib/libtcm_debug.so.1 is not a symbolic link\r\n",
            "\r\n",
            "/sbin/ldconfig.real: /usr/local/lib/libtbbbind_2_5.so.3 is not a symbolic link\r\n",
            "\r\n",
            "/sbin/ldconfig.real: /usr/local/lib/libur_loader.so.0 is not a symbolic link\r\n",
            "\r\n",
            "/sbin/ldconfig.real: /usr/local/lib/libtbbbind.so.3 is not a symbolic link\r\n",
            "\r\n",
            "/sbin/ldconfig.real: /usr/local/lib/libtbb.so.12 is not a symbolic link\r\n",
            "\r\n"
          ]
        },
        {
          "output_type": "stream",
          "name": "stderr",
          "text": [
            "W: Skipping acquire of configured file 'main/source/Sources' as repository 'https://r2u.stat.illinois.edu/ubuntu jammy InRelease' does not seem to provide it (sources.list entry misspelt?)\n"
          ]
        }
      ],
      "source": [
        "%%bash\n",
        "# Install additional packages for visualization\n",
        "apt-get update\n",
        "apt-get install -y xvfb\n",
        "apt-get install python-opengl > /dev/null 2>&1\n",
        "pip install pyvirtualdisplay > /dev/null 2>&1\n",
        "pip install git+https://github.com/tensorflow/docs > /dev/null 2>&1"
      ]
    },
    {
      "cell_type": "code",
      "execution_count": 3,
      "metadata": {
        "id": "tT4N3qYviUJr",
        "outputId": "77a71a8b-0bd1-4c3b-c32f-921802d06273",
        "colab": {
          "base_uri": "https://localhost:8080/"
        }
      },
      "outputs": [
        {
          "output_type": "stream",
          "name": "stderr",
          "text": [
            "/usr/local/lib/python3.11/dist-packages/gym/core.py:317: DeprecationWarning: \u001b[33mWARN: Initializing wrapper in old step API which returns one bool instead of two. It is recommended to set `new_step_api=True` to use new step API. This will be the default behaviour in future.\u001b[0m\n",
            "  deprecation(\n",
            "/usr/local/lib/python3.11/dist-packages/gym/wrappers/step_api_compatibility.py:39: DeprecationWarning: \u001b[33mWARN: Initializing environment in old step API which returns one bool instead of two. It is recommended to set `new_step_api=True` to use new step API. This will be the default behaviour in future.\u001b[0m\n",
            "  deprecation(\n"
          ]
        }
      ],
      "source": [
        "new_step_api=True\n",
        "import collections\n",
        "import gym\n",
        "import numpy as np\n",
        "import statistics\n",
        "import tensorflow as tf\n",
        "import tqdm\n",
        "\n",
        "from matplotlib import pyplot as plt\n",
        "from tensorflow.keras import layers\n",
        "from typing import Any, List, Sequence, Tuple\n",
        "\n",
        "\n",
        "# Create the environment\n",
        "env = gym.make(\"CartPole-v1\")\n",
        "\n",
        "# Set seed for experiment reproducibility\n",
        "seed = 42\n",
        "env.reset(seed=seed)\n",
        "tf.random.set_seed(seed)\n",
        "np.random.seed(seed)\n",
        "\n",
        "# Small epsilon value for stabilizing division operations\n",
        "eps = np.finfo(np.float32).eps.item()"
      ]
    },
    {
      "cell_type": "markdown",
      "metadata": {
        "id": "AOUCe2D0iUJu"
      },
      "source": [
        "## The model\n",
        "\n",
        "The *Actor* and *Critic* will be modeled using one neural network that generates the action probabilities and Critic value respectively. This tutorial uses model subclassing to define the model.\n",
        "\n",
        "During the forward pass, the model will take in the state as the input and will output both action probabilities and critic value $V$, which models the state-dependent [value function](https://spinningup.openai.com/en/latest/spinningup/rl_intro.html#value-functions). The goal is to train a model that chooses actions based on a policy $\\pi$ that maximizes expected [return](https://spinningup.openai.com/en/latest/spinningup/rl_intro.html#reward-and-return).\n",
        "\n",
        "For `CartPole-v0`, there are four values representing the state: cart position, cart-velocity, pole angle and pole velocity respectively. The agent can take two actions to push the cart left (`0`) and right (`1`), respectively.\n",
        "\n",
        "Refer to [Gym's Cart Pole documentation page](https://www.gymlibrary.dev/environments/classic_control/cart_pole/) and [_Neuronlike adaptive elements that can solve difficult learning control problems_](http://www.derongliu.org/adp/adp-cdrom/Barto1983.pdf) by Barto, Sutton and Anderson (1983) for more information.\n"
      ]
    },
    {
      "cell_type": "code",
      "execution_count": 4,
      "metadata": {
        "id": "aXKbbMC-kmuv"
      },
      "outputs": [],
      "source": [
        "class ActorCritic(tf.keras.Model):\n",
        "  \"\"\"Combined actor-critic network.\"\"\"\n",
        "\n",
        "  def __init__(\n",
        "      self,\n",
        "      num_actions: int,\n",
        "      num_hidden_units: int):\n",
        "    \"\"\"Initialize.\"\"\"\n",
        "    super().__init__()\n",
        "\n",
        "    self.common = layers.Dense(num_hidden_units, activation=\"relu\")\n",
        "    self.actor = layers.Dense(num_actions)\n",
        "    self.critic = layers.Dense(1)\n",
        "\n",
        "  def call(self, inputs: tf.Tensor) -> Tuple[tf.Tensor, tf.Tensor]:\n",
        "    x = self.common(inputs)\n",
        "    return self.actor(x), self.critic(x)"
      ]
    },
    {
      "cell_type": "code",
      "execution_count": 5,
      "metadata": {
        "id": "nWyxJgjLn68c"
      },
      "outputs": [],
      "source": [
        "num_actions = env.action_space.n  # 2\n",
        "num_hidden_units = 128\n",
        "\n",
        "model = ActorCritic(num_actions, num_hidden_units)"
      ]
    },
    {
      "cell_type": "markdown",
      "metadata": {
        "id": "hk92njFziUJw"
      },
      "source": [
        "## Train the agent\n",
        "\n",
        "To train the agent, you will follow these steps:\n",
        "\n",
        "1. Run the agent on the environment to collect training data per episode.\n",
        "2. Compute expected return at each time step.\n",
        "3. Compute the loss for the combined Actor-Critic model.\n",
        "4. Compute gradients and update network parameters.\n",
        "5. Repeat 1-4 until either success criterion or max episodes has been reached.\n"
      ]
    },
    {
      "cell_type": "markdown",
      "metadata": {
        "id": "R2nde2XDs8Gh"
      },
      "source": [
        "### 1. Collect training data\n",
        "\n",
        "As in supervised learning, in order to train the actor-critic model, you need\n",
        "to have training data. However, in order to collect such data, the model would\n",
        "need to be \"run\" in the environment.\n",
        "\n",
        "Training data is collected for each episode. Then at each time step, the model's forward pass will be run on the environment's state in order to generate action probabilities and the critic value based on the current policy parameterized by the model's weights.\n",
        "\n",
        "The next action will be sampled from the action probabilities generated by the model, which would then be applied to the environment, causing the next state and reward to be generated.\n",
        "\n",
        "This process is implemented in the `run_episode` function, which uses TensorFlow operations so that it can later be compiled into a TensorFlow graph for faster training. Note that `tf.TensorArray`s were used to support Tensor iteration on variable length arrays."
      ]
    },
    {
      "cell_type": "code",
      "execution_count": 6,
      "metadata": {
        "id": "5URrbGlDSAGx"
      },
      "outputs": [],
      "source": [
        "# Wrap OpenAI Gym's `env.step` call as an operation in a TensorFlow function.\n",
        "# This would allow it to be included in a callable TensorFlow graph.\n",
        "\n",
        "def env_step(action: np.ndarray) -> Tuple[np.ndarray, np.ndarray, np.ndarray]:\n",
        "  \"\"\"Returns state, reward and done flag given an action.\"\"\"\n",
        "\n",
        "  state, reward, done, _ = env.step(action)\n",
        "  return (state.astype(np.float32),\n",
        "          np.array(reward, np.int32),\n",
        "          np.array(done, np.int32))\n",
        "\n",
        "\n",
        "def tf_env_step(action: tf.Tensor) -> List[tf.Tensor]:\n",
        "  return tf.numpy_function(env_step, [action],\n",
        "                           [tf.float32, tf.int32, tf.int32])\n"
      ]
    },
    {
      "cell_type": "code",
      "execution_count": 7,
      "metadata": {
        "id": "a4qVRV063Cl9"
      },
      "outputs": [],
      "source": [
        "def run_episode(\n",
        "    initial_state: tf.Tensor,\n",
        "    model: tf.keras.Model,\n",
        "    max_steps: int) -> Tuple[tf.Tensor, tf.Tensor, tf.Tensor]:\n",
        "  \"\"\"Runs a single episode to collect training data.\"\"\"\n",
        "\n",
        "  action_probs = tf.TensorArray(dtype=tf.float32, size=0, dynamic_size=True)\n",
        "  values = tf.TensorArray(dtype=tf.float32, size=0, dynamic_size=True)\n",
        "  rewards = tf.TensorArray(dtype=tf.int32, size=0, dynamic_size=True)\n",
        "\n",
        "  initial_state_shape = initial_state.shape\n",
        "  state = initial_state\n",
        "\n",
        "  for t in tf.range(max_steps):\n",
        "    # Convert state into a batched tensor (batch size = 1)\n",
        "    state = tf.expand_dims(state, 0)\n",
        "\n",
        "    # Run the model and to get action probabilities and critic value\n",
        "    action_logits_t, value = model(state)\n",
        "\n",
        "    # Sample next action from the action probability distribution\n",
        "    action = tf.random.categorical(action_logits_t, 1)[0, 0]\n",
        "    action_probs_t = tf.nn.softmax(action_logits_t)\n",
        "\n",
        "    # Store critic values\n",
        "    values = values.write(t, tf.squeeze(value))\n",
        "\n",
        "    # Store log probability of the action chosen\n",
        "    action_probs = action_probs.write(t, action_probs_t[0, action])\n",
        "\n",
        "    # Apply action to the environment to get next state and reward\n",
        "    state, reward, done = tf_env_step(action)\n",
        "    state.set_shape(initial_state_shape)\n",
        "\n",
        "    # Store reward\n",
        "    rewards = rewards.write(t, reward)\n",
        "\n",
        "    if tf.cast(done, tf.bool):\n",
        "      break\n",
        "\n",
        "  action_probs = action_probs.stack()\n",
        "  values = values.stack()\n",
        "  rewards = rewards.stack()\n",
        "\n",
        "  return action_probs, values, rewards\n"
      ]
    },
    {
      "cell_type": "markdown",
      "metadata": {
        "id": "lBnIHdz22dIx"
      },
      "source": [
        "### 2. Compute the expected returns\n",
        "\n",
        "The sequence of rewards for each timestep $t$, $\\{r_{t}\\}^{T}_{t=1}$ collected during one episode is converted into a sequence of expected returns $\\{G_{t}\\}^{T}_{t=1}$ in which the sum of rewards is taken from the current timestep $t$ to $T$ and each reward is multiplied with an exponentially decaying discount factor $\\gamma$:\n",
        "\n",
        "$$G_{t} = \\sum^{T}_{t'=t} \\gamma^{t'-t}r_{t'}$$\n",
        "\n",
        "Since $\\gamma\\in(0,1)$, rewards further out from the current timestep are given less weight.\n",
        "\n",
        "Intuitively, expected return simply implies that rewards now are better than rewards later. In a mathematical sense, it is to ensure that the sum of the rewards converges.\n",
        "\n",
        "To stabilize training, the resulting sequence of returns is also standardized (i.e. to have zero mean and unit standard deviation).\n"
      ]
    },
    {
      "cell_type": "code",
      "execution_count": 8,
      "metadata": {
        "id": "jpEwFyl315dl"
      },
      "outputs": [],
      "source": [
        "def get_expected_return(\n",
        "    rewards: tf.Tensor,\n",
        "    gamma: float,\n",
        "    standardize: bool = True) -> tf.Tensor:\n",
        "  \"\"\"Compute expected returns per timestep.\"\"\"\n",
        "\n",
        "  n = tf.shape(rewards)[0]\n",
        "  returns = tf.TensorArray(dtype=tf.float32, size=n)\n",
        "\n",
        "  # Start from the end of `rewards` and accumulate reward sums\n",
        "  # into the `returns` array\n",
        "  rewards = tf.cast(rewards[::-1], dtype=tf.float32)\n",
        "  discounted_sum = tf.constant(0.0)\n",
        "  discounted_sum_shape = discounted_sum.shape\n",
        "  for i in tf.range(n):\n",
        "    reward = rewards[i]\n",
        "    discounted_sum = reward + gamma * discounted_sum\n",
        "    discounted_sum.set_shape(discounted_sum_shape)\n",
        "    returns = returns.write(i, discounted_sum)\n",
        "  returns = returns.stack()[::-1]\n",
        "\n",
        "  if standardize:\n",
        "    returns = ((returns - tf.math.reduce_mean(returns)) /\n",
        "               (tf.math.reduce_std(returns) + eps))\n",
        "\n",
        "  return returns\n"
      ]
    },
    {
      "cell_type": "markdown",
      "metadata": {
        "id": "qhr50_Czxazw"
      },
      "source": [
        "### 3. The Actor-Critic loss\n",
        "\n",
        "Since you're using a hybrid Actor-Critic model, the chosen loss function is a combination of Actor and Critic losses for training, as shown below:\n",
        "\n",
        "$$L = L_{actor} + L_{critic}$$"
      ]
    },
    {
      "cell_type": "markdown",
      "metadata": {
        "id": "nOQIJuG1xdTH"
      },
      "source": [
        "#### The Actor loss\n",
        "\n",
        "The Actor loss is based on [policy gradients with the Critic as a state dependent baseline](https://www.youtube.com/watch?v=EKqxumCuAAY&t=62m23s) and computed with single-sample (per-episode) estimates.\n",
        "\n",
        "$$L_{actor} = -\\sum^{T}_{t=1} \\log\\pi_{\\theta}(a_{t} | s_{t})[G(s_{t}, a_{t})  - V^{\\pi}_{\\theta}(s_{t})]$$\n",
        "\n",
        "where:\n",
        "- $T$: the number of timesteps per episode, which can vary per episode\n",
        "- $s_{t}$: the state at timestep $t$\n",
        "- $a_{t}$: chosen action at timestep $t$ given state $s$\n",
        "- $\\pi_{\\theta}$: is the policy (Actor) parameterized by $\\theta$\n",
        "- $V^{\\pi}_{\\theta}$: is the value function (Critic) also parameterized by $\\theta$\n",
        "- $G = G_{t}$: the expected return for a given state, action pair at timestep $t$\n",
        "\n",
        "A negative term is added to the sum since the idea is to maximize the probabilities of actions yielding higher rewards by minimizing the combined loss.\n",
        "\n",
        "<br>"
      ]
    },
    {
      "cell_type": "markdown",
      "metadata": {
        "id": "Y304O4OAxiAv"
      },
      "source": [
        "##### The Advantage\n",
        "\n",
        "The $G - V$ term in our $L_{actor}$ formulation is called the [Advantage](https://spinningup.openai.com/en/latest/spinningup/rl_intro.html#advantage-functions), which indicates how much better an action is given a particular state over a random action selected according to the policy $\\pi$ for that state.\n",
        "\n",
        "While it's possible to exclude a baseline, this may result in high variance during training. And the nice thing about choosing the critic $V$ as a baseline is that it trained to be as close as possible to $G$, leading to a lower variance.\n",
        "\n",
        "In addition, without the Critic, the algorithm would try to increase probabilities for actions taken on a particular state based on expected return, which may not make much of a difference if the relative probabilities between actions remain the same.\n",
        "\n",
        "For instance, suppose that two actions for a given state would yield the same expected return. Without the Critic, the algorithm would try to raise the probability of these actions based on the objective $J$. With the Critic, it may turn out that there's no Advantage ($G - V = 0$), and thus no benefit gained in increasing the actions' probabilities and the algorithm would set the gradients to zero.\n",
        "\n",
        "<br>"
      ]
    },
    {
      "cell_type": "markdown",
      "metadata": {
        "id": "1hrPLrgGxlvb"
      },
      "source": [
        "#### The Critic loss\n",
        "\n",
        "Training $V$ to be as close possible to $G$ can be set up as a regression problem with the following loss function:\n",
        "\n",
        "$$L_{critic} = L_{\\delta}(G, V^{\\pi}_{\\theta})$$\n",
        "\n",
        "where $L_{\\delta}$ is the [Huber loss](https://en.wikipedia.org/wiki/Huber_loss), which is less sensitive to outliers in data than squared-error loss.\n"
      ]
    },
    {
      "cell_type": "code",
      "execution_count": 9,
      "metadata": {
        "id": "9EXwbEez6n9m"
      },
      "outputs": [],
      "source": [
        "huber_loss = tf.keras.losses.Huber(reduction=tf.keras.losses.Reduction.SUM)\n",
        "\n",
        "def compute_loss(\n",
        "    action_probs: tf.Tensor,\n",
        "    values: tf.Tensor,\n",
        "    returns: tf.Tensor) -> tf.Tensor:\n",
        "  \"\"\"Computes the combined actor-critic loss.\"\"\"\n",
        "\n",
        "  advantage = returns - values\n",
        "\n",
        "  action_log_probs = tf.math.log(action_probs)\n",
        "  actor_loss = -tf.math.reduce_sum(action_log_probs * advantage)\n",
        "\n",
        "  critic_loss = huber_loss(values, returns)\n",
        "\n",
        "  return actor_loss + critic_loss\n"
      ]
    },
    {
      "cell_type": "markdown",
      "metadata": {
        "id": "HSYkQOmRfV75"
      },
      "source": [
        "### 4. Define the training step to update parameters\n",
        "\n",
        "All of the steps above are combined into a training step that is run every episode. All steps leading up to the loss function are executed with the `tf.GradientTape` context to enable automatic differentiation.\n",
        "\n",
        "This tutorial uses the Adam optimizer to apply the gradients to the model parameters.\n",
        "\n",
        "The sum of the undiscounted rewards, `episode_reward`, is also computed in this step. This value will be used later on to evaluate if the success criterion is met.\n",
        "\n",
        "The `tf.function` context is applied to the `train_step` function so that it can be compiled into a callable TensorFlow graph, which can lead to 10x speedup in training.\n"
      ]
    },
    {
      "cell_type": "code",
      "execution_count": 10,
      "metadata": {
        "id": "QoccrkF3IFCg"
      },
      "outputs": [],
      "source": [
        "optimizer = tf.keras.optimizers.Adam(learning_rate=0.01)\n",
        "\n",
        "\n",
        "@tf.function\n",
        "def train_step(\n",
        "    initial_state: tf.Tensor,\n",
        "    model: tf.keras.Model,\n",
        "    optimizer: tf.keras.optimizers.Optimizer,\n",
        "    gamma: float,\n",
        "    max_steps_per_episode: int) -> tf.Tensor:\n",
        "  \"\"\"Runs a model training step.\"\"\"\n",
        "\n",
        "  with tf.GradientTape() as tape:\n",
        "\n",
        "    # Run the model for one episode to collect training data\n",
        "    action_probs, values, rewards = run_episode(\n",
        "        initial_state, model, max_steps_per_episode)\n",
        "\n",
        "    # Calculate expected returns\n",
        "    returns = get_expected_return(rewards, gamma)\n",
        "\n",
        "    # Convert training data to appropriate TF tensor shapes\n",
        "    action_probs, values, returns = [\n",
        "        tf.expand_dims(x, 1) for x in [action_probs, values, returns]]\n",
        "\n",
        "    # Calculating loss values to update our network\n",
        "    loss = compute_loss(action_probs, values, returns)\n",
        "\n",
        "  # Compute the gradients from the loss\n",
        "  grads = tape.gradient(loss, model.trainable_variables)\n",
        "\n",
        "  # Apply the gradients to the model's parameters\n",
        "  optimizer.apply_gradients(zip(grads, model.trainable_variables))\n",
        "\n",
        "  episode_reward = tf.math.reduce_sum(rewards)\n",
        "\n",
        "  return episode_reward\n"
      ]
    },
    {
      "cell_type": "markdown",
      "metadata": {
        "id": "HFvZiDoAflGK"
      },
      "source": [
        "### 5. Run the training loop\n",
        "\n",
        "Training is executed by running the training step until either the success criterion or maximum number of episodes is reached.  \n",
        "\n",
        "A running record of episode rewards is kept in a queue. Once 100 trials are reached, the oldest reward is removed at the left (tail) end of the queue and the newest one is added at the head (right). A running sum of the rewards is also maintained for computational efficiency.\n",
        "\n",
        "Depending on your runtime, training can finish in less than a minute."
      ]
    },
    {
      "cell_type": "code",
      "execution_count": 11,
      "metadata": {
        "id": "kbmBxnzLiUJx",
        "outputId": "09f08bac-2977-4c1d-cd63-6b3b9a2c97b4",
        "colab": {
          "base_uri": "https://localhost:8080/"
        }
      },
      "outputs": [
        {
          "output_type": "stream",
          "name": "stderr",
          "text": [
            "  0%|          | 0/10000 [00:00<?, ?it/s]/usr/local/lib/python3.11/dist-packages/gym/utils/passive_env_checker.py:241: DeprecationWarning: `np.bool8` is a deprecated alias for `np.bool_`.  (Deprecated NumPy 1.24)\n",
            "  if not isinstance(terminated, (bool, np.bool8)):\n",
            "Episode 382:   4%|▍         | 382/10000 [00:40<17:02,  9.41it/s, episode_reward=203, running_reward=195]"
          ]
        },
        {
          "output_type": "stream",
          "name": "stdout",
          "text": [
            "\n",
            "Solved at episode 382: average reward: 195.30!\n",
            "CPU times: user 41.9 s, sys: 3.43 s, total: 45.3 s\n",
            "Wall time: 40.6 s\n"
          ]
        },
        {
          "output_type": "stream",
          "name": "stderr",
          "text": [
            "\n"
          ]
        }
      ],
      "source": [
        "%%time\n",
        "\n",
        "min_episodes_criterion = 100\n",
        "max_episodes = 10000\n",
        "max_steps_per_episode = 1000\n",
        "\n",
        "# Cartpole-v0 is considered solved if average reward is >= 195 over 100\n",
        "# consecutive trials\n",
        "reward_threshold = 195\n",
        "running_reward = 0\n",
        "\n",
        "# Discount factor for future rewards\n",
        "gamma = 0.99\n",
        "\n",
        "# Keep last episodes reward\n",
        "episodes_reward: collections.deque = collections.deque(maxlen=min_episodes_criterion)\n",
        "\n",
        "with tqdm.trange(max_episodes) as t:\n",
        "  for i in t:\n",
        "    initial_state = tf.constant(env.reset(), dtype=tf.float32)\n",
        "    episode_reward = int(train_step(\n",
        "        initial_state, model, optimizer, gamma, max_steps_per_episode))\n",
        "\n",
        "    episodes_reward.append(episode_reward)\n",
        "    running_reward = statistics.mean(episodes_reward)\n",
        "\n",
        "    t.set_description(f'Episode {i}')\n",
        "    t.set_postfix(\n",
        "        episode_reward=episode_reward, running_reward=running_reward)\n",
        "\n",
        "    # Show average episode reward every 10 episodes\n",
        "    if i % 10 == 0:\n",
        "      pass # print(f'Episode {i}: average reward: {avg_reward}')\n",
        "\n",
        "    if running_reward > reward_threshold and i >= min_episodes_criterion:\n",
        "        break\n",
        "\n",
        "print(f'\\nSolved at episode {i}: average reward: {running_reward:.2f}!')\n"
      ]
    },
    {
      "cell_type": "markdown",
      "metadata": {
        "id": "ru8BEwS1EmAv"
      },
      "source": [
        "## Visualization\n",
        "\n",
        "After training, it would be good to visualize how the model performs in the environment. You can run the cells below to generate a GIF animation of one episode run of the model. Note that additional packages need to be installed for Gym to render the environment's images correctly in Colab."
      ]
    },
    {
      "cell_type": "code",
      "execution_count": 12,
      "metadata": {
        "id": "qbIMMkfmRHyC",
        "outputId": "dad23a8c-43a6-4c38-b9c3-5014435f6bad",
        "colab": {
          "base_uri": "https://localhost:8080/"
        }
      },
      "outputs": [
        {
          "output_type": "stream",
          "name": "stderr",
          "text": [
            "/usr/local/lib/python3.11/dist-packages/gym/core.py:43: DeprecationWarning: \u001b[33mWARN: The argument mode in render method is deprecated; use render_mode during environment initialization instead.\n",
            "See here for more information: https://www.gymlibrary.ml/content/api/\u001b[0m\n",
            "  deprecation(\n",
            "/usr/local/lib/python3.11/dist-packages/pygame/pkgdata.py:25: DeprecationWarning: pkg_resources is deprecated as an API. See https://setuptools.pypa.io/en/latest/pkg_resources.html\n",
            "  from pkg_resources import resource_stream, resource_exists\n",
            "/usr/local/lib/python3.11/dist-packages/pkg_resources/__init__.py:3154: DeprecationWarning: Deprecated call to `pkg_resources.declare_namespace('google')`.\n",
            "Implementing implicit namespace packages (as specified in PEP 420) is preferred to `pkg_resources.declare_namespace`. See https://setuptools.pypa.io/en/latest/references/keywords.html#keyword-namespace-packages\n",
            "  declare_namespace(pkg)\n",
            "/usr/local/lib/python3.11/dist-packages/pkg_resources/__init__.py:3154: DeprecationWarning: Deprecated call to `pkg_resources.declare_namespace('google.cloud')`.\n",
            "Implementing implicit namespace packages (as specified in PEP 420) is preferred to `pkg_resources.declare_namespace`. See https://setuptools.pypa.io/en/latest/references/keywords.html#keyword-namespace-packages\n",
            "  declare_namespace(pkg)\n",
            "/usr/local/lib/python3.11/dist-packages/pkg_resources/__init__.py:3154: DeprecationWarning: Deprecated call to `pkg_resources.declare_namespace('sphinxcontrib')`.\n",
            "Implementing implicit namespace packages (as specified in PEP 420) is preferred to `pkg_resources.declare_namespace`. See https://setuptools.pypa.io/en/latest/references/keywords.html#keyword-namespace-packages\n",
            "  declare_namespace(pkg)\n",
            "/usr/local/lib/python3.11/dist-packages/gym/core.py:43: DeprecationWarning: \u001b[33mWARN: The argument mode in render method is deprecated; use render_mode during environment initialization instead.\n",
            "See here for more information: https://www.gymlibrary.ml/content/api/\u001b[0m\n",
            "  deprecation(\n"
          ]
        }
      ],
      "source": [
        "# Render an episode and save as a GIF file\n",
        "\n",
        "from IPython import display as ipythondisplay\n",
        "from PIL import Image\n",
        "from pyvirtualdisplay import Display\n",
        "\n",
        "\n",
        "display = Display(visible=0, size=(400, 300))\n",
        "display.start()\n",
        "\n",
        "\n",
        "def render_episode(env: gym.Env, model: tf.keras.Model, max_steps: int):\n",
        "  screen = env.render(mode='rgb_array')\n",
        "  im = Image.fromarray(screen)\n",
        "\n",
        "  images = [im]\n",
        "\n",
        "  state = tf.constant(env.reset(), dtype=tf.float32)\n",
        "  for i in range(1, max_steps + 1):\n",
        "    state = tf.expand_dims(state, 0)\n",
        "    action_probs, _ = model(state)\n",
        "    action = np.argmax(np.squeeze(action_probs))\n",
        "\n",
        "    state, _, done, _ = env.step(action)\n",
        "    state = tf.constant(state, dtype=tf.float32)\n",
        "\n",
        "    # Render screen every 10 steps\n",
        "    if i % 10 == 0:\n",
        "      screen = env.render(mode='rgb_array')\n",
        "      images.append(Image.fromarray(screen))\n",
        "\n",
        "    if done:\n",
        "      break\n",
        "\n",
        "  return images\n",
        "\n",
        "\n",
        "# Save GIF image\n",
        "images = render_episode(env, model, max_steps_per_episode)\n",
        "image_file = 'cartpole-v1.gif'\n",
        "# loop=0: loop forever, duration=1: play each frame for 1ms\n",
        "images[0].save(\n",
        "    image_file, save_all=True, append_images=images[1:], loop=0, duration=1)\n"
      ]
    },
    {
      "cell_type": "code",
      "execution_count": 13,
      "metadata": {
        "id": "TLd720SejKmf",
        "outputId": "44ed7f1d-6fbc-41d9-dec0-45466ed625b9",
        "colab": {
          "base_uri": "https://localhost:8080/",
          "height": 421
        }
      },
      "outputs": [
        {
          "output_type": "execute_result",
          "data": {
            "text/plain": [
              "<IPython.core.display.HTML object>"
            ],
            "text/html": [
              "<img src=\"data:image/gif;base64,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\"/>"
            ]
          },
          "metadata": {},
          "execution_count": 13
        }
      ],
      "source": [
        "import tensorflow_docs.vis.embed as embed\n",
        "embed.embed_file(image_file)\n"
      ]
    },
    {
      "cell_type": "markdown",
      "metadata": {
        "id": "lnq9Hzo1Po6X"
      },
      "source": [
        "## Next steps\n",
        "\n",
        "This tutorial demonstrated how to implement the Actor-Critic method using Tensorflow.\n",
        "\n",
        "As a next step, you could try training a model on a different environment in Gym.\n",
        "\n",
        "For additional information regarding Actor-Critic methods and the Cartpole-v0 problem, you may refer to the following resources:\n",
        "\n",
        "- [The Actor-Critic method](https://hal.inria.fr/hal-00840470/document)\n",
        "- [The Actor-Critic lecture (CAL)](https://www.youtube.com/watch?v=EKqxumCuAAY&list=PLkFD6_40KJIwhWJpGazJ9VSj9CFMkb79A&index=7&t=0s)\n",
        "- [Cart Pole learning control problem \\[Barto, et al. 1983\\]](http://www.derongliu.org/adp/adp-cdrom/Barto1983.pdf)\n",
        "\n",
        "For more reinforcement learning examples in TensorFlow, you can check the following resources:\n",
        "- [Reinforcement learning code examples (keras.io)](https://keras.io/examples/rl/)\n",
        "- [TF-Agents reinforcement learning library](https://www.tensorflow.org/agents)\n"
      ]
    }
  ],
  "metadata": {
    "colab": {
      "collapsed_sections": [
        "_jQ1tEQCxwRx"
      ],
      "name": "actor_critic.ipynb",
      "provenance": [],
      "toc_visible": true,
      "include_colab_link": true
    },
    "kernelspec": {
      "display_name": "Python 3",
      "name": "python3"
    }
  },
  "nbformat": 4,
  "nbformat_minor": 0
}