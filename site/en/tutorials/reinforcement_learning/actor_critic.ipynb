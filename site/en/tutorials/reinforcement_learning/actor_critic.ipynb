{
  "cells": [
    {
      "cell_type": "markdown",
      "metadata": {
        "id": "view-in-github",
        "colab_type": "text"
      },
      "source": [
        "<a href=\"https://colab.research.google.com/github/moonman5/swd_project/blob/main/site/en/tutorials/reinforcement_learning/actor_critic.ipynb\" target=\"_parent\"><img src=\"https://colab.research.google.com/assets/colab-badge.svg\" alt=\"Open In Colab\"/></a>"
      ]
    },
    {
      "cell_type": "markdown",
      "metadata": {
        "id": "_jQ1tEQCxwRx"
      },
      "source": [
        "##### Copyright 2020 The TensorFlow Authors."
      ]
    },
    {
      "cell_type": "code",
      "execution_count": null,
      "metadata": {
        "cellView": "form",
        "id": "V_sgB_5dx1f1"
      },
      "outputs": [],
      "source": [
        "#@title Licensed under the Apache License, Version 2.0 (the \"License\");\n",
        "# you may not use this file except in compliance with the License.\n",
        "# You may obtain a copy of the License at\n",
        "#\n",
        "# https://www.apache.org/licenses/LICENSE-2.0\n",
        "#\n",
        "# Unless required by applicable law or agreed to in writing, software\n",
        "# distributed under the License is distributed on an \"AS IS\" BASIS,\n",
        "# WITHOUT WARRANTIES OR CONDITIONS OF ANY KIND, either express or implied.\n",
        "# See the License for the specific language governing permissions and\n",
        "# limitations under the License."
      ]
    },
    {
      "cell_type": "markdown",
      "metadata": {
        "id": "p62G8M_viUJp"
      },
      "source": [
        "# Playing CartPole with the Actor-Critic method\n"
      ]
    },
    {
      "cell_type": "markdown",
      "metadata": {
        "id": "-mJ2i6jvZ3sK"
      },
      "source": [
        "<table class=\"tfo-notebook-buttons\" align=\"left\">\n",
        "  <td>\n",
        "    <a target=\"_blank\" href=\"https://www.tensorflow.org/tutorials/reinforcement_learning/actor_critic\">\n",
        "    <img src=\"https://www.tensorflow.org/images/tf_logo_32px.png\" />\n",
        "    View on TensorFlow.org</a>\n",
        "  </td>\n",
        "  <td>\n",
        "    <a target=\"_blank\" href=\"https://colab.research.google.com/github/tensorflow/docs/blob/master/site/en/tutorials/reinforcement_learning/actor_critic.ipynb\">\n",
        "    <img src=\"https://www.tensorflow.org/images/colab_logo_32px.png\" />\n",
        "    Run in Google Colab</a>\n",
        "  </td>\n",
        "  <td>\n",
        "    <a target=\"_blank\" href=\"https://github.com/tensorflow/docs/blob/master/site/en/tutorials/reinforcement_learning/actor_critic.ipynb\">\n",
        "    <img src=\"https://www.tensorflow.org/images/GitHub-Mark-32px.png\" />\n",
        "    View source on GitHub</a>\n",
        "  </td>\n",
        "  <td>\n",
        "    <a href=\"https://storage.googleapis.com/tensorflow_docs/docs/site/en/tutorials/reinforcement_learning/actor_critic.ipynb\"><img src=\"https://www.tensorflow.org/images/download_logo_32px.png\" />Download notebook</a>\n",
        "  </td>\n",
        "</table>"
      ]
    },
    {
      "cell_type": "markdown",
      "metadata": {
        "id": "kFgN7h_wiUJq"
      },
      "source": [
        "This tutorial demonstrates how to implement the [Actor-Critic](https://papers.nips.cc/paper/1786-actor-critic-algorithms.pdf) method using TensorFlow to train an agent on the [Open AI Gym](https://www.gymlibrary.dev/) [`CartPole-v0`](https://www.gymlibrary.dev/environments/classic_control/cart_pole/) environment.\n",
        "The reader is assumed to have some familiarity with [policy gradient methods](https://papers.nips.cc/paper/1713-policy-gradient-methods-for-reinforcement-learning-with-function-approximation.pdf) of [(deep) reinforcement learning](https://en.wikipedia.org/wiki/Deep_reinforcement_learning).\n"
      ]
    },
    {
      "cell_type": "markdown",
      "metadata": {
        "id": "_kA10ZKRR0hi"
      },
      "source": [
        "**Actor-Critic methods**\n",
        "\n",
        "Actor-Critic methods are [temporal difference (TD) learning](https://en.wikipedia.org/wiki/Temporal_difference_learning) methods that represent the policy function independent of the value function.\n",
        "\n",
        "A policy function (or policy) returns a probability distribution over actions that the agent can take based on the given state.\n",
        "A value function determines the expected return for an agent starting at a given state and acting according to a particular policy forever after.\n",
        "\n",
        "In the Actor-Critic method, the policy is referred to as the *actor* that proposes a set of possible actions given a state, and the estimated value function is referred to as the *critic*, which evaluates actions taken by the *actor* based on the given policy.\n",
        "\n",
        "In this tutorial, both the *Actor* and *Critic* will be represented using one neural network with two outputs.\n"
      ]
    },
    {
      "cell_type": "markdown",
      "metadata": {
        "id": "rBfiafKSRs2k"
      },
      "source": [
        "**`CartPole-v0`**\n",
        "\n",
        "In the [`CartPole-v0` environment](https://www.gymlibrary.dev/environments/classic_control/cart_pole/), a pole is attached to a cart moving along a frictionless track.\n",
        "The pole starts upright and the goal of the agent is to prevent it from falling over by applying a force of `-1` or `+1` to the cart.\n",
        "A reward of `+1` is given for every time step the pole remains upright.\n",
        "An episode ends when: 1) the pole is more than 15 degrees from vertical; or 2) the cart moves more than 2.4 units from the center.\n",
        "\n",
        "<center>\n",
        "  <figure>\n",
        "    <image src=\"https://tensorflow.org/tutorials/reinforcement_learning/images/cartpole-v0.gif\">\n",
        "    <figcaption>\n",
        "      Trained actor-critic model in Cartpole-v0 environment\n",
        "    </figcaption>\n",
        "  </figure>\n",
        "</center>\n"
      ]
    },
    {
      "cell_type": "markdown",
      "metadata": {
        "id": "XSNVK0AeRoJd"
      },
      "source": [
        "The problem is considered \"solved\" when the average total reward for the episode reaches 195 over 100 consecutive trials."
      ]
    },
    {
      "cell_type": "markdown",
      "metadata": {
        "id": "glLwIctHiUJq"
      },
      "source": [
        "## Setup\n",
        "\n",
        "Import necessary packages and configure global settings.\n"
      ]
    },
    {
      "cell_type": "code",
      "execution_count": 1,
      "metadata": {
        "id": "13l6BbxKhCKp",
        "colab": {
          "base_uri": "https://localhost:8080/"
        },
        "outputId": "bfb64bd5-57d1-49c2-a700-02d814608dd9"
      },
      "outputs": [
        {
          "output_type": "stream",
          "name": "stdout",
          "text": [
            "Requirement already satisfied: gym in /usr/local/lib/python3.11/dist-packages (0.25.2)\n",
            "Requirement already satisfied: numpy>=1.18.0 in /usr/local/lib/python3.11/dist-packages (from gym) (1.26.4)\n",
            "Requirement already satisfied: cloudpickle>=1.2.0 in /usr/local/lib/python3.11/dist-packages (from gym) (3.1.1)\n",
            "Requirement already satisfied: gym_notices>=0.0.4 in /usr/local/lib/python3.11/dist-packages (from gym) (0.0.8)\n",
            "Collecting pyglet\n",
            "  Downloading pyglet-2.1.2-py3-none-any.whl.metadata (7.7 kB)\n",
            "Downloading pyglet-2.1.2-py3-none-any.whl (961 kB)\n",
            "\u001b[2K   \u001b[90m━━━━━━━━━━━━━━━━━━━━━━━━━━━━━━━━━━━━━━━━\u001b[0m \u001b[32m962.0/962.0 kB\u001b[0m \u001b[31m11.5 MB/s\u001b[0m eta \u001b[36m0:00:00\u001b[0m\n",
            "\u001b[?25hInstalling collected packages: pyglet\n",
            "Successfully installed pyglet-2.1.2\n"
          ]
        }
      ],
      "source": [
        "!pip install gym\n",
        "!pip install pyglet"
      ]
    },
    {
      "cell_type": "code",
      "execution_count": 2,
      "metadata": {
        "id": "WBeQhPi2S4m5",
        "colab": {
          "base_uri": "https://localhost:8080/"
        },
        "outputId": "8f71a27b-69ae-4cba-dfb2-48b140d6a798"
      },
      "outputs": [
        {
          "output_type": "stream",
          "name": "stdout",
          "text": [
            "Get:1 http://security.ubuntu.com/ubuntu jammy-security InRelease [129 kB]\n",
            "Hit:2 http://archive.ubuntu.com/ubuntu jammy InRelease\n",
            "Get:3 http://archive.ubuntu.com/ubuntu jammy-updates InRelease [128 kB]\n",
            "Get:4 https://cloud.r-project.org/bin/linux/ubuntu jammy-cran40/ InRelease [3,626 B]\n",
            "Hit:5 https://developer.download.nvidia.com/compute/cuda/repos/ubuntu2204/x86_64  InRelease\n",
            "Get:6 http://archive.ubuntu.com/ubuntu jammy-backports InRelease [127 kB]\n",
            "Get:7 https://r2u.stat.illinois.edu/ubuntu jammy InRelease [6,555 B]\n",
            "Get:8 https://ppa.launchpadcontent.net/deadsnakes/ppa/ubuntu jammy InRelease [18.1 kB]\n",
            "Hit:9 https://ppa.launchpadcontent.net/graphics-drivers/ppa/ubuntu jammy InRelease\n",
            "Hit:10 https://ppa.launchpadcontent.net/ubuntugis/ppa/ubuntu jammy InRelease\n",
            "Get:11 http://security.ubuntu.com/ubuntu jammy-security/main amd64 Packages [2,606 kB]\n",
            "Get:12 http://security.ubuntu.com/ubuntu jammy-security/universe amd64 Packages [1,230 kB]\n",
            "Get:13 http://archive.ubuntu.com/ubuntu jammy-updates/universe amd64 Packages [1,523 kB]\n",
            "Get:14 http://archive.ubuntu.com/ubuntu jammy-updates/main amd64 Packages [2,907 kB]\n",
            "Get:15 https://r2u.stat.illinois.edu/ubuntu jammy/main amd64 Packages [2,650 kB]\n",
            "Get:16 https://r2u.stat.illinois.edu/ubuntu jammy/main all Packages [8,657 kB]\n",
            "Get:17 https://ppa.launchpadcontent.net/deadsnakes/ppa/ubuntu jammy/main amd64 Packages [33.6 kB]\n",
            "Fetched 20.0 MB in 4s (5,248 kB/s)\n",
            "Reading package lists...\n",
            "Reading package lists...\n",
            "Building dependency tree...\n",
            "Reading state information...\n",
            "The following additional packages will be installed:\n",
            "  libfontenc1 libxfont2 libxkbfile1 x11-xkb-utils xfonts-base xfonts-encodings xfonts-utils\n",
            "  xserver-common\n",
            "The following NEW packages will be installed:\n",
            "  libfontenc1 libxfont2 libxkbfile1 x11-xkb-utils xfonts-base xfonts-encodings xfonts-utils\n",
            "  xserver-common xvfb\n",
            "0 upgraded, 9 newly installed, 0 to remove and 31 not upgraded.\n",
            "Need to get 7,815 kB of archives.\n",
            "After this operation, 11.9 MB of additional disk space will be used.\n",
            "Get:1 http://archive.ubuntu.com/ubuntu jammy/main amd64 libfontenc1 amd64 1:1.1.4-1build3 [14.7 kB]\n",
            "Get:2 http://archive.ubuntu.com/ubuntu jammy/main amd64 libxfont2 amd64 1:2.0.5-1build1 [94.5 kB]\n",
            "Get:3 http://archive.ubuntu.com/ubuntu jammy/main amd64 libxkbfile1 amd64 1:1.1.0-1build3 [71.8 kB]\n",
            "Get:4 http://archive.ubuntu.com/ubuntu jammy/main amd64 x11-xkb-utils amd64 7.7+5build4 [172 kB]\n",
            "Get:5 http://archive.ubuntu.com/ubuntu jammy/main amd64 xfonts-encodings all 1:1.0.5-0ubuntu2 [578 kB]\n",
            "Get:6 http://archive.ubuntu.com/ubuntu jammy/main amd64 xfonts-utils amd64 1:7.7+6build2 [94.6 kB]\n",
            "Get:7 http://archive.ubuntu.com/ubuntu jammy/main amd64 xfonts-base all 1:1.0.5 [5,896 kB]\n",
            "Get:8 http://archive.ubuntu.com/ubuntu jammy-updates/main amd64 xserver-common all 2:21.1.4-2ubuntu1.7~22.04.12 [28.7 kB]\n",
            "Get:9 http://archive.ubuntu.com/ubuntu jammy-updates/universe amd64 xvfb amd64 2:21.1.4-2ubuntu1.7~22.04.12 [864 kB]\n",
            "Fetched 7,815 kB in 1s (15.0 MB/s)\n",
            "Selecting previously unselected package libfontenc1:amd64.\r\n",
            "(Reading database ... \r(Reading database ... 5%\r(Reading database ... 10%\r(Reading database ... 15%\r(Reading database ... 20%\r(Reading database ... 25%\r(Reading database ... 30%\r(Reading database ... 35%\r(Reading database ... 40%\r(Reading database ... 45%\r(Reading database ... 50%\r(Reading database ... 55%\r(Reading database ... 60%\r(Reading database ... 65%\r(Reading database ... 70%\r(Reading database ... 75%\r(Reading database ... 80%\r(Reading database ... 85%\r(Reading database ... 90%\r(Reading database ... 95%\r(Reading database ... 100%\r(Reading database ... 124926 files and directories currently installed.)\r\n",
            "Preparing to unpack .../0-libfontenc1_1%3a1.1.4-1build3_amd64.deb ...\r\n",
            "Unpacking libfontenc1:amd64 (1:1.1.4-1build3) ...\r\n",
            "Selecting previously unselected package libxfont2:amd64.\r\n",
            "Preparing to unpack .../1-libxfont2_1%3a2.0.5-1build1_amd64.deb ...\r\n",
            "Unpacking libxfont2:amd64 (1:2.0.5-1build1) ...\r\n",
            "Selecting previously unselected package libxkbfile1:amd64.\r\n",
            "Preparing to unpack .../2-libxkbfile1_1%3a1.1.0-1build3_amd64.deb ...\r\n",
            "Unpacking libxkbfile1:amd64 (1:1.1.0-1build3) ...\r\n",
            "Selecting previously unselected package x11-xkb-utils.\r\n",
            "Preparing to unpack .../3-x11-xkb-utils_7.7+5build4_amd64.deb ...\r\n",
            "Unpacking x11-xkb-utils (7.7+5build4) ...\r\n",
            "Selecting previously unselected package xfonts-encodings.\r\n",
            "Preparing to unpack .../4-xfonts-encodings_1%3a1.0.5-0ubuntu2_all.deb ...\r\n",
            "Unpacking xfonts-encodings (1:1.0.5-0ubuntu2) ...\r\n",
            "Selecting previously unselected package xfonts-utils.\r\n",
            "Preparing to unpack .../5-xfonts-utils_1%3a7.7+6build2_amd64.deb ...\r\n",
            "Unpacking xfonts-utils (1:7.7+6build2) ...\r\n",
            "Selecting previously unselected package xfonts-base.\r\n",
            "Preparing to unpack .../6-xfonts-base_1%3a1.0.5_all.deb ...\r\n",
            "Unpacking xfonts-base (1:1.0.5) ...\r\n",
            "Selecting previously unselected package xserver-common.\r\n",
            "Preparing to unpack .../7-xserver-common_2%3a21.1.4-2ubuntu1.7~22.04.12_all.deb ...\r\n",
            "Unpacking xserver-common (2:21.1.4-2ubuntu1.7~22.04.12) ...\r\n",
            "Selecting previously unselected package xvfb.\r\n",
            "Preparing to unpack .../8-xvfb_2%3a21.1.4-2ubuntu1.7~22.04.12_amd64.deb ...\r\n",
            "Unpacking xvfb (2:21.1.4-2ubuntu1.7~22.04.12) ...\r\n",
            "Setting up libfontenc1:amd64 (1:1.1.4-1build3) ...\r\n",
            "Setting up xfonts-encodings (1:1.0.5-0ubuntu2) ...\r\n",
            "Setting up libxkbfile1:amd64 (1:1.1.0-1build3) ...\r\n",
            "Setting up libxfont2:amd64 (1:2.0.5-1build1) ...\r\n",
            "Setting up x11-xkb-utils (7.7+5build4) ...\r\n",
            "Setting up xfonts-utils (1:7.7+6build2) ...\r\n",
            "Setting up xfonts-base (1:1.0.5) ...\r\n",
            "Setting up xserver-common (2:21.1.4-2ubuntu1.7~22.04.12) ...\r\n",
            "Setting up xvfb (2:21.1.4-2ubuntu1.7~22.04.12) ...\r\n",
            "Processing triggers for man-db (2.10.2-1) ...\r\n",
            "Processing triggers for fontconfig (2.13.1-4.2ubuntu5) ...\r\n",
            "Processing triggers for libc-bin (2.35-0ubuntu3.8) ...\r\n",
            "/sbin/ldconfig.real: /usr/local/lib/libtbbbind_2_5.so.3 is not a symbolic link\r\n",
            "\r\n",
            "/sbin/ldconfig.real: /usr/local/lib/libtbbbind.so.3 is not a symbolic link\r\n",
            "\r\n",
            "/sbin/ldconfig.real: /usr/local/lib/libur_adapter_level_zero.so.0 is not a symbolic link\r\n",
            "\r\n",
            "/sbin/ldconfig.real: /usr/local/lib/libtbb.so.12 is not a symbolic link\r\n",
            "\r\n",
            "/sbin/ldconfig.real: /usr/local/lib/libtcm.so.1 is not a symbolic link\r\n",
            "\r\n",
            "/sbin/ldconfig.real: /usr/local/lib/libur_loader.so.0 is not a symbolic link\r\n",
            "\r\n",
            "/sbin/ldconfig.real: /usr/local/lib/libtbbbind_2_0.so.3 is not a symbolic link\r\n",
            "\r\n",
            "/sbin/ldconfig.real: /usr/local/lib/libumf.so.0 is not a symbolic link\r\n",
            "\r\n",
            "/sbin/ldconfig.real: /usr/local/lib/libur_adapter_opencl.so.0 is not a symbolic link\r\n",
            "\r\n",
            "/sbin/ldconfig.real: /usr/local/lib/libhwloc.so.15 is not a symbolic link\r\n",
            "\r\n",
            "/sbin/ldconfig.real: /usr/local/lib/libtbbmalloc_proxy.so.2 is not a symbolic link\r\n",
            "\r\n",
            "/sbin/ldconfig.real: /usr/local/lib/libtcm_debug.so.1 is not a symbolic link\r\n",
            "\r\n",
            "/sbin/ldconfig.real: /usr/local/lib/libtbbmalloc.so.2 is not a symbolic link\r\n",
            "\r\n"
          ]
        },
        {
          "output_type": "stream",
          "name": "stderr",
          "text": [
            "W: Skipping acquire of configured file 'main/source/Sources' as repository 'https://r2u.stat.illinois.edu/ubuntu jammy InRelease' does not seem to provide it (sources.list entry misspelt?)\n"
          ]
        }
      ],
      "source": [
        "%%bash\n",
        "# Install additional packages for visualization\n",
        "apt-get update\n",
        "apt-get install -y xvfb\n",
        "apt-get install python-opengl > /dev/null 2>&1\n",
        "pip install pyvirtualdisplay > /dev/null 2>&1\n",
        "pip install git+https://github.com/tensorflow/docs > /dev/null 2>&1"
      ]
    },
    {
      "cell_type": "code",
      "execution_count": 28,
      "metadata": {
        "id": "tT4N3qYviUJr",
        "colab": {
          "base_uri": "https://localhost:8080/"
        },
        "outputId": "ec9ce70f-0cc9-49f4-f33e-371a04f78ea2"
      },
      "outputs": [
        {
          "output_type": "stream",
          "name": "stderr",
          "text": [
            "/usr/local/lib/python3.11/dist-packages/gym/core.py:317: DeprecationWarning: \u001b[33mWARN: Initializing wrapper in old step API which returns one bool instead of two. It is recommended to set `new_step_api=True` to use new step API. This will be the default behaviour in future.\u001b[0m\n",
            "  deprecation(\n",
            "/usr/local/lib/python3.11/dist-packages/gym/wrappers/step_api_compatibility.py:39: DeprecationWarning: \u001b[33mWARN: Initializing environment in old step API which returns one bool instead of two. It is recommended to set `new_step_api=True` to use new step API. This will be the default behaviour in future.\u001b[0m\n",
            "  deprecation(\n"
          ]
        }
      ],
      "source": [
        "import collections\n",
        "import gym\n",
        "import numpy as np\n",
        "import statistics\n",
        "import tensorflow as tf\n",
        "import tqdm\n",
        "\n",
        "from matplotlib import pyplot as plt\n",
        "from tensorflow.keras import layers\n",
        "from typing import Any, List, Sequence, Tuple\n",
        "\n",
        "\n",
        "# Create the environment\n",
        "env = gym.make(\"CartPole-v1\")\n",
        "\n",
        "# Set seed for experiment reproducibility\n",
        "seed = 42\n",
        "env.reset(seed=seed)\n",
        "tf.random.set_seed(seed)\n",
        "np.random.seed(seed)\n",
        "\n",
        "# Small epsilon value for stabilizing division operations\n",
        "eps = np.finfo(np.float32).eps.item()"
      ]
    },
    {
      "cell_type": "markdown",
      "metadata": {
        "id": "AOUCe2D0iUJu"
      },
      "source": [
        "## The model\n",
        "\n",
        "The *Actor* and *Critic* will be modeled using one neural network that generates the action probabilities and Critic value respectively. This tutorial uses model subclassing to define the model.\n",
        "\n",
        "During the forward pass, the model will take in the state as the input and will output both action probabilities and critic value $V$, which models the state-dependent [value function](https://spinningup.openai.com/en/latest/spinningup/rl_intro.html#value-functions). The goal is to train a model that chooses actions based on a policy $\\pi$ that maximizes expected [return](https://spinningup.openai.com/en/latest/spinningup/rl_intro.html#reward-and-return).\n",
        "\n",
        "For `CartPole-v0`, there are four values representing the state: cart position, cart-velocity, pole angle and pole velocity respectively. The agent can take two actions to push the cart left (`0`) and right (`1`), respectively.\n",
        "\n",
        "Refer to [Gym's Cart Pole documentation page](https://www.gymlibrary.dev/environments/classic_control/cart_pole/) and [_Neuronlike adaptive elements that can solve difficult learning control problems_](http://www.derongliu.org/adp/adp-cdrom/Barto1983.pdf) by Barto, Sutton and Anderson (1983) for more information.\n"
      ]
    },
    {
      "cell_type": "code",
      "execution_count": 4,
      "metadata": {
        "id": "aXKbbMC-kmuv"
      },
      "outputs": [],
      "source": [
        "class ActorCritic(tf.keras.Model):\n",
        "  \"\"\"Combined actor-critic network.\"\"\"\n",
        "\n",
        "  def __init__(\n",
        "      self,\n",
        "      num_actions: int,\n",
        "      num_hidden_units: int):\n",
        "    \"\"\"Initialize.\"\"\"\n",
        "    super().__init__()\n",
        "\n",
        "    self.common = layers.Dense(num_hidden_units, activation=\"relu\")\n",
        "    self.actor = layers.Dense(num_actions)\n",
        "    self.critic = layers.Dense(1)\n",
        "\n",
        "  def call(self, inputs: tf.Tensor) -> Tuple[tf.Tensor, tf.Tensor]:\n",
        "    x = self.common(inputs)\n",
        "    return self.actor(x), self.critic(x)"
      ]
    },
    {
      "cell_type": "code",
      "execution_count": 5,
      "metadata": {
        "id": "nWyxJgjLn68c"
      },
      "outputs": [],
      "source": [
        "num_actions = env.action_space.n  # 2\n",
        "num_hidden_units = 128\n",
        "\n",
        "model = ActorCritic(num_actions, num_hidden_units)"
      ]
    },
    {
      "cell_type": "markdown",
      "metadata": {
        "id": "hk92njFziUJw"
      },
      "source": [
        "## Train the agent\n",
        "\n",
        "To train the agent, you will follow these steps:\n",
        "\n",
        "1. Run the agent on the environment to collect training data per episode.\n",
        "2. Compute expected return at each time step.\n",
        "3. Compute the loss for the combined Actor-Critic model.\n",
        "4. Compute gradients and update network parameters.\n",
        "5. Repeat 1-4 until either success criterion or max episodes has been reached.\n"
      ]
    },
    {
      "cell_type": "markdown",
      "metadata": {
        "id": "R2nde2XDs8Gh"
      },
      "source": [
        "### 1. Collect training data\n",
        "\n",
        "As in supervised learning, in order to train the actor-critic model, you need\n",
        "to have training data. However, in order to collect such data, the model would\n",
        "need to be \"run\" in the environment.\n",
        "\n",
        "Training data is collected for each episode. Then at each time step, the model's forward pass will be run on the environment's state in order to generate action probabilities and the critic value based on the current policy parameterized by the model's weights.\n",
        "\n",
        "The next action will be sampled from the action probabilities generated by the model, which would then be applied to the environment, causing the next state and reward to be generated.\n",
        "\n",
        "This process is implemented in the `run_episode` function, which uses TensorFlow operations so that it can later be compiled into a TensorFlow graph for faster training. Note that `tf.TensorArray`s were used to support Tensor iteration on variable length arrays."
      ]
    },
    {
      "cell_type": "code",
      "execution_count": 41,
      "metadata": {
        "id": "5URrbGlDSAGx"
      },
      "outputs": [],
      "source": [
        "# Wrap OpenAI Gym's `env.step` call as an operation in a TensorFlow function.\n",
        "# This would allow it to be included in a callable TensorFlow graph.\n",
        "\n",
        "def env_step(action: np.ndarray) -> Tuple[np.ndarray, np.ndarray, np.ndarray]:\n",
        "  \"\"\"Returns state, reward and done flag given an action.\"\"\"\n",
        "\n",
        "  state, reward, done, _ = env.step(action)\n",
        "  return (state.astype(np.float32),\n",
        "          np.array(reward, np.int32),\n",
        "          np.array(done, np.int32))\n",
        "\n",
        "\n",
        "def tf_env_step(action: tf.Tensor) -> List[tf.Tensor]:\n",
        "  return tf.numpy_function(env_step, [action],\n",
        "                           [tf.float32, tf.int32, tf.int32])\n"
      ]
    },
    {
      "cell_type": "code",
      "execution_count": 42,
      "metadata": {
        "id": "a4qVRV063Cl9"
      },
      "outputs": [],
      "source": [
        "def run_episode(\n",
        "    initial_state: tf.Tensor,\n",
        "    model: tf.keras.Model,\n",
        "    max_steps: int) -> Tuple[tf.Tensor, tf.Tensor, tf.Tensor]:\n",
        "  \"\"\"Runs a single episode to collect training data.\"\"\"\n",
        "\n",
        "  action_probs = tf.TensorArray(dtype=tf.float32, size=0, dynamic_size=True)\n",
        "  values = tf.TensorArray(dtype=tf.float32, size=0, dynamic_size=True)\n",
        "  rewards = tf.TensorArray(dtype=tf.int32, size=0, dynamic_size=True)\n",
        "\n",
        "  initial_state_shape = initial_state.shape\n",
        "  state = initial_state\n",
        "\n",
        "  for t in tf.range(max_steps):\n",
        "    # Convert state into a batched tensor (batch size = 1)\n",
        "    state = tf.expand_dims(state, 0)\n",
        "\n",
        "    # Run the model and to get action probabilities and critic value\n",
        "    action_logits_t, value = model(state)\n",
        "\n",
        "    # Sample next action from the action probability distribution\n",
        "    action = tf.random.categorical(action_logits_t, 1)[0, 0]\n",
        "    action_probs_t = tf.nn.softmax(action_logits_t)\n",
        "\n",
        "    # Store critic values\n",
        "    values = values.write(t, tf.squeeze(value))\n",
        "\n",
        "    # Store log probability of the action chosen\n",
        "    action_probs = action_probs.write(t, action_probs_t[0, action])\n",
        "\n",
        "    # Apply action to the environment to get next state and reward\n",
        "    state, reward, done = tf_env_step(action)\n",
        "    state.set_shape(initial_state_shape)\n",
        "\n",
        "    # Store reward\n",
        "    rewards = rewards.write(t, reward)\n",
        "\n",
        "    if tf.cast(done, tf.bool):\n",
        "      break\n",
        "\n",
        "  action_probs = action_probs.stack()\n",
        "  values = values.stack()\n",
        "  rewards = rewards.stack()\n",
        "\n",
        "  return action_probs, values, rewards\n"
      ]
    },
    {
      "cell_type": "markdown",
      "metadata": {
        "id": "lBnIHdz22dIx"
      },
      "source": [
        "### 2. Compute the expected returns\n",
        "\n",
        "The sequence of rewards for each timestep $t$, $\\{r_{t}\\}^{T}_{t=1}$ collected during one episode is converted into a sequence of expected returns $\\{G_{t}\\}^{T}_{t=1}$ in which the sum of rewards is taken from the current timestep $t$ to $T$ and each reward is multiplied with an exponentially decaying discount factor $\\gamma$:\n",
        "\n",
        "$$G_{t} = \\sum^{T}_{t'=t} \\gamma^{t'-t}r_{t'}$$\n",
        "\n",
        "Since $\\gamma\\in(0,1)$, rewards further out from the current timestep are given less weight.\n",
        "\n",
        "Intuitively, expected return simply implies that rewards now are better than rewards later. In a mathematical sense, it is to ensure that the sum of the rewards converges.\n",
        "\n",
        "To stabilize training, the resulting sequence of returns is also standardized (i.e. to have zero mean and unit standard deviation).\n"
      ]
    },
    {
      "cell_type": "code",
      "execution_count": 43,
      "metadata": {
        "id": "jpEwFyl315dl"
      },
      "outputs": [],
      "source": [
        "def get_expected_return(\n",
        "    rewards: tf.Tensor,\n",
        "    gamma: float,\n",
        "    standardize: bool = True) -> tf.Tensor:\n",
        "  \"\"\"Compute expected returns per timestep.\"\"\"\n",
        "\n",
        "  n = tf.shape(rewards)[0]\n",
        "  returns = tf.TensorArray(dtype=tf.float32, size=n)\n",
        "\n",
        "  # Start from the end of `rewards` and accumulate reward sums\n",
        "  # into the `returns` array\n",
        "  rewards = tf.cast(rewards[::-1], dtype=tf.float32)\n",
        "  discounted_sum = tf.constant(0.0)\n",
        "  discounted_sum_shape = discounted_sum.shape\n",
        "  for i in tf.range(n):\n",
        "    reward = rewards[i]\n",
        "    discounted_sum = reward + gamma * discounted_sum\n",
        "    discounted_sum.set_shape(discounted_sum_shape)\n",
        "    returns = returns.write(i, discounted_sum)\n",
        "  returns = returns.stack()[::-1]\n",
        "\n",
        "  if standardize:\n",
        "    returns = ((returns - tf.math.reduce_mean(returns)) /\n",
        "               (tf.math.reduce_std(returns) + eps))\n",
        "\n",
        "  return returns\n"
      ]
    },
    {
      "cell_type": "markdown",
      "metadata": {
        "id": "qhr50_Czxazw"
      },
      "source": [
        "### 3. The Actor-Critic loss\n",
        "\n",
        "Since you're using a hybrid Actor-Critic model, the chosen loss function is a combination of Actor and Critic losses for training, as shown below:\n",
        "\n",
        "$$L = L_{actor} + L_{critic}$$"
      ]
    },
    {
      "cell_type": "markdown",
      "metadata": {
        "id": "nOQIJuG1xdTH"
      },
      "source": [
        "#### The Actor loss\n",
        "\n",
        "The Actor loss is based on [policy gradients with the Critic as a state dependent baseline](https://www.youtube.com/watch?v=EKqxumCuAAY&t=62m23s) and computed with single-sample (per-episode) estimates.\n",
        "\n",
        "$$L_{actor} = -\\sum^{T}_{t=1} \\log\\pi_{\\theta}(a_{t} | s_{t})[G(s_{t}, a_{t})  - V^{\\pi}_{\\theta}(s_{t})]$$\n",
        "\n",
        "where:\n",
        "- $T$: the number of timesteps per episode, which can vary per episode\n",
        "- $s_{t}$: the state at timestep $t$\n",
        "- $a_{t}$: chosen action at timestep $t$ given state $s$\n",
        "- $\\pi_{\\theta}$: is the policy (Actor) parameterized by $\\theta$\n",
        "- $V^{\\pi}_{\\theta}$: is the value function (Critic) also parameterized by $\\theta$\n",
        "- $G = G_{t}$: the expected return for a given state, action pair at timestep $t$\n",
        "\n",
        "A negative term is added to the sum since the idea is to maximize the probabilities of actions yielding higher rewards by minimizing the combined loss.\n",
        "\n",
        "<br>"
      ]
    },
    {
      "cell_type": "markdown",
      "metadata": {
        "id": "Y304O4OAxiAv"
      },
      "source": [
        "##### The Advantage\n",
        "\n",
        "The $G - V$ term in our $L_{actor}$ formulation is called the [Advantage](https://spinningup.openai.com/en/latest/spinningup/rl_intro.html#advantage-functions), which indicates how much better an action is given a particular state over a random action selected according to the policy $\\pi$ for that state.\n",
        "\n",
        "While it's possible to exclude a baseline, this may result in high variance during training. And the nice thing about choosing the critic $V$ as a baseline is that it trained to be as close as possible to $G$, leading to a lower variance.\n",
        "\n",
        "In addition, without the Critic, the algorithm would try to increase probabilities for actions taken on a particular state based on expected return, which may not make much of a difference if the relative probabilities between actions remain the same.\n",
        "\n",
        "For instance, suppose that two actions for a given state would yield the same expected return. Without the Critic, the algorithm would try to raise the probability of these actions based on the objective $J$. With the Critic, it may turn out that there's no Advantage ($G - V = 0$), and thus no benefit gained in increasing the actions' probabilities and the algorithm would set the gradients to zero.\n",
        "\n",
        "<br>"
      ]
    },
    {
      "cell_type": "markdown",
      "metadata": {
        "id": "1hrPLrgGxlvb"
      },
      "source": [
        "#### The Critic loss\n",
        "\n",
        "Training $V$ to be as close possible to $G$ can be set up as a regression problem with the following loss function:\n",
        "\n",
        "$$L_{critic} = L_{\\delta}(G, V^{\\pi}_{\\theta})$$\n",
        "\n",
        "where $L_{\\delta}$ is the [Huber loss](https://en.wikipedia.org/wiki/Huber_loss), which is less sensitive to outliers in data than squared-error loss.\n"
      ]
    },
    {
      "cell_type": "code",
      "execution_count": 44,
      "metadata": {
        "id": "9EXwbEez6n9m"
      },
      "outputs": [],
      "source": [
        "huber_loss = tf.keras.losses.Huber(reduction=tf.keras.losses.Reduction.SUM)\n",
        "\n",
        "def compute_loss(\n",
        "    action_probs: tf.Tensor,\n",
        "    values: tf.Tensor,\n",
        "    returns: tf.Tensor) -> tf.Tensor:\n",
        "  \"\"\"Computes the combined actor-critic loss.\"\"\"\n",
        "\n",
        "  advantage = returns - values\n",
        "\n",
        "  action_log_probs = tf.math.log(action_probs)\n",
        "  actor_loss = -tf.math.reduce_sum(action_log_probs * advantage)\n",
        "\n",
        "  critic_loss = huber_loss(values, returns)\n",
        "\n",
        "  return actor_loss + critic_loss\n"
      ]
    },
    {
      "cell_type": "markdown",
      "metadata": {
        "id": "HSYkQOmRfV75"
      },
      "source": [
        "### 4. Define the training step to update parameters\n",
        "\n",
        "All of the steps above are combined into a training step that is run every episode. All steps leading up to the loss function are executed with the `tf.GradientTape` context to enable automatic differentiation.\n",
        "\n",
        "This tutorial uses the Adam optimizer to apply the gradients to the model parameters.\n",
        "\n",
        "The sum of the undiscounted rewards, `episode_reward`, is also computed in this step. This value will be used later on to evaluate if the success criterion is met.\n",
        "\n",
        "The `tf.function` context is applied to the `train_step` function so that it can be compiled into a callable TensorFlow graph, which can lead to 10x speedup in training.\n"
      ]
    },
    {
      "cell_type": "code",
      "execution_count": 45,
      "metadata": {
        "id": "QoccrkF3IFCg"
      },
      "outputs": [],
      "source": [
        "optimizer = tf.keras.optimizers.Adam(learning_rate=0.01)\n",
        "\n",
        "\n",
        "@tf.function\n",
        "def train_step(\n",
        "    initial_state: tf.Tensor,\n",
        "    model: tf.keras.Model,\n",
        "    optimizer: tf.keras.optimizers.Optimizer,\n",
        "    gamma: float,\n",
        "    max_steps_per_episode: int) -> tf.Tensor:\n",
        "  \"\"\"Runs a model training step.\"\"\"\n",
        "\n",
        "  with tf.GradientTape() as tape:\n",
        "\n",
        "    # Run the model for one episode to collect training data\n",
        "    action_probs, values, rewards = run_episode(\n",
        "        initial_state, model, max_steps_per_episode)\n",
        "\n",
        "    # Calculate expected returns\n",
        "    returns = get_expected_return(rewards, gamma)\n",
        "\n",
        "    # Convert training data to appropriate TF tensor shapes\n",
        "    action_probs, values, returns = [\n",
        "        tf.expand_dims(x, 1) for x in [action_probs, values, returns]]\n",
        "\n",
        "    # Calculating loss values to update our network\n",
        "    loss = compute_loss(action_probs, values, returns)\n",
        "\n",
        "  # Compute the gradients from the loss\n",
        "  grads = tape.gradient(loss, model.trainable_variables)\n",
        "\n",
        "  # Apply the gradients to the model's parameters\n",
        "  optimizer.apply_gradients(zip(grads, model.trainable_variables))\n",
        "\n",
        "  episode_reward = tf.math.reduce_sum(rewards)\n",
        "\n",
        "  return episode_reward\n"
      ]
    },
    {
      "cell_type": "markdown",
      "metadata": {
        "id": "HFvZiDoAflGK"
      },
      "source": [
        "### 5. Run the training loop\n",
        "\n",
        "Training is executed by running the training step until either the success criterion or maximum number of episodes is reached.  \n",
        "\n",
        "A running record of episode rewards is kept in a queue. Once 100 trials are reached, the oldest reward is removed at the left (tail) end of the queue and the newest one is added at the head (right). A running sum of the rewards is also maintained for computational efficiency.\n",
        "\n",
        "Depending on your runtime, training can finish in less than a minute."
      ]
    },
    {
      "cell_type": "code",
      "execution_count": 46,
      "metadata": {
        "id": "kbmBxnzLiUJx",
        "colab": {
          "base_uri": "https://localhost:8080/",
          "height": 408
        },
        "outputId": "290e0515-8293-45ee-d1ed-794a1d6851c6"
      },
      "outputs": [
        {
          "output_type": "stream",
          "name": "stderr",
          "text": [
            "Episode 285:   3%|▎         | 286/10000 [05:32<3:07:59,  1.16s/it, episode_reward=500, running_reward=500]\n"
          ]
        },
        {
          "output_type": "error",
          "ename": "KeyboardInterrupt",
          "evalue": "",
          "traceback": [
            "\u001b[0;31m---------------------------------------------------------------------------\u001b[0m",
            "\u001b[0;31mKeyboardInterrupt\u001b[0m                         Traceback (most recent call last)",
            "\u001b[0;32m<timed exec>\u001b[0m in \u001b[0;36m<module>\u001b[0;34m\u001b[0m\n",
            "\u001b[0;32m/usr/local/lib/python3.11/dist-packages/tensorflow/python/util/traceback_utils.py\u001b[0m in \u001b[0;36merror_handler\u001b[0;34m(*args, **kwargs)\u001b[0m\n\u001b[1;32m    148\u001b[0m     \u001b[0mfiltered_tb\u001b[0m \u001b[0;34m=\u001b[0m \u001b[0;32mNone\u001b[0m\u001b[0;34m\u001b[0m\u001b[0;34m\u001b[0m\u001b[0m\n\u001b[1;32m    149\u001b[0m     \u001b[0;32mtry\u001b[0m\u001b[0;34m:\u001b[0m\u001b[0;34m\u001b[0m\u001b[0;34m\u001b[0m\u001b[0m\n\u001b[0;32m--> 150\u001b[0;31m       \u001b[0;32mreturn\u001b[0m \u001b[0mfn\u001b[0m\u001b[0;34m(\u001b[0m\u001b[0;34m*\u001b[0m\u001b[0margs\u001b[0m\u001b[0;34m,\u001b[0m \u001b[0;34m**\u001b[0m\u001b[0mkwargs\u001b[0m\u001b[0;34m)\u001b[0m\u001b[0;34m\u001b[0m\u001b[0;34m\u001b[0m\u001b[0m\n\u001b[0m\u001b[1;32m    151\u001b[0m     \u001b[0;32mexcept\u001b[0m \u001b[0mException\u001b[0m \u001b[0;32mas\u001b[0m \u001b[0me\u001b[0m\u001b[0;34m:\u001b[0m\u001b[0;34m\u001b[0m\u001b[0;34m\u001b[0m\u001b[0m\n\u001b[1;32m    152\u001b[0m       \u001b[0mfiltered_tb\u001b[0m \u001b[0;34m=\u001b[0m \u001b[0m_process_traceback_frames\u001b[0m\u001b[0;34m(\u001b[0m\u001b[0me\u001b[0m\u001b[0;34m.\u001b[0m\u001b[0m__traceback__\u001b[0m\u001b[0;34m)\u001b[0m\u001b[0;34m\u001b[0m\u001b[0;34m\u001b[0m\u001b[0m\n",
            "\u001b[0;32m/usr/local/lib/python3.11/dist-packages/tensorflow/python/eager/polymorphic_function/polymorphic_function.py\u001b[0m in \u001b[0;36m__call__\u001b[0;34m(self, *args, **kwds)\u001b[0m\n\u001b[1;32m    831\u001b[0m \u001b[0;34m\u001b[0m\u001b[0m\n\u001b[1;32m    832\u001b[0m       \u001b[0;32mwith\u001b[0m \u001b[0mOptionalXlaContext\u001b[0m\u001b[0;34m(\u001b[0m\u001b[0mself\u001b[0m\u001b[0;34m.\u001b[0m\u001b[0m_jit_compile\u001b[0m\u001b[0;34m)\u001b[0m\u001b[0;34m:\u001b[0m\u001b[0;34m\u001b[0m\u001b[0;34m\u001b[0m\u001b[0m\n\u001b[0;32m--> 833\u001b[0;31m         \u001b[0mresult\u001b[0m \u001b[0;34m=\u001b[0m \u001b[0mself\u001b[0m\u001b[0;34m.\u001b[0m\u001b[0m_call\u001b[0m\u001b[0;34m(\u001b[0m\u001b[0;34m*\u001b[0m\u001b[0margs\u001b[0m\u001b[0;34m,\u001b[0m \u001b[0;34m**\u001b[0m\u001b[0mkwds\u001b[0m\u001b[0;34m)\u001b[0m\u001b[0;34m\u001b[0m\u001b[0;34m\u001b[0m\u001b[0m\n\u001b[0m\u001b[1;32m    834\u001b[0m \u001b[0;34m\u001b[0m\u001b[0m\n\u001b[1;32m    835\u001b[0m       \u001b[0mnew_tracing_count\u001b[0m \u001b[0;34m=\u001b[0m \u001b[0mself\u001b[0m\u001b[0;34m.\u001b[0m\u001b[0mexperimental_get_tracing_count\u001b[0m\u001b[0;34m(\u001b[0m\u001b[0;34m)\u001b[0m\u001b[0;34m\u001b[0m\u001b[0;34m\u001b[0m\u001b[0m\n",
            "\u001b[0;32m/usr/local/lib/python3.11/dist-packages/tensorflow/python/eager/polymorphic_function/polymorphic_function.py\u001b[0m in \u001b[0;36m_call\u001b[0;34m(self, *args, **kwds)\u001b[0m\n\u001b[1;32m    867\u001b[0m       \u001b[0;31m# In this case we have created variables on the first call, so we run the\u001b[0m\u001b[0;34m\u001b[0m\u001b[0;34m\u001b[0m\u001b[0m\n\u001b[1;32m    868\u001b[0m       \u001b[0;31m# defunned version which is guaranteed to never create variables.\u001b[0m\u001b[0;34m\u001b[0m\u001b[0;34m\u001b[0m\u001b[0m\n\u001b[0;32m--> 869\u001b[0;31m       return tracing_compilation.call_function(\n\u001b[0m\u001b[1;32m    870\u001b[0m           \u001b[0margs\u001b[0m\u001b[0;34m,\u001b[0m \u001b[0mkwds\u001b[0m\u001b[0;34m,\u001b[0m \u001b[0mself\u001b[0m\u001b[0;34m.\u001b[0m\u001b[0m_no_variable_creation_config\u001b[0m\u001b[0;34m\u001b[0m\u001b[0;34m\u001b[0m\u001b[0m\n\u001b[1;32m    871\u001b[0m       )\n",
            "\u001b[0;32m/usr/local/lib/python3.11/dist-packages/tensorflow/python/eager/polymorphic_function/tracing_compilation.py\u001b[0m in \u001b[0;36mcall_function\u001b[0;34m(args, kwargs, tracing_options)\u001b[0m\n\u001b[1;32m    137\u001b[0m   \u001b[0mbound_args\u001b[0m \u001b[0;34m=\u001b[0m \u001b[0mfunction\u001b[0m\u001b[0;34m.\u001b[0m\u001b[0mfunction_type\u001b[0m\u001b[0;34m.\u001b[0m\u001b[0mbind\u001b[0m\u001b[0;34m(\u001b[0m\u001b[0;34m*\u001b[0m\u001b[0margs\u001b[0m\u001b[0;34m,\u001b[0m \u001b[0;34m**\u001b[0m\u001b[0mkwargs\u001b[0m\u001b[0;34m)\u001b[0m\u001b[0;34m\u001b[0m\u001b[0;34m\u001b[0m\u001b[0m\n\u001b[1;32m    138\u001b[0m   \u001b[0mflat_inputs\u001b[0m \u001b[0;34m=\u001b[0m \u001b[0mfunction\u001b[0m\u001b[0;34m.\u001b[0m\u001b[0mfunction_type\u001b[0m\u001b[0;34m.\u001b[0m\u001b[0munpack_inputs\u001b[0m\u001b[0;34m(\u001b[0m\u001b[0mbound_args\u001b[0m\u001b[0;34m)\u001b[0m\u001b[0;34m\u001b[0m\u001b[0;34m\u001b[0m\u001b[0m\n\u001b[0;32m--> 139\u001b[0;31m   return function._call_flat(  # pylint: disable=protected-access\n\u001b[0m\u001b[1;32m    140\u001b[0m       \u001b[0mflat_inputs\u001b[0m\u001b[0;34m,\u001b[0m \u001b[0mcaptured_inputs\u001b[0m\u001b[0;34m=\u001b[0m\u001b[0mfunction\u001b[0m\u001b[0;34m.\u001b[0m\u001b[0mcaptured_inputs\u001b[0m\u001b[0;34m\u001b[0m\u001b[0;34m\u001b[0m\u001b[0m\n\u001b[1;32m    141\u001b[0m   )\n",
            "\u001b[0;32m/usr/local/lib/python3.11/dist-packages/tensorflow/python/eager/polymorphic_function/concrete_function.py\u001b[0m in \u001b[0;36m_call_flat\u001b[0;34m(self, tensor_inputs, captured_inputs)\u001b[0m\n\u001b[1;32m   1320\u001b[0m         and executing_eagerly):\n\u001b[1;32m   1321\u001b[0m       \u001b[0;31m# No tape is watching; skip to running the function.\u001b[0m\u001b[0;34m\u001b[0m\u001b[0;34m\u001b[0m\u001b[0m\n\u001b[0;32m-> 1322\u001b[0;31m       \u001b[0;32mreturn\u001b[0m \u001b[0mself\u001b[0m\u001b[0;34m.\u001b[0m\u001b[0m_inference_function\u001b[0m\u001b[0;34m.\u001b[0m\u001b[0mcall_preflattened\u001b[0m\u001b[0;34m(\u001b[0m\u001b[0margs\u001b[0m\u001b[0;34m)\u001b[0m\u001b[0;34m\u001b[0m\u001b[0;34m\u001b[0m\u001b[0m\n\u001b[0m\u001b[1;32m   1323\u001b[0m     forward_backward = self._select_forward_and_backward_functions(\n\u001b[1;32m   1324\u001b[0m         \u001b[0margs\u001b[0m\u001b[0;34m,\u001b[0m\u001b[0;34m\u001b[0m\u001b[0;34m\u001b[0m\u001b[0m\n",
            "\u001b[0;32m/usr/local/lib/python3.11/dist-packages/tensorflow/python/eager/polymorphic_function/atomic_function.py\u001b[0m in \u001b[0;36mcall_preflattened\u001b[0;34m(self, args)\u001b[0m\n\u001b[1;32m    214\u001b[0m   \u001b[0;32mdef\u001b[0m \u001b[0mcall_preflattened\u001b[0m\u001b[0;34m(\u001b[0m\u001b[0mself\u001b[0m\u001b[0;34m,\u001b[0m \u001b[0margs\u001b[0m\u001b[0;34m:\u001b[0m \u001b[0mSequence\u001b[0m\u001b[0;34m[\u001b[0m\u001b[0mcore\u001b[0m\u001b[0;34m.\u001b[0m\u001b[0mTensor\u001b[0m\u001b[0;34m]\u001b[0m\u001b[0;34m)\u001b[0m \u001b[0;34m->\u001b[0m \u001b[0mAny\u001b[0m\u001b[0;34m:\u001b[0m\u001b[0;34m\u001b[0m\u001b[0;34m\u001b[0m\u001b[0m\n\u001b[1;32m    215\u001b[0m     \u001b[0;34m\"\"\"Calls with flattened tensor inputs and returns the structured output.\"\"\"\u001b[0m\u001b[0;34m\u001b[0m\u001b[0;34m\u001b[0m\u001b[0m\n\u001b[0;32m--> 216\u001b[0;31m     \u001b[0mflat_outputs\u001b[0m \u001b[0;34m=\u001b[0m \u001b[0mself\u001b[0m\u001b[0;34m.\u001b[0m\u001b[0mcall_flat\u001b[0m\u001b[0;34m(\u001b[0m\u001b[0;34m*\u001b[0m\u001b[0margs\u001b[0m\u001b[0;34m)\u001b[0m\u001b[0;34m\u001b[0m\u001b[0;34m\u001b[0m\u001b[0m\n\u001b[0m\u001b[1;32m    217\u001b[0m     \u001b[0;32mreturn\u001b[0m \u001b[0mself\u001b[0m\u001b[0;34m.\u001b[0m\u001b[0mfunction_type\u001b[0m\u001b[0;34m.\u001b[0m\u001b[0mpack_output\u001b[0m\u001b[0;34m(\u001b[0m\u001b[0mflat_outputs\u001b[0m\u001b[0;34m)\u001b[0m\u001b[0;34m\u001b[0m\u001b[0;34m\u001b[0m\u001b[0m\n\u001b[1;32m    218\u001b[0m \u001b[0;34m\u001b[0m\u001b[0m\n",
            "\u001b[0;32m/usr/local/lib/python3.11/dist-packages/tensorflow/python/eager/polymorphic_function/atomic_function.py\u001b[0m in \u001b[0;36mcall_flat\u001b[0;34m(self, *args)\u001b[0m\n\u001b[1;32m    249\u001b[0m         \u001b[0;32mwith\u001b[0m \u001b[0mrecord\u001b[0m\u001b[0;34m.\u001b[0m\u001b[0mstop_recording\u001b[0m\u001b[0;34m(\u001b[0m\u001b[0;34m)\u001b[0m\u001b[0;34m:\u001b[0m\u001b[0;34m\u001b[0m\u001b[0;34m\u001b[0m\u001b[0m\n\u001b[1;32m    250\u001b[0m           \u001b[0;32mif\u001b[0m \u001b[0mself\u001b[0m\u001b[0;34m.\u001b[0m\u001b[0m_bound_context\u001b[0m\u001b[0;34m.\u001b[0m\u001b[0mexecuting_eagerly\u001b[0m\u001b[0;34m(\u001b[0m\u001b[0;34m)\u001b[0m\u001b[0;34m:\u001b[0m\u001b[0;34m\u001b[0m\u001b[0;34m\u001b[0m\u001b[0m\n\u001b[0;32m--> 251\u001b[0;31m             outputs = self._bound_context.call_function(\n\u001b[0m\u001b[1;32m    252\u001b[0m                 \u001b[0mself\u001b[0m\u001b[0;34m.\u001b[0m\u001b[0mname\u001b[0m\u001b[0;34m,\u001b[0m\u001b[0;34m\u001b[0m\u001b[0;34m\u001b[0m\u001b[0m\n\u001b[1;32m    253\u001b[0m                 \u001b[0mlist\u001b[0m\u001b[0;34m(\u001b[0m\u001b[0margs\u001b[0m\u001b[0;34m)\u001b[0m\u001b[0;34m,\u001b[0m\u001b[0;34m\u001b[0m\u001b[0;34m\u001b[0m\u001b[0m\n",
            "\u001b[0;32m/usr/local/lib/python3.11/dist-packages/tensorflow/python/eager/context.py\u001b[0m in \u001b[0;36mcall_function\u001b[0;34m(self, name, tensor_inputs, num_outputs)\u001b[0m\n\u001b[1;32m   1681\u001b[0m     \u001b[0mcancellation_context\u001b[0m \u001b[0;34m=\u001b[0m \u001b[0mcancellation\u001b[0m\u001b[0;34m.\u001b[0m\u001b[0mcontext\u001b[0m\u001b[0;34m(\u001b[0m\u001b[0;34m)\u001b[0m\u001b[0;34m\u001b[0m\u001b[0;34m\u001b[0m\u001b[0m\n\u001b[1;32m   1682\u001b[0m     \u001b[0;32mif\u001b[0m \u001b[0mcancellation_context\u001b[0m \u001b[0;32mis\u001b[0m \u001b[0;32mNone\u001b[0m\u001b[0;34m:\u001b[0m\u001b[0;34m\u001b[0m\u001b[0;34m\u001b[0m\u001b[0m\n\u001b[0;32m-> 1683\u001b[0;31m       outputs = execute.execute(\n\u001b[0m\u001b[1;32m   1684\u001b[0m           \u001b[0mname\u001b[0m\u001b[0;34m.\u001b[0m\u001b[0mdecode\u001b[0m\u001b[0;34m(\u001b[0m\u001b[0;34m\"utf-8\"\u001b[0m\u001b[0;34m)\u001b[0m\u001b[0;34m,\u001b[0m\u001b[0;34m\u001b[0m\u001b[0;34m\u001b[0m\u001b[0m\n\u001b[1;32m   1685\u001b[0m           \u001b[0mnum_outputs\u001b[0m\u001b[0;34m=\u001b[0m\u001b[0mnum_outputs\u001b[0m\u001b[0;34m,\u001b[0m\u001b[0;34m\u001b[0m\u001b[0;34m\u001b[0m\u001b[0m\n",
            "\u001b[0;32m/usr/local/lib/python3.11/dist-packages/tensorflow/python/eager/execute.py\u001b[0m in \u001b[0;36mquick_execute\u001b[0;34m(op_name, num_outputs, inputs, attrs, ctx, name)\u001b[0m\n\u001b[1;32m     51\u001b[0m   \u001b[0;32mtry\u001b[0m\u001b[0;34m:\u001b[0m\u001b[0;34m\u001b[0m\u001b[0;34m\u001b[0m\u001b[0m\n\u001b[1;32m     52\u001b[0m     \u001b[0mctx\u001b[0m\u001b[0;34m.\u001b[0m\u001b[0mensure_initialized\u001b[0m\u001b[0;34m(\u001b[0m\u001b[0;34m)\u001b[0m\u001b[0;34m\u001b[0m\u001b[0;34m\u001b[0m\u001b[0m\n\u001b[0;32m---> 53\u001b[0;31m     tensors = pywrap_tfe.TFE_Py_Execute(ctx._handle, device_name, op_name,\n\u001b[0m\u001b[1;32m     54\u001b[0m                                         inputs, attrs, num_outputs)\n\u001b[1;32m     55\u001b[0m   \u001b[0;32mexcept\u001b[0m \u001b[0mcore\u001b[0m\u001b[0;34m.\u001b[0m\u001b[0m_NotOkStatusException\u001b[0m \u001b[0;32mas\u001b[0m \u001b[0me\u001b[0m\u001b[0;34m:\u001b[0m\u001b[0;34m\u001b[0m\u001b[0;34m\u001b[0m\u001b[0m\n",
            "\u001b[0;31mKeyboardInterrupt\u001b[0m: "
          ]
        }
      ],
      "source": [
        "%%time\n",
        "\n",
        "min_episodes_criterion = 3000\n",
        "max_episodes = 10000\n",
        "max_steps_per_episode = 500\n",
        "\n",
        "# Cartpole-v1 is considered solved if average reward is >= 475 over 500\n",
        "# consecutive trials\n",
        "reward_threshold = 475\n",
        "running_reward = 0\n",
        "\n",
        "# Discount factor for future rewards\n",
        "gamma = 0.99\n",
        "\n",
        "# Keep last episodes reward\n",
        "episodes_reward: collections.deque = collections.deque(maxlen=min_episodes_criterion)\n",
        "\n",
        "with tqdm.trange(max_episodes) as t:\n",
        "  for i in t:\n",
        "    initial_state = tf.constant(env.reset(), dtype=tf.float32)\n",
        "    episode_reward = int(train_step(\n",
        "        initial_state, model, optimizer, gamma, max_steps_per_episode))\n",
        "\n",
        "    episodes_reward.append(episode_reward)\n",
        "    running_reward = statistics.mean(episodes_reward)\n",
        "\n",
        "    t.set_description(f'Episode {i}')\n",
        "    t.set_postfix(\n",
        "        episode_reward=episode_reward, running_reward=running_reward)\n",
        "\n",
        "    # Show average episode reward every 10 episodes\n",
        "    if i % 10 == 0:\n",
        "      pass # print(f'Episode {i}: average reward: {avg_reward}')\n",
        "\n",
        "    if running_reward > reward_threshold and i >= min_episodes_criterion:\n",
        "        break\n",
        "\n",
        "print(f'\\nSolved at episode {i}: average reward: {running_reward:.2f}!')\n"
      ]
    },
    {
      "cell_type": "markdown",
      "metadata": {
        "id": "ru8BEwS1EmAv"
      },
      "source": [
        "## Visualization\n",
        "\n",
        "After training, it would be good to visualize how the model performs in the environment. You can run the cells below to generate a GIF animation of one episode run of the model. Note that additional packages need to be installed for Gym to render the environment's images correctly in Colab."
      ]
    },
    {
      "cell_type": "code",
      "execution_count": 34,
      "metadata": {
        "id": "qbIMMkfmRHyC",
        "colab": {
          "base_uri": "https://localhost:8080/"
        },
        "outputId": "1e6396b9-510e-4498-8ca3-2b3f819fa513"
      },
      "outputs": [
        {
          "output_type": "stream",
          "name": "stderr",
          "text": [
            "/usr/local/lib/python3.11/dist-packages/gym/core.py:43: DeprecationWarning: \u001b[33mWARN: The argument mode in render method is deprecated; use render_mode during environment initialization instead.\n",
            "See here for more information: https://www.gymlibrary.ml/content/api/\u001b[0m\n",
            "  deprecation(\n"
          ]
        }
      ],
      "source": [
        "# Render an episode and save as a GIF file\n",
        "\n",
        "from IPython import display as ipythondisplay\n",
        "from PIL import Image\n",
        "from pyvirtualdisplay import Display\n",
        "\n",
        "\n",
        "display = Display(visible=0, size=(400, 300))\n",
        "display.start()\n",
        "\n",
        "\n",
        "def render_episode(env: gym.Env, model: tf.keras.Model, max_steps: int):\n",
        "  screen = env.render(mode='rgb_array')\n",
        "  im = Image.fromarray(screen)\n",
        "\n",
        "  images = [im]\n",
        "\n",
        "  state = tf.constant(env.reset(), dtype=tf.float32)\n",
        "  for i in range(1, max_steps + 1):\n",
        "    state = tf.expand_dims(state, 0)\n",
        "    action_probs, _ = model(state)\n",
        "    action = np.argmax(np.squeeze(action_probs))\n",
        "\n",
        "    state, _, done, _ = env.step(action)\n",
        "    state = tf.constant(state, dtype=tf.float32)\n",
        "\n",
        "    # Render screen every 10 steps\n",
        "    if i % 10 == 0:\n",
        "      screen = env.render(mode='rgb_array')\n",
        "      images.append(Image.fromarray(screen))\n",
        "\n",
        "    if done:\n",
        "      break\n",
        "\n",
        "  return images\n",
        "\n",
        "\n",
        "# Save GIF image\n",
        "images = render_episode(env, model, max_steps_per_episode)\n",
        "image_file = 'cartpole-v1.gif'\n",
        "# loop=0: loop forever, duration=1: play each frame for 1ms\n",
        "images[0].save(\n",
        "    image_file, save_all=True, append_images=images[1:], loop=0, duration=1)\n"
      ]
    },
    {
      "cell_type": "code",
      "execution_count": 35,
      "metadata": {
        "id": "TLd720SejKmf",
        "colab": {
          "base_uri": "https://localhost:8080/",
          "height": 421
        },
        "outputId": "ca3574f6-0947-4a4b-cba8-0e874652728e"
      },
      "outputs": [
        {
          "output_type": "execute_result",
          "data": {
            "text/plain": [
              "<IPython.core.display.HTML object>"
            ],
            "text/html": [
              "<img src=\"data:image/gif;base64,R0lGODlhWAKQAYYAAP////7+/v79/f38+/38+v37+fz6+Pz59/v49fv49Pv38/r28vr18fn07/n07vjz7fjy6/jx6/fw6ffw6Pfv6Pbu5vbu5fXt5PXs4/Xr4vTq4PTq3/Pp3vPo3fLn3PLm2vLm2fHl2PHk1/Dj1vDi1PDi0+/h0u/g0e/g0O7f0O7ezu7eze3dze3dzO3cy+zbyuzbyezayOvZx+vYxerXxOrXw+rWwunVwenUv+jTvujTvejSvOfRu+fQuebPuObPt+XOtuXNteXMs+TMs8qYZZ6MoYiGwIGEyykeFCUcEiIaER4XDxsUDRgSDBUQChINCQ4LBwsIBQgGBAUEAgIBAQAAAAAAAAAAAAAAAAAAAAAAAAAAAAAAAAAAAAAAAAAAAAAAAAAAAAAAAAAAAAAAAAAAAAAAAAAAAAAAAAAAAAAAAAAAAAAAAAAAAAAAAAAAAAAAAAAAAAAAAAAAAAAAAAAAAAAAAAAAAAAAAAAAAAAAAAAAAAAAAAAAAAAAAAAAACH/C05FVFNDQVBFMi4wAwEAAAAsAAAAAFgCkAEACP8AAQgcSLCgwYMIEypcyLChw4cQI0qcSLGixYsYM2rcyLGjx48gQ4ocSbKkyZMoU6pcybKly5cwY8qcSbOmzZs4c+rcybOnz59AgwodSrSo0aNIkypdyrSp06dQo0qdSrWq1atYs2rdyrWr169gw4odS7as2bNo06pdy7at27dw48qdS7eu3bt48+rdy7ev37+AAwseTLiw4cOIEytezLix48eQI0ueTLmy5cuYM2vezLmz58+gQ4seTbq06dOoU6tezbq169ewY8ueTbu27du4c+vezbu379/AgwsfTry48ePIkytfzry58+fQo0ufTr269evYs2vfzr279+/gw4v/H0++vPnz6NOrX8++vfv38OPLn0+/vv37+PPr38+/v///AAYo4IAEFmjggQgmqOCCDDbo4IMQRijhhBRWaOGFGGao4YYcdujhhyCGKOKIJJZo4okopqjiiiy26OKLMMYo44w01mjjjTjmqOOOPPbo449ABinkkEQWaeSRSCap5JJMNunkk1BGKeWUVFZp5ZVYZqnlllx26eWXYIYp5phklmnmmWimqeaabLbp5ptwxinnnHTWaeedeOap55589unnn4AGKuighBZq6KGIJqrooow26uijkEYq6aSUVmrppZhmqummnHbq6aeghirqqKSWauqpqKaq6qqsturqq7DG/yrrrLTWauutuOaq66689urrr8AGK+ywxBZrLFhEJKvsskQcW5gAzEbrLGEERMvstIMZYO2y2AqGwLbKdhuYAuAmKy5gDJTb7Ll+OaAuu35B8C68fEkwL716VXAvvnhdsC+/dmXwL8B0bTAwwXJ1cDDCcH2wMMNuhfAwxGyNMDHFapVwMcZoobAxx2ap8DHIZLkwMsliwXAyymDJsDLLXtHwMsxc2TAzzVrhcDPOWOmwM89W8fAz0FT5MDTRUgVxNNJQDbE0006pGwTUZan7A9VkqdsD1mOpuwPXYqmbA9hhqXsD2ciWWwPaX6k7A9teqRsD3F2p6wLdXKm7At5bqf+bAt9aqWsC4FmpSwLhWKkrAuJXqQsC41ap6wHkVanLAeVUqasB5lOpiwHnUqlbAehRqTsB6VCpGwHqT6n7AOtRl9sA7E2puwDtTKmbAO5LqXsA70qpWwDwSak7APFIPY28SwEovzxLAzj/vEoFSD89SgdYf71JCWi/PUkLeP+9SA2IPz5ID5h/vkcRqL8+RxS4/75GFsg/P0YY2H+/RRrovz9FHPDf/yTiAQEOECIgMOABHSICBS6QISRw4AMVYgIJThAhKbDgBQ3CAg1ukCAv8OAHBRIDEY5wBib8YA1SuMEbsPCCOXjhBHcgwwf2oIYL/AEOD6i0co0QJuoSwg//X6IuIAzRJerywRFboi4eLJEl6tLBE1eiLhxMUSXqssEVU6IuGmwRJeqSwRdPoi4YjNEk6mrBGUuiLhWskSTqOsEbR6KuEsxRJOoawR1Doq4Q7BEk6vrAHz+irg4MUiFVSKQiF8lIRqoLCY2MZCO/KMlKKlJdSbBkJSmpSUmqSwmdjCQnQ+nIZBXBCEcwQhGUtQRSMnKUrkxkso5Ay1oeIVlMiKUiYRlLItjyl0Rogi4TyUtX/vKYThhmFYpJymP+8gnKZGYonWlLKERzi8qsAjVrGYVrXjGb26SlFLw5xWz6kppEmAI5n2jOcwKTCFRY5xLbSYRTpnKVycqmNLPJwk9iFqqfAA2oQAdK0IIa9KAITahCF8rQhjr0oRCNqCY/I1FL7rOiF5VoRiO6UYh29KEfdWhIGzpShpZ0oSdVaEoTulKEtvSgLzXoIWdK05ra9KY4zalOd8rTnvr0p0ANqlCHStSiGvWoSE2qUpfK1KY69alQjapUp0rVqlr1qljNqla3ytWuevWrYA2rWMdK1rKa9axoTata18rWtrr1rXCNq1znSte62vWueM2rXvfK17769a+ADaxgB0vYwho2RgEBACH5BAEAADIALJ8ArACpAI8Ahf////38+vv49fr18fr18Pjy7Pjy6/bu5vXr4vTq4PPo3fHl2PHk1+/h0+/g0e7ezuzbyerXxOrWwunUv+fRuuXNteTMs9/Bo9q3k9SthM+idcqYZZ6MobSHWoiGwIGEy4KBvI1/mX19umxmiFM+KT8wHzssHTMmGSwhFicdEyUcEh8XDxkTDBIOCRINCQsIBQUEAgAAAAAAAAAAAAAAAAAAAAAAAAAAAAAAAAAAAAAAAAAAAAAAAAAAAAAAAAAAAAj/AGUIHEiwoEEZABIqXAjgoMOHECNKnEgxIoEEDiRYuIAhg4YNFUOKJMiwZMORKFOqrLihpcuXGwasnGnQJEOaOHOihMkTgU6aNhf+HEr0IE+YDYqmDKpQqdOhR19GeCqSaUKqWGdGdVkhK0WrJ72KZbm15diIYM+qjTihLMi1B9PCnUvwgVu6BeXinavg7l6Bev+qLeD3b2DBYwO4FSD4MGKxbg80tvp4rVsGk5lWVusWQuagm8+6pfDZZuixbt/udXzaKYXCeFm3LgoBNl3Zs4cusD0Xd26dB3jD9f0bpwC3AQxTLv7UrQHlmpk7dasAOmjpSt0+sG4ae1G3E7ib//T+Xbha4uRRVjB/Fn16kRHYj3X/vmID+WLp15+IAL9X/ftFNIB/WQEYIERuyRTbcgdqVZZPC0bX4EpuJRXhdROq5NZUF3aXYUpuddXheB+CSCBVBpY4UFtlrcagiiHZ1eKIJcE4Ul8z3vaijRMRlmNvO/IYkWJlMaajhEJOFBmNNyVJ0WVMCuWkkmV5diSGUyJYFmlXepjlQ6lF2dSXEL3241op2ljbmecFSSZBDJzoVJowBsdme26+KdBxZSUHJJJ6FuRclyQGahB1hNZo6KFlbfcnlosKBF6iTUY6UJiPemnpenfml2eg8XX636d63idqgaS+2d+pWKX65oCsPv9FJ48JDufqm25B2CaglspQoa28WrohsJD2GiKxmhor51Cz2sjiVsgW2qtAMkKL5q1k4mjtrsVa6uO2eAYbKZFbGRlut8KWJRm3ySq7FWbsSjutr1VeK26ko9mLLr7L6tSsjWaC6+m9i64p8KgEGxpnrEX9W2e/OTmsIp9b+TkftriW9dy57bobVXUcyzuvdvEqOu+lZYUXsskn08swsxiTyenBrcb8Zag0o2hzlqbmLOvOU67q85xAOwnr0EpJDGOtFye8aK4rV9qyy1FZOPC+6W7F4dUde3yUiFyLPDLEMymt4rNRRS3l1DJUm3bTWEeq7dths9yyAWSvZHaJ5Eb/ZS6qTj+tLtxde80TvAjHze9WViZeeNZRcem42GO/HHHRUwZMN+CKF5w3WKCHvrdYMZRu+umon36CW6m33rrosMc+pneu1176CqzbXrvsvIeenu6uv+AWDMC/3vvxnW9WfOsuceDBBx5w4BILy6OO/PV2M1c96i194P33H7SEwvamY2/+VeSRb/oG4Le/QQnqx3C++b/H3/79JMQ/P/b1q3+/+/rbH/L6R77/gW8DARRg7wi4PQN+D4HqU+DxGFg9B3oPguST4ALTFz8VOLAlCdQg7Ci4PBew734uCaEIfcfB+G2gAyEAwQdEMAITpKAF8ZPfCkfYwhz6sHVsS88OaXlIux8a0XpDZGERj8jEJCoRO0yMohNBR8IoRnCKmKOLFY+IxSzOZYtG7GLglAdGH4oxeZUpoxnPSLncqDGHbGzjbN6owjiGBYp0zKAd14bHPFZvj3yUjh+3B8jZ9XGQwCsk+paISN0FBAAh+QQBAABYACwUAawANACPAIb////+/v7+/f39/Pv9+/n8+vj8+ff7+PX7+PT79/P69vH69fH69fD59O/58+748+348uz48uv38er38On27+f27ub27uX17eT17OP16+L06uD06d/z6d7z6N3y59vy5trx5dnx5Nfx5Nbw4tTv4dPv4NHv4NDu38/u3s7t3c3t3Mvs28rs2sjr2cfr2cbr2MXq18Tq1sLp1cHp1cDp1L/o077o0rzn0bvn0brm0Lnmz7jlzrblzbXlzLPkzLPky7LfwaPat5PUrYTPonXKmGWejKGIhsCBhMuNf5mgeFB3WjtXQStPOydOOydHNiM/Lx82KBsvIxcnHRMdFg4WEQsOCwcFBAIAAAAAAAAAAAAAAAAAAAAAAAAAAAAAAAAAAAAAAAAAAAAAAAAAAAAAAAAAAAAAAAAAAAAAAAAAAAAAAAAAAAAAAAAAAAAAAAAAAAAAAAAAAAAAAAAAAAAAAAAAAAAAAAAAAAAAAAAAAAAAAAAAAAAAAAAAAAAAAAAAAAAI/wCxCByIhYGGEjF8AAkiZAgRABABEJxIsaLFikQyEqkIIaLEiyBDTtS4keIHjyJThiRZsQVKlTApsqTI42XMm1hmUrSJE2YMjRZ59kw5QidBoUNDUjA6EGnSiwSYClQQ8SlMqVg2VLWaEmsKp1xHAqWIA2zYgVixmD2LxcbYnVvZVkTxduLasxrqHo0rd2ICrAb49iWI9YLgwQKxljiMGCsNxoPT3g27Q29TyHJZWBY4meuHzWoxs30AeoBotqAnnD6LVcTqsFhhvOYqGSJimaBnW/2ZMajt2wSL9q7Y2erS4XB/A8cSFflEB7qfgvYQPSloFtWHgt6RvWftj8vb5v9Wvpyu873gl+c9fzk98L/sBSbojhO0Bvo3QaPAHxP0Df5XxccZecBVVhJxBN6mmYAAqvQZgwkiRpqABUTYmIAWWBiZgCQ02JWAM3goEmihuXcbiSKGxNtFKYIkHIsaynXcgRMJECNbzdFIkAQ3oiZgCD2yJuALQcIm4A9F0iZgieEJ5JaO6DWJhXkwmojYelVKCd9FDSRp1ZIdeCmdgCuIaZ2AOpip3ZJq9mQgjFJisWCWTT5IZ3gTXoRAm/VBOVAGfObnp0AnBNrfoG0ZGiCiiqqEopWIrehbnC9OKuVxUDUqUnMXVaDpiIiO8OlKiMowKkhLhhZnqqde9CScUlL/aWmTWFoUAKSDbWlRBLhueBEIvfa1pAutWrRkD8VihKiqUlYGUrIUafZssGx9Nm2ceVq0ALU+XsQBt0JepAK4Rl6UA7lKXislq+g+9ZO6TRYFb3hLgXRAu0lFBRIG+J55kQn9rnlRDQFf0SdIBuMEQMKHItzTwjgtsewVDMME8U1PlFSEEUcYUURJFCtcsUpSbHSETFhYMXJKF8dUBREnYzTFyiK1HFPMFkFBc0g2w4RzRU3s/KzQIP0sE9FBIW2R0SMpvZPTFDFNGNRHUU2QE1LnhIXVnHEtUBQwo7y1yD1RsdHGHSOhBBNjk+1dEmtLEVbAt3l9W89xEmc3YnjnI23X3oP17XdTgPcl+OBqFS7X4YMz7rfjeUMep+RSUt4kAAEBACH5BAEAAGUALAoBrAA9AI8Ahv////7+/v7+/f79/f38+/38+v37+fz6+Pz59/v49fv49Pv38/r28vr18fr18Pn07/n07vjz7fjy7Pjy6/jx6/fx6vfw6ffv6Pbv5/bu5fXt5PXs4/Xr4vTq4PTp3/Pp3vPo3fLn3PLn2/Lm2vLm2fHl2fHk1/Dj1vDj1fDi1O/h0+/g0e/g0O7fz+7ezu3dze3cy+zbyuzbyezayOvZx+vYxerXxOrXw+rWwunVwenVwOnUv+jTvujSvOfRu+fRuubQuebPuObPt+bOtuXNteXNtOXMs+TMs+TLst/Bo9q3k9SthM+idcqYZZ6MobSHWoiGwIGEy4KBvI1/mX19umxmiF5HL0k3JEc2IzssHTQnGjMmGSkeFCcdEx8XDx0WDhMOCRIOCQoHBQgGBAAAAAAAAAAAAAAAAAAAAAAAAAAAAAAAAAAAAAAAAAAAAAAAAAAAAAAAAAAAAAAAAAAAAAAAAAAAAAAAAAAAAAAAAAAAAAAAAAAAAAAAAAAAAAAAAAj/AMsIHDjQQYcVOI4kUbKESRMAECNCJEixosWLGAc22chx48AHEiVmHEnyYseOAz2EjFiyZcuTHAe2WDnRpU2MMD0K3EETwM2fFXM2IdgTqFGBQ4QOLHoUKA2lApk2vWkCahmpU11isNrTZ1aXCKwewPqVpNULZMtmtGoirVqTOQfScPs2KFQhdOsSFDo0Kk29I3lw/QsYo4vBhAtX/IB4pWKLEBqHfGzRqoO8ha12wAyYr0AWnPV6LqMjdN3RVxNTHkhEssjVA2u4Zglb4InZNWtnwO21dgKrBky/tWpBuNrRJYyXHT1D+dfRQJxnRd21tsAevK2XeZHdOojutSOA/4ctYDQD6VNHc0DfdPQK9kdH56hunTp8oEXGr7ahn3KK/o9pMBp9tSkwWgH3ATVaBQn+NNoIBMI2WgwRrjbaDxVSZp9qq/kAoGIwfFhYCAM2aJMEJXJIGQGjLZDhY6Nt8KJio6kwY2ZQ4XBjZ1AhsaNeR4gI2A0pOmadCkVOZt0GSb5W2wKjEfDjaVBNMOVwUIlw5XFQwbDlclD58OVzTdJW2w9l5gZbDGn2BtsIbbpJGQVxWlfAaAqMOR1UGuiZHlQp+NkeVDYIGp9nRhhqFF99KQpUDnXWtkKksHFA6WoMjDaAow5CJQGnN40GAqg2MbodqS6Z2gOqL11KGRCuPv8mQ6yKkUBrYRbcCpgBoyXAakmmZvCrWZ6hMOxIptZw7FqeEdGVnDDqqpcO0tbFQrVvdYCtWg2MFsCyOHkGAbhwKfUBuZV55sKz9XnGA7u1mZqaiS0Fsa1FZOSr774YYTHavgCTkdGzAfN70Rb/FpzvwF0pvPBFX5jqsMAYEewwRmNw5AQUUUDhhEdiXFxxwyLDFcXJKEcxlBcTj9xTyzilLHMZWsBskcUKZyTzzFfYXBHOBeu8M8plWOEzRUAHLPTQUZTRxNFEkZwzRkyf7DTUS0kdNNVVX13yz1orjREXVW+EtV8vf10RGE0M7dHZ89IEt0BNPDGFFFFQUUUWXYRBMXfSAB8VeEvwagfU3IABbrB1iutreOMPMx724JKnPXXlcqu9GuQUY74S4npx/vjki9cmunanex4S6HWlbnpXAQEAIfkEAQAATwAs+QCsAEQAjwCG/////v7+/v39/fz7/fz6/fv5/Pr4/Pn3+/j1+/j0+/fz+vby+vXx+vXw+fTv+fTu+PPt+PLs+PLr+PHr9/Dp9+/o9u7m9e3k9ezj9evi9Org9Orf8+ne8+jd8uba8ubZ8eXY8eTX8OPW8OLU8OLT7+HT7+DR7t/Q7t7O7d3N7dzL7NvK7NvJ69nH69jF6tfE6tfD6tbC6dXB6dS/6NO96NK859G759G659C55s+45s+35c625c215Myz38Gj2reT1K2Ez6J1yphlnoyhiIbAgYTLYUkwVD8qRzYjOisdLSIWIRgQGRMMCwgFAAAAAAAAAAAAAAAAAAAAAAAAAAAAAAAAAAAAAAAAAAAAAAAAAAAAAAAAAAAAAAAAAAAAAAAAAAAAAAAAAAAAAAAAAAAAAAAAAAAAAAAAAAAAAAAAAAAAAAAAAAAAAAAAAAAAAAAAAAAAAAAAAAAAAAAAAAAAAAAAAAAAAAAAAAAAAAAAAAAAAAAAAAAAAAAAAAAAAAAACP8AnwgcSJBgAw0mYvTw8QNIECECAUicSLGgxYsYM2oUwrGjRyEIKIqcqLGkyZIfU0YYOfKky5cCU37MwFIkzJsoZXYEUbMizp8WdXZE0ZMk0KMxhQp5UVQiUqRKhdhoCuDp0ahCqFoFyiOq1q04Z3j9CvYli6hPyJY9WQKt2rUlO7htCtelhblF655kgLenXpMEog54+/di1AWECxeMWiGx4oFROTh+/CTqiLR0KQdVugJzXs2Llcrw7Bc0wag6SNc0fbrvatYCb7hmCVvgi9kta6PAbbN2CN4+YWcAHtx0BLSqacNGgHyy4qgGkueGHfWB9N7UlV64Xtx0VA/cjWb/F2oivNPaUVuYr4peKY31tSsr7bGePeuuSiNmZi02P3zYZ/nn3F9tCbifaXIZ+BlrdylYGmt8Ofgaa4EpFcB/4+mUQH3tCTWBfgt6p5QGID4oolAhlDjhiTqloKJyrEUFw4vTsSgTDjRiZ6NMOXanmWwSwmjabUHWCNpuRRpJ2W/+YQjacE0OWJcEyDmpGXNRHghaVAT0KN6OHzHg5XkxKmXBmPaB6VEHaHaoEwlopqlZVCwMJCVcUc1gp5aURbXDniFqhp9QgJqoWX+EtslagIlaSVmBjd65VoKR8vlYg5UGSlmEmWqqWIWNOvpYVAcUuuKcSkFgqpCoCoXBqkqO/6rUB7Dq2KpOJ9Tqo6xCuaDrl7fKVMOvZG5ZJVVyPgZkqJKCRSSzlhaGJLSeFsYktYY+BiW2pz5GZZOiFoYlt6z2qZQAxCbLq04KpJuhTBSkq25hUW1AULNbRSXCvdH+FZUK/Fbrr1IxBJztc0rlYHC3ig2q08LlKobow+6axijFioIGKcYcgkYpx+HqhSnI+D7FKcn91gUqygLrFVUBEMdKr1IOxGzrS07krPPOPOcMmVJLENRzz/JSNPTRPicllBJCI510fUY7TbTSOiXRtNNFTyT11PIJMQQRRRAxREdIXI011FpvvfPPRbTtdhEcHVHQ1nFGrfbTQryttxBGzKEtdd1p3+3EQHoXDpHZRwMukeBPF76332cja/fdhDvu9uED0Y324oxXbjnckCOtOACMDy7Q521jLpDmkgdOuUBMfM5R6IlvTnrnAjWRt+GzIz706KW39nXYY3dk0dm2B19Y68XGd5TyfzF/u+CKSQ+9XtbjHj3z19eVPfXLc6899uKDv33r3cP1/evnS57+WuurXX357JOP/vje0y9/+K0HBAAh+QQBAABVACzkAKwASACPAIb////+/v7+/f39/Pv9/Pr9+/n8+vj8+ff7+PX7+PT79/P69vL69fH59O/59O748+348uz48ev38On38Oj37+j27+f27ub27uX17eT17OP16+L06uD06t/z6d7z6N3y59zy5try5tnx5djx5Nfw49bw4tTw4tPv4dLv4NHu39Du3s7u3s3t3c3t3czt3Mvs28rs28ns2sjr2cfr2MXq18Tq18Pq1sLp1cHp1L/o077o073o0rzn0bvn0Lnmz7jmz7flzrblzbXlzLPkzLPKmGWejKGIhsCBhMsTDgkSDQkQDAgOCwcNCgYLCAUKBwUIBgQHBQMFBAIDAgECAQEAAAAAAAAAAAAAAAAAAAAAAAAAAAAAAAAAAAAAAAAAAAAAAAAAAAAAAAAAAAAAAAAAAAAAAAAAAAAAAAAAAAAAAAAAAAAAAAAAAAAAAAAAAAAAAAAAAAAAAAAAAAAAAAAAAAAAAAAAAAAAAAAAAAAAAAAAAAAAAAAAAAAAAAAAAAAAAAAI/wCrCBxIsCBBIggTKiRSEIDDhxANSpxIsaLBhRgDDITI8aHFjyApYlwoYGNHjiFTqhypcIDJkx5VyrTIMiGBlzABzNw5sSbCAjhh8hx60KeBoCeJKvVJ5ADSjkqJMkXwFGVUnkwTVI14dSdTBVtjdpXJdEFYh2NnMmVwVmfalT4btH0Lt6aDuXRDMn2AN+9HphDauvVbkWkEgjnFEu7pUwLixIMXS2RK4XFiySJ9WrCcEzPjmhc4C/V80ScG0UlJF2SaATVU1UVranBtFbZAphtoc7VdhSkH3YphM+0AHC3v3j49FI8s3OeH5ceR1wQB/TjTENV5MxXRELJ1nyO6X//W7pOE+M7ka5Y4P9o2UxPsU7v3eSL+6/k1Udiv3bxmiv279ceSCgAGRxpTLBRoHH4suaAgcwf69MKD39UEA4XpsRQDhgyOJAOHAo40w4MQYsYUDQZBVqJkTNWQoncdYmTDi+OFiNENNKJn40I45Nieakzl4KN8QPqkw5D3FVnTDkjyF2FNPDQZ4JMs9SClgSb65MOVCyrJ0g9crrgYU0CEmeFIQZgZ40JDqAmbEExJpKJtQcTpJmlA2AmiZz/omR1pPvjZF2k9CCrQnLDxYGgViKq2w6KNkqYDpDCqlgOlNZKGA6Y6knYDpz96ZgOoRHpWA6lJekYDqk5iNgOrU2L/JsOijFbqWQy0RooZDLnaitkLvWaKWQvBdorZCsWGKpkKyZYqWQrNpioZCtG2utgJ1ca6mAnZYklYCd12iRkJ4YqZ1wjlwiZCuqqFQGutwi4Gwru6LvYBvb4u5gG+8RLWAb/GLsYBwMoStgHBzhKmAcLSEpYBw9b6hQHE2vplAcXe5lUBxuIuNgHH5r4lAciqRUAyaRCc7NkD78IbsF8OtFwvSFTUbPPNON+MRMs536xiTj0HfXMSPAv9M0xCJ61E0UEffVLSQi+RUBFGHGFEEQlVlLTTHUEdNBMIHSH22EcgpLXRXEPkdc9NEEH22wxRtHXaD62dsxNv531203Q7jGQ3zk/k/fbePfft9982QyE42YTnbDgAiNscxeJjN47z45HXLAXlYlvus+GZUzGF24vHPdHcfYdORdh5my032qmHPnXVV2ftec2Yq07X49GlpToVu4Ou+1u5hx587MYTL3zyaRWf+fF0/w592tIrj/zz1kc/fPPLY8/99ZFPz3X132vP/FjOh5992gEBACH5BAEAAEwALMwArABLAI8Ahv////79/f79/P38+v37+fz6+Pz59/v49fv38/r28vr18fn07/n07vjz7fjy7Pjx6/fv6Pbu5vbu5fXt5PXs4/Xr4vTq4PTq3/Po3fLn3PLm2vLm2fHl2PHk1vDj1vDi1O/g0e/g0O7fz+7ezu3dze3dzO3cy+zbyuzbyezayOvZx+vYxerXxOrWwunVwOnUv+jTvujSvOfRu+fRuubQuebPuObOtuXOtuXNteXNtOTMs+HGqty7mdavh9Ckd8qYZZ6MoYiGwIGEy1dBK0c2IzcpGycdExwVDhYRCw0KBgcFAwAAAAAAAAAAAAAAAAAAAAAAAAAAAAAAAAAAAAAAAAAAAAAAAAAAAAAAAAAAAAAAAAAAAAAAAAAAAAAAAAAAAAAAAAAAAAAAAAAAAAAAAAAAAAAAAAAAAAAAAAAAAAAAAAAAAAAAAAAAAAAAAAAAAAAAAAAAAAAAAAAAAAAAAAAAAAAAAAAAAAAAAAAAAAAAAAAAAAAAAAAAAAAAAAAAAAj/AJkIHEiwoMGDTH746MFjh4wSGBgUBECxokUACDNq3LgRwY+PIEMSvEgSI8eTKBFGCMnyx8iSFlPKnKmhpciBMGPO3MlxhE2QL3Oa5En0YIufH4PmLMq0IA6kLnEKHdqUKdSoAqdSrUoUag6lMLk2hfoCbEmxVpGeMEsSbVGoHthedNsVqQW5OunKJADVAd6Kemc6gGrgL8XAMi1AnTgVccoPiw1vdZwxRWSpQimflHE5a2PNG68yzgxao2jJpU13ZqI1dUaoNkYvdX0QagvZYWkbhEoC91ndBaFy8N0W+ECPSCkQn2tc4EqkElE3Z1ITKYHleY37RGqw9fSj3LED/57+NLz05qfPG0+PeTb61aw/vzffPvd8mzS6y1+PlIV+0sbxhZQI/7kH3GBIaVCgfcAphpQEC/5mHGRIKRBhccZZhpQAFzJnXAzwxQcgcOzVJyGJIXrHH30mYogii56NqFuJMRo4Y4r73fiTDAepqBtyP6nQY46uPfcTCEPK6Fp1P2GQpI2ubfcTBE8ySBt4PyFQ5Ym0lfcTQj7SRmONVro2pohQpnZmmGaGiGaZarrJZpwwksllagL+pAOYRJbWAFQw8KlkaQ7+hIKgaYJG4U8fIAonaBr+dIGjd5YGIlIPUOpim0gdoKmHYrr5ZqWgnTnqpnR++Wl2nKq6Jaqlmf86Z6mizkoZkK52yGppRtqEQ0a2OsakTS4A26dmUtpkgrGDaoalTR0wmyhlXtpUgbSPUnZVA9iSqi1UBXQLq2amngpqqjZpFCxi5a4bWLvHOpZnrrqO59qfopq7q2aF0iveYbQtalMN6saLWKQ23SbuuaBd+tMIBTfr2FUbRDwtu1BNYHG2GCO1wMbedvzTACCPO3G++tqLbksbuUtXuSkDnBqu6ZbMMGW91rzwvsLC7DJayeq8qsqgPdvSDC0brNcNUK2QtMTvQhXC0xfrdVUGVHNsNVQRZB3y1kgl4LXJUSMVwNg3n7TE2my37bbbMDPx9tpaaTX33W0rEffddU/ZhfffSOw9d99C/Y23ESABEYQQQQAB1EZ8Ew6T4XcX8ZEQmGcuRFKQDy55SZTPTcQPmpeOVUaRf35R6G8PUfrrHKWuekWsw/166bF7PjvttbNN+u2Z5/727hb17jvwwXc+PPEUGb/278gL7zbzzTt/OfBHSN829QA4vwRIt/+QhNrLM+99SIoz7vjpGulOvPduo8X9dHrB37b81NvPNv7m678E/+/zHwB357//iYV7BRzg7BJ4wPwJsIH9058CVcdAriDwgRZ0oAQhGMANZjCC9pvg5ypYFe4FBAAh+QQBAABdACy6AKwARQCPAIb////+/f39/Pv9/Pr9+/n8+vj8+ff7+PX7+PT79/P69vL69fH69fD59O/59O758+748uz48uv48ev38On38Oj27+f27ub27uX17eT17OP16+L06uD06t/z6d7z6N3y5try5tnx5djx5Nfw49bw49Xw4tTw4tPv4dPv4dLv4NHv4NDu39Du3s7u3s3t3Mvs28ns2sjr2cfr2cbr2MXq18Tq18Pq1sLp1cHp1L/o077o073o0rzn0brmz7jmz7flzrblzbXlzLPkzLPky7LfwaPat5PUrYTPonXKmGWejKGIhsCBhMuNf5mgeFB3WjtaRC1WQStPOydEMyJDMiE/MB8tIhYsIRYpHhQnHRMWEQsVEAoSDQkAAAAAAAAAAAAAAAAAAAAAAAAAAAAAAAAAAAAAAAAAAAAAAAAAAAAAAAAAAAAAAAAAAAAAAAAAAAAAAAAAAAAAAAAAAAAAAAAAAAAAAAAAAAAAAAAAAAAAAAAAAAAAAAAAAAAAAAAAAAAAAAAI/wC7CBxIsKDBgwWRHDFShIgQGyk2MCAIoKJFiwgzatx48AGSjyBDIhF4sWRFjihTFvQgsiVJkxdVykTpoqXIlzBPztyJkIfNkDhz8hya8CfIoDCJKu1i9OMOpCaXEm2KpAXUklKHUu1wNWbWmQGoNuiK8avMCFQH5ixrNuWHtGR1tkX5Am6XtXLnbuwBF29evRmpjrzrFzBHqjriAjB8uCkLxYw3UuUAOTLCAVQXVLZscILdwpwNiviMN7RBGaTXmi4IJLXQ1QMFqy0NWyDVHLNV12badEXu17WpblC8uHYBqgqI77bgGvhqEs2j7qYRHevuIdW9Bs/OFjZVHL+T7v+mmiK89O1GNZi3DvsA1QTrta/GYJewbtgnuHc3fUP/39CyKYeeUfHJZxpVNxS4H4BNoaBgcQPalMGDuyVAFQIU1qZBfaDBpgKHtMGGA4j3rRbgZiaS6NyBTdnwIIQpGmXCi+M1hQGNsC1A1QE4rsaBiityxgKQ5622A5HsxUhght4haSCDRtVAUYhK2lTClCWyaNQFWAZpmQNUGdCjaSw11aWXkdVk5pih+bSmgFXadKZ4cYoUxJxFQvkTDXgmqadNI/S5oGVhNVWBoP9ZhlZTBSAKY2hvvYliaHVJah+ajPFlaYdaLglnpzYB4eijnFE1w6gRtiQCqqth1hQFrJr/5llTBMQa2mibcsoZarlSyVlrvWJq2ImTltrUDwXpaqxRMSTr67I/hWArZ8c1NcG0ljHX1ADYRgZdsMLqRR24dIaGHbl5WkbspeHORZUPzj4bGVUwxJuluk2BYG+7ZrnXlAT7phsZfU0JELCfluVnKbsCM9YfugjPWx/DDQ87sV+kSmxUDwdHzBhVL3T8pMY/fSDyoIZZ2BQEJydq2IZNBdByxoZ9uDDGq414s7IfT0yxxxtxIfTQRBc9tG0+G100cSYp7fTRvBn1REFPQ41x01UrjbRRUlCdNdMlZa111EkosYQSSYBUhddVg32R2EZ3scVHS9Rt9xIfZcH2025buAT30lcgcffggxEkdt8V/U10F1QM7rhBh/+Ml+JHQ+H44JB/LflalAvN1OV3Z9725jl1zsXnoNctOt+kw2Q66qmv7jTiALxON+hTyD721WF3HvXlSFihe9ytY025QFhE4QQTZqP9kRbDL0776wYl70QThe/E+8i7DUU9YNv77bth4Sc+Pvjlf69X+bWfv3767s/Fvvryw388+fYrztj88bfF//3oCx/9/Je/v+2vgHA7oAD7Zxb2BQQAIfkEAQAAXAAsswCsADoAjwCG/////v7+/v39/v38/fz7/fz6/fv5/Pr4/Pn3+/j1+/j0+/fz+vby+vXx+vXw+fTv+fTu+PPt+PLs+PHr9/Dp9/Do9u/n9u7m9u7l9e3k9ezj9evi9Org9Orf8+ne8+jd8ufc8uba8ubZ8eXY8eTX8OPW8OLU8OLT7+HT7+DR7+DQ7t/Q7t/P7t7O7t7N7d3N7dzL7NvK7NvJ7NrI69nH69jF6tfE6tfD6tbC6dXB6dXA6dS/6NO+6NO96NK859G759G659C55tC55s+45s625c625c215c205Myz38Gj2reT1K2Ez6J1yphlnoyhiIbAgYTLXUYuTDkmOisdKR4UIhoRHRYOFhELEAwICwgFBQQCAAAAAAAAAAAAAAAAAAAAAAAAAAAAAAAAAAAAAAAAAAAAAAAAAAAAAAAAAAAAAAAAAAAAAAAAAAAAAAAAAAAAAAAAAAAAAAAAAAAAAAAAAAAAAAAAAAAAAAAAAAAAAAAAAAAAAAAAAAAAAAAAAAAACP8AuQgcSLCgwYMCmzBZoiQJEhwpODgAQLGiRYQYM2Zk0KSjx49cLIoEoLGkyQwfUzYJObKiyZcYSagE2dIlzJsEZcz0yLImzp9cfOxc2bMlUJxDidakePRmUi5DlpJs+vJpDalUqw7lggJr1pJPOSz9avIphLFkMyJ4OgBtWoQUnnp9exDE1qIj6SJscXeuXoI5+rr9OxCJYJ+ECT494jfxUxyDE3N5yiKy460fLBN+OkGzXgJ3D3imC+GwUckCOZjOi5rLidUiW3OpAfti6yG1mcp+itd266c8RtN9CkP427sijKe9e0E52bsKnGddkFs3agzVp6IeUV02lxjdZff/CP9750DpWe8CQU/17gz2Te+WgH/0rgb6QO82wI/zAHnUE/wn2QcCJraCeQLxhxMOCPZmU2tGNKigUwgSMSFMd9lwoVYzCZTChmUh2AFiuyEYAYmoCXBXAShK9oCELSa2AYyntWYCjay1RgOOsckWBI++oXYXEiCChaAOMV7WIRctJLkZgiA4+VeDFEipV4MIWPmWAkA+iJoFXVqHmghhaocaDGV6x0OY3k3Gpnd3+aDlcUt+N+dydY5w53N1YrDnVw0u8CdVBqQpmwSGtubBm7KlwGhrNzyKWhF1OmimkHUKMWh7ddKwaXx1mvBpfXVuMGp+dT5wKk4BNChAja01/yCpZBrMmlgJla6K0wy5woraD73mWJ5KAxmhK4XECgSZr5I1qMKxGNbpAbPN1ikBtUqCNJAB2P6VQLA9ylYBuEGiFgK5XqLmArpiorYDu5dWm2yC3V5Z5w712jvvC/kONy8XIfR70BYEF7xFiCkRZIXBBZfUEsMEI6ytQFlAfLBGD0NckhaVWnxxRhkzXNIVHjnxBBRPOJGQxw6PZHFJVHQExcw0Q9ERyxi7rLFGUzRRM80r75yzSC9rJMXPMxNU9NAWLY1RFEhDobTQIOssskY+Iz311UxX5DRCWf+8tcEmhUw21lGP3XDLRFMNdtg1C1TF1wiZvXZGHkXdBBZ0H0dkd8RYl3xyyjf3bdDfH1PFddfttgmT4bIh7nhBkk9+ntVnW+4g5K1VrrnnloM+ueiOk96m6d6hHjnmd4fOOuCfv5746CMFBAAh+QQBAABMACyxAKwANQCPAIb////+/v7+/f39/Pv9/Pr9+/n8+vj8+ff7+PX7+PT79/P69vL69fH59O/59O748+348uz48ev38On38Oj27+f27uX17eT17OP16+L06uD06t/z6d7z6N3y59zy5try5tnx5djx5Nfw49bw4tTw4tPv4dLv4NHu39Du3s7u3s3t3Mvs28rs28ns2sjr2cfr2MXq18Tq18Pq1sLp1cHp1L/o077o073o0rzn0bvn0Lnmz7jmz7flzrblzbXlzLPKmGWejKGIhsCBhMtiSjFZQyxXQStMOSZAMCA1KBoVEAoKBwUAAAAAAAAAAAAAAAAAAAAAAAAAAAAAAAAAAAAAAAAAAAAAAAAAAAAAAAAAAAAAAAAAAAAAAAAAAAAAAAAAAAAAAAAAAAAAAAAAAAAAAAAAAAAAAAAAAAAAAAAAAAAAAAAAAAAAAAAAAAAAAAAAAAAAAAAAAAAAAAAAAAAAAAAAAAAAAAAAAAAAAAAAAAAAAAAAAAAAAAAAAAAAAAAAAAAI/wCZCBxIsKDBgj8SKmSi8AeAhw8PSpxIUeCBhgkLQoRYsWNHBxh/aNwIwKNJiRVCjtx4siVBDioJkizp0uWImANn1nSpAqNBnTtPxvC5kmNQkziIyiR51CROgT6ANq34lMkNqVMnVoWBNevBqim6ekWoVKAIpmO1lmWyAW3ar2spuH1LtmHBBnPpDqxqIK/eAGuZiKWLIPDgtw8M+6VrQTFLvQQ7ODYKWSCJyRErC1yBWfNAGZ09M8kR2nPVHovpVrWR+m3gF63TBkYRe2zgELW9BtaQO2vgCb2nBmYQvGngAo89CyitOQHzyhCeQ74gXa8Huz+Tay6BvShNzyy6L/+lrHmG+JzaK+s4L7D40cA83AcNXCN95cAu7EMOfEK/3sAg+KcaexkI6Bp7Ehgo20IGLaCgbQwWRMCDWQ3AnmAUTqXAhfLtFAGHGTaFAYjkVfYBid95ZgKKognUAost0gCjaDvMaFqEBO0QonE4DkTDju/16CKQ8wnJhAlE7nThB0nWdCEGTbp0YQQlanahAlXeZ+QAWepFgI2aLQBmZRIYiWFmomVgZpQtgbBml3Sd8CaanrkwZ4qa1XBni0zwMCefDBmpA5wDZmTQDIQeaGhBLCS64KIEleAohJAO5MGkulU60AWY+qapQBB0KtynTCQgKo8iHSTAqUEVsGeLDLz/KtoEf/KpQa0thoCraCjs6tkLvmpmA6lnAtoDsawWmapBOSSrJKkyOOskqStIKyWpJFjbkpkd0CmamRZ4e+OyBT0grpWkInCuluQSFMC6ehmALLx0NTAvnppRcC+gG+xb0xJLuIQEsQAH3NJDALt0BMEJHwxAwycZwXBNCBt8UhEZARGEEEwAkRHEJ1Xs0hAJCcExQQmBbJLI2/5g8kFEqOwRyye5fPJBMndEs1MvS5RzRTt7ZPNEP1MUdEdD+2xxyA8vLXTPODs9c9PXQk1QEkVPdDRVIlnNkBJZS7Q1RYZqzLHHP4QtNtWAGo1v20rDrTXbcmenNp9jy5033Hu3HN03oH/jTXfdS93dYuCHD054e4ovjrhoj3v2UEAAIfkEAQAABgAssQCsADUAjwCC////yphlnoyhiIbAgYTLAAAAAAAAAAAACP8ADQgcSLCgQQMBEgY4CKAhgIMQI0okqHChQYcPJ2rciFAhQ4ccQ0as+LGhyJMFSV4EibKlyoIYW7r0uNKkzJMvCca8KTLnwJ08OdKsmTHoxqEwWRrViFSn0qUSm/58ChWiVIFAq1pNCDGrVoNXDXj9SpFryaJkU5olmvZgWKptBb61GbesxZp11d5Nijbv3L51/+a125XuYMGD5a7lm1hxRLhxFzNuLNkp4Mh7JyeuPPVyW85YDfvNbLlxx8eiA5PubBq0WM+fV4c2fbowbdepVaO+Lfs1792te+fGDJyyxOGfj8NO29t3a+W3oT8vvlm6ceqHrVd/TBvh8e7NlzP//x6de/mu4MlPR3+eYfeJ4rvHpz3fdP3G9xPnH7w/b/+6/90UYFsDplUgWQd+laBWC1bVIFQPLhWhUcs1Z2BU8mFIn4b2cYifh/qByJ+I/pEYF3Le2VchfSuqaCKBLeIXo34z8lejfzcCCJtrBu5ooYI+sjjSjwwG6eJWQiJ5pFtEOmgkjU/aGCWOU+pYJUcoHlTAlkOitGWWBm1ZQJcnfbmfmGSKZGaZXCYkgAEEDPAmjxCtqeaWkhFAAJ1aFgBmQWKupmeTBNkZEpoQ6emln2dymSgBi/5ZqKMHKcqmpAMhWimklzY65qOReironqGyWUCeexKaKaOmdvRmnAKEMCWRoe9NWqt2txpAa6673tprrb++F2x3w9JWrGnHNpZsYssO1mxez9YVbVzTtrVlQAAh+QQBAABVACyyAKwANACPAIb////+/v7+/f39/Pv9/Pr9+/n8+vj8+ff7+PX7+PT79/P69vL69fH59O/59O748+348uz48ev38On38Oj37+j27+f27ub27uX17eT17OP16+L06uD06t/z6d7z6N3y59zy5try5tnx5djx5Nfw49bw4tTw4tPv4dLv4NHu39Du3s7u3s3t3c3t3czt3Mvs28rs28ns2sjr2cfr2MXq18Tq18Pq1sLp1cHp1L/o077o073o0rzn0bvn0Lnmz7jmz7flzrblzbXlzLPkzLPKmGWejKGIhsCBhMsTDgkSDQkQDAgOCwcNCgYLCAUKBwUIBgQHBQMFBAIDAgECAQEAAAAAAAAAAAAAAAAAAAAAAAAAAAAAAAAAAAAAAAAAAAAAAAAAAAAAAAAAAAAAAAAAAAAAAAAAAAAAAAAAAAAAAAAAAAAAAAAAAAAAAAAAAAAAAAAAAAAAAAAAAAAAAAAAAAAAAAAAAAAAAAAAAAAAAAAAAAAAAAAAAAAAAAAAAAAAAAAI/wCrCBxIsCBBIkQMDgQAQKHDhxALInwYoGHEixgFTnQowGLGjw43KhzgEaTJgSINEih50mTKggVYtvz4kqABmTMx1hx4AGfOiDsFIvD582HQKgmIFlV4VIHSpRITOlzwFCpKqQoZVLVa5WiDrVaPOgAL9egDskuPQkBb9GgEtj+PSoCb8ygFujOPWsDb8ugFviePYgDsEqvBDIRBHtWQmKbhghsaZzzKQbLOxwQ7WL541MNmoJgHfvgM8SgI0kZDCwyBOqTqKiJaM309QrbBoyRsR31YQvfB1yZ8X314QrjG1yiMd32dQvlRFc5fs4j+0AV1hy+uK4Sh3WCM7gVlgP8nOGP8QBrmBdZIX8UG+xvscbDPwV4H+x3sebDvwd4H+x/sAcFeEOwNoZwQr1WhXBAJKgdEg1xd9AOEEULkA4UVOtQDhhkaxAOHHRK0A4ghCqQDiSXmgGKIOKzY4Q0uZmhDjBXWQGOENNzI1Qw6WiVDj1DFAORSMAxZ1AtG/tRCkjmtwORMKjzZUgpSnoRClSadgCVIJmz5UQleZkRCmBiNQOZFIpwZUQhqQgRCmw99AKdDHsypUAd2GsRBnpDxSZAGfg6UQaACYUBoFRYcWsGhExwqwaERHArBoQ8c6sCTVJyERIKZngRApyAlwWlLn56kxKiegvrRElIVYcQRRhSSIZWqH5VqEhMJHXFbFbRmZCtITRChK1O9YvTrR04M61CxFx2b0RPKKsRsRM5iBEW0Bk0LUbUXRYFtQdo+xG1EUnxLULgOjQvRFMKGhK5C6pZWxbcJvWtQvEYJ5Cqssgpkb0H4lnivwCf9S3DABC9ksMAIJ6zgwiU2nLDEB0McIsUMW9whxhFrnCHHF3tcIcgbBwQAIfkEAQAAVQAssACsADUAjwCG/////v7+/v39/fz7/fz6/fv5/Pr4/Pn3+/j1+/j0+/fz+vby+vXx+fTv+fTu+PPt+PLs+PHr9/Dp9/Do9+/o9u/n9u7m9u7l9e3k9ezj9evi9Org9Orf8+ne8+jd8ufc8uba8ubZ8eXY8eTX8OPW8OLU8OLT7+HS7+DR7t/Q7t7O7t7N7d3N7d3M7dzL7NvK7NvJ7NrI69nH69jF6tfE6tfD6tbC6dXB6dS/6NO+6NO96NK859G759C55s+45s+35c625c215cyz5MyzyphlnoyhiIbAgYTLEw4JEg0JEAwIDgsHDQoGCwgFCgcFCAYEBwUDBQQCAwIBAgEBAAAAAAAAAAAAAAAAAAAAAAAAAAAAAAAAAAAAAAAAAAAAAAAAAAAAAAAAAAAAAAAAAAAAAAAAAAAAAAAAAAAAAAAAAAAAAAAAAAAAAAAAAAAAAAAAAAAAAAAAAAAAAAAAAAAAAAAAAAAAAAAAAAAAAAAAAAAAAAAAAAAAAAAAAAAAAAAACP8AqwgcSLAgQSJEDA4EAEChw4cQDSJ8GIBhxIsYB050KMBixo8PNyoc4BGkyYMJHRIoefKkSIMFWLYE+bKgAZkzM9YkeABnzos7ByLw+RNiUIEJiBZ1eLSKAqVLJaZUuABqVJQPGVi9KrBpg61cmzoAe7XpA7JRm0JAu7RpBLZFm0qA+7MpBbo5m1rAO7PpBb4tm2IA7HKqwQyETTbVkJim4YIbGn9sykGyzscEO1jG2NTDZqCYB374HLEpCNJGQwsMgTqk6ioiWjN9PUK2wqYkbEt9WEJ3waYmfGN1eEK4xtcojHd9nUJ5laYqnDdlIf21i+oPX2B3CGO7whjeDcr/CF9wBnmCNM4PrKFeoI32VW7AxwE/B3wd8HfA5wG/B3wf8P0AHxDwBQHfEM4J0ZRzQSzYEFcRAeEghBH9MCGFD/lwIYYK9bAhhwXx8CGIA+0wIolV6HAiiTmsCCIOLnJ4Q4wY2kAjhTXcCCENOnI1Q49XyQBkVDEMuRQMRhb1QpI/tcBkTis8OZMKUraUQpUnoYClSSdsCZIJXn5UQpgZkUAmRiOceZEIakYUQpsQgQDnQx/M6ZAHdirUQZ4GccAnZH8SpEGgA2VAqEAYHFqFBYpWoOgEikqgaASKQqDoA4o6ICUVVJiERFOcnsRQqCAlAWqnJo2K6kdKnCoqAKR+o7TEREUYcUQVRUwU60eqmsQEQkfcitKuGfUKUhNEBHsbsRgZ+5ETyjrE7EXOZvREtApNG1G1GEGBrUHaQsTtRVF8W1C4D40bkRTmEoSuQ+pCNEWywv72rkLxpmYuQvcalK9ruNqKq66r8gprwShu+2DCIPXL8L8ML3RwxNROTLG4Fl8Mb8Ya+8txxwRBTLHIEZP88McgC2Rywiuj2DKJL4PIUEAAIfkEAQAAVwAsrwCsADQAjwCG/////v7+/v79/v39/fz7/fz6/fv6/fv5/Pr4/Pn3+/j1+/j0+/fz+vby+vXx+fTv+fTu+PLs+PLr+PHr9/Dp9/Do9+/o9u/n9u7m9u7l9u3l9e3k9ezj9evi9Org9Orf8+ne8+jd8ufc8uba8ubZ8eXY8eTX8OPW8OLU7+HT7+HS7+DR7t/P7t7O7t7N7d3N7d3M7dzL7NvK7NvJ7NrI69nH69nG69jF6tfE6tfD6tbC6dXB6dS/6NO+6NO96NK859G759C55tC55s+45s+35c625c215c205cyz5MyzyphlnoyhiIbAgYTLPS4eOCocNCcaLyMXKiAVJRwSCAYEAwIBAAAAAAAAAAAAAAAAAAAAAAAAAAAAAAAAAAAAAAAAAAAAAAAAAAAAAAAAAAAAAAAAAAAAAAAAAAAAAAAAAAAAAAAAAAAAAAAAAAAAAAAAAAAAAAAAAAAAAAAAAAAAAAAAAAAAAAAAAAAAAAAAAAAAAAAAAAAAAAAAAAAAAAAACP8ArwgcSLDgQCVKDA4EAEChw4cQCyJ8SIBhxIsYBU50iMBixo8ONypc4BGkyYMJHTooedKkSIMRWLb8+LIgBZkzMdYkmAFnzog7B3bw+fNhUIEgiBZVePTKCKVLJaZUaAJqVJQPU1i9eqUpi61Xm8YAG7UpDbJLm+JAW7TpDrY/m/qAm7OpELozmxrB2xLJVIV8TxL5azCwSSCECxoG2SMxwcUfdThe2JArRBuTBULOKCPzlc0YXXgGfXHF6MqWHaI4nfphCdatFYqAHbugB9q1B3LAnfvKBd65JwCvDWF47AbGWytIntoAc8sCnlv2HAB1b40QC1i/7jnB9t6eGXz/z+35wfjaniWcj+3ZwvrWnje8T+3Zw/zpEEPc5+qZxP6wEJ3wX1kQrTBgWhC1cGBbEMmwYFwQ1fBgXRDlMGFeEPFwYUue/bDhSZ4N8aFLEB0xIkhGjHYdQUOouKJAP7j4Ig8yrphDjdfVgGNvMeyYWws+1qZCkLGdQGRrJByZWghKWnYbRCd+pEGTXFVA5VURXBnVA1ouxUCXRSUA5k8FjAnhQ1HSBNEALx4E0QFtYveQAnF2BVEDdXoGQZ4QTcDnQxj86RAHgir0QaEGiYBoQSUsShAKjg60QqQCvUDpFTNcesOlOlzaw6VAXErEpUnUWUSdEQWBKkQ+rPrQDq46m4RDrArRQKtBMMRmRUtOtAbAric94SuwJkExbEtRCLQEE00wsYRnF/3akhRXNGEQtFASC9IU1jI1k7QndRtSS+CaJK63J5UL0rnXkqvtR+xK5G5L8RKELWDvZkRFvXbOe1IV1bb7bb4gLdvssz+pe2uaVxHsqsK0QhyrxA87vCrFF1uMKsYba1wnxx97HCfII4vcJsknm/wiAAEBACH5BAEAAAYALKsArAA3AI8Agv///8qYZZ6MoYiGwIGEywAAAAAAAAAAAAj/AA0IHEiwYMEAAQwOBABAocOHEB0ifMiwYcSLGAlOdFgxo8eLGxV2/EhSYUiDI0uqFHiyYMqVJVsSfAnzo8yFDGuqvCmQpk6MPA34/Bkx6FCiD43mRJpRqUWmIBNyXAq1qFSRVKsmvYoyq1aTXF16/Xow7MyxZAc6TSvRLM6nbDW67YmWLcK5R9PenQo3LkueecnuxdrX7+CuheMeFpvYLuC6eh83jowXsmDJfstWnnx5c2a5nj//DS168VnOX02/FT2aL2sDqumi1hpbqOXUmFnXDox782you3lXDX57uOTfTIkjR6pc93HnvqHzXU60eenn16Nnny6dMPWf1j+H/8883jB28efJpzevHf3Nit913nULHzp94cBj189+v3j+9/glp1+AzA3on4AAHlhggvHVNJ939kHIn4Tu9dcgTA8iduFKGTK24U4GfhhTiBFqWKKHJ54mIkkdqriiRy2+pSB4Ib7YVI0TamgjUDhW6N2OUTEIpFVC5ujhkBDFKNuM8vWoXpE+6miki1PKiORWUD5p4ZVtZcnellUuySVYqsE3pkHzmWUmf2rup2WbBNJYpptfwsmkg0quWVIBfBZgk5J98ukRfIH+qVqgfmZEaJ+GyoTooBUVCiNCAgxAwACwIfSoopEyOikBoBKgVgCbYrSooDCGKqpGpV50aqIZqXWqUKsRvfqRrAbRCpGtHuFakK4UdYpqrKHOKqmpwsKKka8EATvdsUAxC5uz3kEbla+aWrtrsoZWemmmpGobLEPiskbnaxCVKxqv6Mqo7mfstmsbuZ7KOy8A72YWb7v7otvva/+ay6299+brV8DrDmwvwvBWFBAAIfkEAQAAVQAspwCsADcAjwCG/////v7+/v39/fz7/fz6/fv5/Pr4/Pn3+/j1+/j0+/fz+vby+vXx+fTv+fTu+PPt+PLs+PHr9/Dp9/Do9+/o9u/n9u7m9u7l9e3k9ezj9evi9Org9Orf8+ne8+jd8ufc8uba8ubZ8eXY8eTX8OPW8OLU8OLT7+HS7+DR7t/Q7t7O7t7N7d3N7d3M7dzL7NvK7NvJ7NrI69nH69jF6tfE6tfD6tbC6dXB6dS/6NO+6NO96NK859G759C55s+45s+35c625c215cyz5MyzyphlnoyhiIbAgYTLEw4JEg0JEAwIDgsHDQoGCwgFCgcFCAYEBwUDBQQCAwIBAgEBAAAAAAAAAAAAAAAAAAAAAAAAAAAAAAAAAAAAAAAAAAAAAAAAAAAAAAAAAAAAAAAAAAAAAAAAAAAAAAAAAAAAAAAAAAAAAAAAAAAAAAAAAAAAAAAAAAAAAAAAAAAAAAAAAAAAAAAAAAAAAAAAAAAAAAAAAAAAAAAAAAAAAAAAAAAAAAAACP8AqwgcSLCgQSIIDQoEwFChw4cQDQZASMQhQwARM2okKICixYYbQ0Ic4FHhRZEoFRIoafBkypcCC7As6BJmSgMzCda0KfJAzoE7eW5E8HMhSKEhExStEhRpRAVLmzp9uCDq0akRGVjFiDVjg61dMzoAGxbiA7JlHUJAm9ZgBLZtCUqAG1cgBbp1LeCNe2FvWwx+02YIXFYD4bAbDnfloBhrh8ZTPUB2+mEyUhCWhYbIzFMEZ5sjPsMkIfplidIpTaBGeWK1SBSuQ6aIvVEFbY0sbmd0oTvii94QYQB/GGO4QxnGFc5IbpAG84I1nhO0IX3gjeoCcWCvkmO7ju07tvP/2N5ju4/tP7YD2R5k+5DtFCsaFCI1bnyFQeq3vW8QiP60/BX0w39lBUiQDwSGZeBAPSTY1YIC8eAgVhBWscOEU1WoA4ZOVZgDh0hViAOIQlV4A4k8VWgDijZVWAOLMFVIA4wvVTgDjSlVKAOOKFUYA48iVQgDkCFV+AKRG1XYApIaVbgCkxlVqAKUEVWYApUQVYgClg9VeAKXDlVoApgKVVgCmQcVRQKaBVU4ApsEVSgCnANVGAKdAlUIAp5VVPgBnxV6AGhRHQyakEEcGCpfQRsoqpAGjhqUQaQFYUApQRZcOlAFmgo0QadVSABqBKBCAOoDoDrAIhWsUhFkUUi0zyrSRQC06mqRRSUha0i02vrqoQUpsetGvQ7bJEJFGHGEEX0itISxGRXL6qtHVHtEnUQwAW1E0t6apLXXxtnEthB1KxK4CjlB7kPmhoSuQU+s+xFDvrprrUJQyGvSRfVu9G5BUejbEr8CF/QvQVIUrBPB0xZ5cJ9TKAwUw94e+y9C/WrUbpLIKsssRRlHS3FdGvMZUsgk70uvxHFtnPK8tbLclssvD7xywzWrHDPOOdM0cs8271wx0EbdPDTRNCP9M9ETG830wk4/XbTQUk8dEAAh+QQBAAAGACylAKwANQCPAIL////KmGWejKGIhsCBhMsAAAAAAAAAAAAI/wANCBxIsGDBAAgNCgTAUKHDhxAPJlTIEEDEixgHIgzgsGLGjxA3dmwIsqREjhRJmlwpMqXFlSwnGvQI02TLmSprfrxZkKbOnTJ75vx5kSdBn0SLBj06NOlDowOROn26NGrTqQahLryKlaBWA1K7nhz5UqzCr2HNCkTL1Szbsmq9Vt0KN+7auWDbin1rd6zLvnJR4qxrly/gu4KFEo5r+HBjwI/7Ri6MN63ayYwr6+2K+bLmxZ4TMwXt9vNhxGRPG+hcWrRV0ntNn2Yd2zVd1bQ5y3a8G3Jvyb8p284LW/dwy61Tzw6e+fhmrLmhMw+tnLfz4tKv456e/O9y7d+r+/9+iDw2+edT8RLffh57+uHrl7dnLx74fPn1Kd/nvX98/sz92fefZwHqN2BpBQJ4oHkL6pYggQ1K9yCCEb43IYPe8VehU+qV5+CGSXWIHofweSghiESJ6B6JF36YoX8vChijgTMqWCOEN1KYI4aD0bejiz3i9+OJQ1qI4k8q+hikhkUaVEABNsH3JJQgMfRklA9NWZKVVIKknpZVAnBlSQkJMAABBgiQEJgfcRklAWjKxWZGbpIJ51lzYlQnSHc6lOdFe37Up0J/RhRoRoM6OWabYnYpaJyELkpnoyYlWlChEB2KUQCWroXpeZJmhJClCIWqJ6VkcmQmmmpyZCqgqKoyNpKsGL1Ka1620qrprbg6yutWucq6663D6hrrr8D6+muxwh6LLLOqQXuatIdRCxhDAQEAIfkEAQAABgAsowCsADUAjwCC////yphlnoyhiIbAgYTLAAAAAAAAAAAACP8ADQgcSLBgwQABDA4EAEChw4cQDSJ8yDCixYsEJzqsiLEjRI0KOXoceTDhxoYkUwoEaVCkypEsC7p82TEmwZk0L9pciDJnTZMhe/rUCbSl0KERdwrEidShUgNMm0osKvOoVIVPo14dmNXq1oxUb3r9ujIsT7JOzS4dS7YrWqxqobL96vZtSYpzt9a1yzWuVrp+817dy9cAYb6H7SZ+uxht47aBC/fFK7ks5cqPAV+WnFlvZMyfOYcu3HnwaMSnFadmvNpxa8ibSb/WfLKy4dmeY6PWrZo3a9+ugcOuDVo47aC2S0tV3pQ5UudDofuUnpM6TesvsavUnpI7Se8wcZv/Np6buGjy483LRr9cfHv2zd3Hh/9cfn360e3nxz9df3/+1fkXIIDXCVgggdkZmCCC2ynYIIPdORghhN9JWCGF4WHoEXgbWpiheruB2JuIv5EYnInDIVcciscZlZyHHSJYQAEXOjQjSQzd+KFCOnqUI407GtRjRz9eKMAABBggwERDYlRkeAQkCVaTFz25YZRYUWmRlR1haSOQPgKgZURe8ggmkWKeiVGZQqpZZZoksVnQmBBxuaaUZuIIJ0xyrkQnXn+mJSdCgQZV6FRKIqkkk25uuadtKkIK0aF82SnpWpTaZemlm0raKaSf2hZqZaNKVmphp1b66KU8ZfpWqpquBcqqXAEBACH5BAEAAFUALKAArAA2AI8Ahv////7+/v79/f38+/38+v37+fz6+Pz59/v49fv49Pv38/r28vr18fn07/n07vjz7fjy7Pjx6/fw6ffw6Pfv6Pbv5/bu5vbu5fXt5PXs4/Xr4vTq4PTq3/Pp3vPo3fLn3PLm2vLm2fHl2PHk1/Dj1vDi1PDi0+/h0u/g0e7f0O7ezu7eze3dze3dzO3cy+zbyuzbyezayOvZx+vYxerXxOrXw+rWwunVwenUv+jTvujTvejSvOfRu+fQuebPuObPt+XOtuXNteXMs+TMs8qYZZ6MoYiGwIGEyxMOCRINCRAMCA4LBw0KBgsIBQoHBQgGBAcFAwUEAgMCAQIBAQAAAAAAAAAAAAAAAAAAAAAAAAAAAAAAAAAAAAAAAAAAAAAAAAAAAAAAAAAAAAAAAAAAAAAAAAAAAAAAAAAAAAAAAAAAAAAAAAAAAAAAAAAAAAAAAAAAAAAAAAAAAAAAAAAAAAAAAAAAAAAAAAAAAAAAAAAAAAAAAAAAAAAAAAAAAAAAAAj/AKsIHEiwoEEiRAwOBABAocOHEA0GQPiQYcSLGAkKoOjQYsaPEAdwVOgRpMmCBEYaLHmyZQGVBVm2NGkAJkGZMz8esLmwYc6TCHgKxPnzYgKhVYgWhagAqdKlDhc49QkVI4OpVTM2wJr1ogOuXSE+ABvWIQSyZQ1GQJuWoAS2bQVSgBvXAt22F+6mxaC3bIa+YTUA7rphcFYOhqt2SAzVA+OlHx4XBSH5Z4jKOUVgnjlic0sSnk+WCG3SBGmQJ05/RKE6Y4rWGFXAvshidkQXtiG+yP0QBm+HMX4rlCHc4IziBWkgJ1hj+UAbzgXeiF4FB/Uc1HVQ30GdB/Ue1H1Q//9BHQj1INSHUEeYUKGQp2nZOwwCv6x8hUDqh71v8If+rvwV5MN/WQVIUA8EVmXgQDwkCNWCAu3g4FIQVqHDhEVVmAOGP1WIA4c5VXgDiDNVaAOJLVVYA4onVUgDiyZVOAOMIFUoA40fVRgDjhlVCAOPGFX4ApAXVdgCkRFVuAKSEFWoApMPVZgClA5ViAKVClV4ApYHCWUClwVVWAKYBFVIApkDVTgCmgJVKAKbVVQYApwVgkCnUB/c2Z5BHujpUAd+KsRBoAZtQGhBGhxKUAaKDoRBowJZAGkVFUw6waQSTBrBpBBM+sCkDoBIxagxCoUEqSAxBMCoVJS6Z0FJoLz6kaqsuuqQErJmRGuuQSJUhBFHGFEEe0vwetGurdZIxBHMlkkEE8ZGhGyMzB5xUBPRQjQtSNU65ES2FTFUK7fNKvQEuB2Ji65C3SoExborqZvsR+0aFAW8MclrUr0FSYHvTfrWyG+bU/zb06oGt7lsuQqPO2vAOfoKrLDsOawrxHEdC2dGFmesLcYeh4vwvCGL3HHJ8Y6M8scqr5xuyy6nfHLMSYFMc80w3zyUzTRvq/POOevs889DC81QQAAh+QQBAAAGACyfAKwANACPAIL////KmGWejKGIhsCBhMsAAAAAAAAAAAAI/wANCBxIsGDBAAEMDgQAQKHDhxAPJnTIMKLFiwMRPqyIseNDjRQbehwpcaNIkihBKuSIkqRKgyxbenxZMKZMjDQJ2rxpMefCkzwv+hS4M+jHiSuBGoU41EDRpQabPoVKUKpSqlGRwryKtarWmly7CrQq1iHZsllNok0bcm3Jtm4zftUZVuzZuAbuxtXrlu9av2gBlxVsd+5PvGMNE63blXBjxU4ZY3U8GfLUx2oRU6a6GWrnpZ+Nhg46mmfpm6dlpm65OqVlyZxfI84rW3NtvK1d3t67u2/vv78DBx88vHBm3MUxw0V+nHfzvhAvT44O2zP12ZAjY7+umTtu73vBQ/9//ld8efKBzadHP1h9e/Z23ceH31h+ffrT8XO2n395eP3WAQgaf/sJKBqBAfo3noLnMbieg+9BOJ+E91HYX1LbGUgaggNqaBqHB3qIGogbiqgaiR+ayBqKI6qYEosnuugSjAW8+FABNY4EQI4jZYcjSTva6NCPOvI4k0ACDEDAAAJMRKRHQc5IQFQGPNlRlD1OqVAAVmKEpUdaDmmkl2NiFKZCXV70ZUdnGpSmRWuaCdGbEcV5UZsF0RldmULhOZaeG/HZkwF4JiRonYcyhaSSTDqJkp2z6RSpRYlGCumkTlU626WTcmqppoh5uimoeIkaKqlxmVoqqm6pmiqra7kD2mpAACH5BAEAAAYALJ0ArAA1AI8Agv///8qYZZ6MoYiGwIGEywAAAAAAAAAAAAj/AA0IHEiwYMEAAQwOBABAocOHEA0ifMgwosWLBCc6rIixI0SNCjl6HHkw4caGJFMKBGlQpMqRLAu6fNkxJsGZNC/aXIgyZ02TIXv61Am0pdChEXcKxInUoVIDTJtKLCrzqFSFT6NeHZjV6taMVG96/boyLE+yTs0uHUu2K1qsaqGy/er2bUmKc7fWtcs1rla6fvNe3cvXAGG+h+0mfrsYbeO2gQv3xSu5LOXKjwFflpxZb2TMnzmHLtx58GjEpxWnZrzacWvIm0m/1nyysuHZnmOj1q2aN2vfroHDrg1aOO2gtktLVd6UOVLnQ6H7lJ6TOk3rL7Gr1J6SO0nvMHGb/zaem7ho8uPNy0a/XHx79s3dx4f/XH59+tHt58c/XX9//tX5FyCA1wlYIIHZGZgggtsp2CCD3TkYIYTfSVghheFh6BF4G1qYoXq7gdibiL+RGJyJwyFXHIrHGZWchx0iWEABFzo0I0kM3fihQjp6lCONOxrUY0c/XijAAAQYIMBEQ2JUZHgEJAlWkxc9uWGUWFFpkZUdYWkjkD4CoGVEXvIIJpFinolRmUKqWWWaJLFZ0JgQcbmmlGbiCCdMcq5EJ15/piUnQoEGVehUSiKpJJNubrmnbSpCCtGhfNkp6VqU2mXppZtK2imkn9oWamWjSlZqYadW+uilPGX6VqqargXKqlwBAQAh+QQBAAAGACybAKwANQCPAIL////KmGWejKGIhsCBhMsAAAAAAAAAAAAI/wANCBxIsGDBAAEMDgQAQKHDhxANInzIMKLFiwQnOqyIsSNEjQo5ehx5MOHGhiRTCgRpUKTKkSwLunzZMSbBmTQv2lyIMmdNkyF7+tQJtKXQoRF3CsSJ1KFSA0ybSiwq86hUhU+jXh2Y1erWjFRvev26MixPsk7NLh1LtitarGqhsv3q9m1JinO31rXLNa5Wun7zXt3L1wBhvoftJn67GG3jtoEL98UruSzlyo8BX5acWW9kzJ85hy7cefBoxKcVp2a82nFryJtJv9Z8srLh2Z5jo9atmjdr366Bw64NWjjtoLZLS1XelDlS50Oh+5SekzpN6y+xq9SekjtJ7zBxm/82npu4aPLjzctGv1x8e/bN3ceH/1x+ffrR7efHP11/f/7V+RcggNcJWCCB2RmYIILbKdggg905GCGE30lYIYXhYegReBtamKF6u4HYm4i/kRicicMhVxyKxxmVnIcdIlhAARc6NCNJDN34oUI6epQjjTsa1GNHP14owAAEGCDARENiVGR4BCQJVpMXPblhlFhRaZGVHWFpI5A+AqBlRF7yCCaRYp6JUZlCqlllmiSxWdCYEHG5ppRm4ggnTHKuRCdef6YlJ0KBBlXoVEoiqSSTbm65p20qQgrRoXzZKelalNpl6aWbStoppJ/aFmplo0pWamGnVvropTxl+laqmq4FyqpcAQEAIfkEAQAAVQAsmQCsADUAjwCG/////v7+/v39/fz7/fz6/fv5/Pr4/Pn3+/j1+/j0+/fz+vby+vXx+fTv+fTu+PPt+PLs+PHr9/Dp9/Do9+/o9u/n9u7m9u7l9e3k9ezj9evi9Org9Orf8+ne8+jd8ufc8uba8ubZ8eXY8eTX8OPW8OLU8OLT7+HS7+DR7t/Q7t7O7t7N7d3N7d3M7dzL7NvK7NvJ7NrI69nH69jF6tfE6tfD6tbC6dXB6dS/6NO+6NO96NK859G759C55s+45s+35c625c215cyz5MyzyphlnoyhiIbAgYTLEw4JEg0JEAwIDgsHDQoGCwgFCgcFCAYEBwUDBQQCAwIBAgEBAAAAAAAAAAAAAAAAAAAAAAAAAAAAAAAAAAAAAAAAAAAAAAAAAAAAAAAAAAAAAAAAAAAAAAAAAAAAAAAAAAAAAAAAAAAAAAAAAAAAAAAAAAAAAAAAAAAAAAAAAAAAAAAAAAAAAAAAAAAAAAAAAAAAAAAAAAAAAAAAAAAAAAAAAAAAAAAACP8AqwgcSLCgQSIGCQJIyLChQ4MBEDZc+LCixYECJDKkeLFjwwEaE3L0SJIggZAGR5YsWQBlQZUrPRpwqTBmzAM0B8K0aRFBToE7eT5M8LNKUKENFRQ9ijThgqVNOzKAGtViA6pVHzrAmrXhA65dE0IAG7ZgBLJlB0pAm7YKBbZpLcAte2FuWAx2u2bIm1UD36ob/kblILhph8JIPSAW+mExTxCObYaIHFME5ZUjLpckoZlkic4eTYDueGL0RRSmLaZIXVEF64csXjt0Ibvhi9oMYeBOGGO3QRm+C84ITpAG8YE1jgu0obzKjeY4mudorqP5juY8mvdo7qP5j+ZAmgf/aT6kOZGfQpiGPd8wiPqu7BkCeZ81fsIf9KvaN+gjf9T9BfXgX1MAEsTDgEgVONAOCAqloEA6NMjTg1XkIKFNFOJwYUwU3rDhShTa8GFJFNYwIkkU0nCiRxTOsGJHFMrw4kUUxjCjRRTCcGNFFL6w40MUtvCjQxSuMGRDFKpwJEMUprBkQhSi8ORBP50wZUEUmnAlQRSWsOVAFJLwpUAUjjBmFRSKcCaFIaz5EwhuNvRBnAx5QGdCHdxpEAd6FrRBnwRpAOhAGQwqEAaGVmFBohUkOkGiEiQaQaIQJPpAog5cSAUVJP6EBKckAQDApp02lASoHolKKoo/KYFqR6q+pUojQkUYcUQVRbC3hKwWxdrpEbdySQQTvFbkK4rAQtlEsQ8d61GyDDnBrEPOdgRtQk9MO9Go2jJ0rUFQdCsStyV9W1AU4qZELknmEiRFui+ty2K7aE4Br0LywkiEueetmmq+s+JqK67s+QsrwG01e6ZFBiescMMObwtxxONOTHG8Fl+sE8Ia45txx9V2jPG9CYcs8sYfa2zyyUZxfPLKL7sssqgBAQAh+QQBAABVACyXAKwANQCPAIb////+/v7+/f39/Pv9/Pr9+/n8+vj8+ff7+PX7+PT79/P69vL69fH59O/59O748+348uz48ev38On38Oj37+j27+f27ub27uX17eT17OP16+L06uD06t/z6d7z6N3y59zy5try5tnx5djx5Nfw49bw4tTw4tPv4dLv4NHu39Du3s7u3s3t3c3t3czt3Mvs28rs28ns2sjr2cfr2MXq18Tq18Pq1sLp1cHp1L/o077o073o0rzn0bvn0Lnmz7jmz7flzrblzbXlzLPkzLPKmGWejKGIhsCBhMsTDgkSDQkQDAgOCwcNCgYLCAUKBwUIBgQHBQMFBAIDAgECAQEAAAAAAAAAAAAAAAAAAAAAAAAAAAAAAAAAAAAAAAAAAAAAAAAAAAAAAAAAAAAAAAAAAAAAAAAAAAAAAAAAAAAAAAAAAAAAAAAAAAAAAAAAAAAAAAAAAAAAAAAAAAAAAAAAAAAAAAAAAAAAAAAAAAAAAAAAAAAAAAAAAAAAAAAAAAAAAAAI/wCrCBxIsKBBIkQMDgQAQKHDhxALBkD4kGHEixgHCqDo0GLGjw8HcFToEaRJggRGGix58mQBlQVZtgRpACZBmTMzHrC5sGFOkwh4CsT5M2ICoVWIFn2oAKnSpQoXOPUJ9SKDqVUxNsCaNaIDrl0fPgAbViEEsmULRkCbdqAEtm2rUIDb1gLdtBfulsWgN2yGvl01AM66YXBVDoahdki81APjoh8e/wQhOWeIyjNFYG45YvNJEp5NlggN0gTpjydOZ0ShGmOK1hdVwI7IYjZEF7YfvsjtEAZvhTF+G5QhvOCM4gRpIB9YY7lAG86r3IiOI3qO6Dqi74jOI3qP6D6i//+IDiR6kOhDoiMV8rQs0iDtwyIFEr8r0h/1syL1kb8q0h79QYUUDwEuhdQOBRaFlA4J/oRUDg3mhBQOEc6E1A0VtoSUDRmehFQNHZqEFA0hgoTUDCV+hJQMKWaEVAwtYoQUDDFehNQLNUaEVAs5QoTUCj0+hJQKQTqEVApFKoQUCkkelJBDJzRZEFImSEkQUiVYORBSJGgpEFIjeFkFUiKIiVQIZj6pEAhpPvRBmw55AKdCHcxpEAd2FrRBngRpwOdAGfwpEAaCVmFBoRUUOkGhEhQaQaEQFPpAoQ5ESAUVHqppEBKXmsRQpyJqWlASoH70KaahPqREqRmdmmkVRRihcQSsFC3BKkauhnrErFcSwcStF+Vq4q5KNgFsRMJ+RKxDThwLUbIZLavQE85WBEC1D0lrEBTYknQtqiBpW1AU3a707UniEiRFuTGdK2K6Y07B7k3umkiEuAjNS6++WyYU66xFUMTvUPXGhStVBoM0cFvQJmztwmk17LC3EJcl8cTtVhzWxRj3pHFXHHecVMEiZwxuySajTPHJKhP8cVYMBQQAIfkEAQAAVQAslgCsADQAjwCG/////v7+/v39/fz7/fz6/fv5/Pr4/Pn3+/j1+/j0+/fz+vby+vXx+fTv+fTu+PPt+PLs+PHr9/Dp9/Do9+/o9u/n9u7m9u7l9e3k9ezj9evi9Org9Orf8+ne8+jd8ufc8uba8ubZ8eXY8eTX8OPW8OLU8OLT7+HS7+DR7t/Q7t7O7t7N7d3N7d3M7dzL7NvK7NvJ7NrI69nH69jF6tfE6tfD6tbC6dXB6dS/6NO+6NO96NK859G759C55s+45s+35c625c215cyz5MyzyphlnoyhiIbAgYTLEw4JEg0JEAwIDgsHDQoGCwgFCgcFCAYEBwUDBQQCAwIBAgEBAAAAAAAAAAAAAAAAAAAAAAAAAAAAAAAAAAAAAAAAAAAAAAAAAAAAAAAAAAAAAAAAAAAAAAAAAAAAAAAAAAAAAAAAAAAAAAAAAAAAAAAAAAAAAAAAAAAAAAAAAAAAAAAAAAAAAAAAAAAAAAAAAAAAAAAAAAAAAAAAAAAAAAAAAAAAAAAACP8AqwgcSLCgQSIGCQJIyLChw4IBEDZc+LCiRYECJDKkeLEjwwEaE3L0SHIggZAGR5YkWQBlQZUrOxpwqTDmygM0B8K0WRFBToE7eTpM8LNKUKEMFRQ9itTggqVNLzKAGrViA6pVHTrAmpXhA65dDUIAG5ZgBLJlBUpAm5YC27IW3oa9ILcrhrpZM+CtqmFv1A1+m3IIjLQDYaEeDvP8oNgmiMYxQ0BeKWJyyRGWSZLI7LEE544mPl88IdoiitIVU6B+qGK1QxauG7qIzfAF7YQwbhuMobugjN4EZwAfSGO4wBrGq9hIfiM5juQ5kutIviM5j+Q9kvtI/iM5kORBkg//SV5UCNOuRYOcz1oUyPqqRX+8j1rUx/ymRXvcR1qUx36hRe3wH09F6TCgTUXlcGBMReGw4EpF3fBgSUXZMCFJRdVwoUdF0bBhR0XN8OFFRckwokVFxXBiRUXBsOJDRb3wokNFtTBjQ0WtcCNDRamwY0JFpfDjQQ6hMGRBRZ1wJEFFmbDkQEWV8KRARZEwZRVFjXBlUSJs6VAIXjYEQpgMfUBmQh6caVAHahbEQZsEbQDnQBrMKVAGdlaBQZ4W5FlBnhPkKUGeEeQJQZ4P5OnAgVRA6BASjZIEQKQYOpQEpR1N6mhDSmB6kaYUClSEEUcYUYRES3hqEaiVHkEkE6pWgsQqh64C2USsD83aUa0MOYGrQ7pexGtCT/w6kbENDWsQFMiK1GxCyhYUxbMvUVtQtARJYa1O20KJLZZTdGuUuFhWES1C5AaLoqikmipRuuSWdaVF8Yalblq51tvVvfge269H/P6bkr5ZBSywQgRXZfDBQCUc1cIMQ3ywxAJT/C8AAQEAIfkEAQAAVgAslQCtADQAjgCG/////v7+/v39/fz7/fz6/fv5/Pr4/Pn3+/j1+/j0+/fz+vby+vXx+fTv+fTu+PPt+PLr+PHr9/Dp9/Do9+/o9u7m9u7l9e3k9ezj9evi9Org9Orf8+ne8+jd8ufc8uba8ubZ8eXY8eTX8OPW8OLU8OLT7+HS7+DR7+DQ7t/Q7t7O7t7N7d3N7d3M7dzL7NvK7NvJ7NrI69nH69jF6tfE6tfD6tbC6dXB6dS/6NO+6NO96NK859G759C55s+45s+35c625c215cyz5MyzyphlnoyhiIbAgYTLKR4UJRwSIhoRHhcPGxQNGBIMFRAKEg0JDgsHCwgFCAYEBQQCAgEBAAAAAAAAAAAAAAAAAAAAAAAAAAAAAAAAAAAAAAAAAAAAAAAAAAAAAAAAAAAAAAAAAAAAAAAAAAAAAAAAAAAAAAAAAAAAAAAAAAAAAAAAAAAAAAAAAAAAAAAAAAAAAAAAAAAAAAAAAAAAAAAAAAAAAAAAAAAAAAAAAAAAAAAAAAAACP8ArQgcSLCgQQEGEypcyLAhgYYQI0q0YmCixYsDEWDcKFEBx48MGYAcadAByZMCIaA8KWElyQouR16ICTIDzY8bbnLsoHPjh54YQwC9OGKoxRJGJ6JIKlEF04gunkKEIbWhjKoMaWBdaGOrQhxeE+oIa5AH2YI+zhIMonbgkLYCiTBk+1Tuwh9S7SrskZfhjr4LcwBWeGNwwhqGDc5IXDAGY4JR6zJc8XhgisoCTWC2QmKziM0gNnvYzGGzhs0YNsOUvHDC5gibH2xusHnB5gSbD2wusHnAZgBPAzQEztQ3Q+JJeR9/qns5U9zOk9qObpQ29aGyrwOFrb0nheFPLYD/Z5q6u87T5m+WTk9zNPuYod+7/Cx/Zef6KDXjP3l5P0kW4yX1QoBGOebfSIsdCBJiCn5UWIMcCQbhRn9NiBFfFl6EV4YW0bUQckbplZAQIA4lokFAlAjUiWip2BOLBPHgok4wDqTDjDfVKBAOONKkoxU29BjTjzQI6dKPMhi50o8wKInSjy04edKPKkhJ0o8nWDnSjyVoCdKPI3j50Y8hiMnRjx+YudGPHYhZxZoMIfHmRQDMedGPSdg5UZ1wLqSEnhLxiZFdRRhxhBFF2LUEoBEJeqcVRxgkFxOMQuSoRUREmhARTVQ6nKcNaaqQE6B+WOpCoib0xKkJXTpRqgZBXcGqQa5KBGtBUcxaUK0R3UqQFLoSxCtEmSpExBTBDjRsQ3LdKhcVGy3LEKGGImpXsspi25OaN2mrk7RSgfuUuEyRm5S5RqE7lLpAsbuttze5+y28NMkbL70x2VtvQAAh+QQBAABcACyUAK0ANACOAIb////+/v7+/v3+/f39/Pv9/Pr9+/r9+/n8+vj8+ff7+PX7+PT79/P69vL69fH59O/59O748uz48uv48ev38On38Oj37+j27+f27ub27uX27eX17eT17OP16+L06uD06t/z6d7z6N3y59zy5try5tnx5djx5Nfw49bw4tTv4dPv4dLv4NHu38/u3s7u3s3t3c3t3czt3Mvs28rs28ns2sjr2cfr2cbr2MXq18Tq18Pq1sLp1cHp1L/o077o073o0rzn0bvn0Lnm0Lnmz7jmz7flzrblzbXlzbTlzLPkzLPKmGWejKGIhsCBhMs9Lh44Khw0JxovIxcqIBUlHBIgGBAbFA0WEQsSDQkNCgYIBgQDAgEAAAAAAAAAAAAAAAAAAAAAAAAAAAAAAAAAAAAAAAAAAAAAAAAAAAAAAAAAAAAAAAAAAAAAAAAAAAAAAAAAAAAAAAAAAAAAAAAAAAAAAAAAAAAAAAAAAAAAAAAAAAAAAAAAAAAAAAAAAAAAAAAAAAAI/wC5CBxIsKBBLgQOKlzIsKFBBA4jSnS4YKLFiwMdYNwoMQLHjwwpgBxpMAPJkwI7oDwJYiXJES5HmogJMgXNjyxucoyhcyONnhhxAL24Y6hFH0YnCkkq0QjTiEoYInnKJepCIlStKgSSlWGPrgt1gFVoY+xBGWYNukhbcAVbgijeDixBtaGIugw94F3IYa/CC34PTghsEALhgg0OE1SgeKCBxgIFPA3QEMDTApWfJsjMlAHnpA8+G5UgeqiF0kA3oO6pl6FlpiFW6yQh++aJ2jTdun7aAndMtLuZ1vDtMgfxlTyOo/yh/OSQ5iSPQK7K0OlTrQefX2fIfPvC5N4VGv8Pf3A4eYM8zxfsrZ6gCrkCb7cfSHu+wNj2ubRmit2gBvhcVACgR/mFlp9n+W2WH2b5vZbUAP0V5KBRB0RI0IRDKWDhQBgC1cCGAnXYEwQgciGiThOUeOJNGKj4FAcuMvVBjEmJQKNRdAWXVFw6GqXbQivS9AJ0I81AJEg3HPmRWD0O9VWTQHEFZU9YTalTEkpyVGIRQcZUYhBdulSiD2GuVOIOZaJUIg5pnlQiDW2SVCIMcQ60xUYlOnHnRQDseVGJT/g5UZ94MgSFoBIRipFVSzDRBBNLWBUFohEp+icXTRgUlRSUOmSpRUpkepASU3RamakNiaoQFagC2epCqh5mVMWrB306UawGWUGrQbZKhGtBV+wqobAF/UoQFsRymOxAoSqkRBbLmhgtdb9GpUW0vUIlUKOPRirQtNnuVedQ094ULl7n1pUuVes+1S5T7yYVr1HzDlUvUPf2lK9O+5pbLk39AhwQACH5BAEAAFUALJQArQA1AI4Ahv////7+/v79/f38+/38+v37+fz6+Pz59/v49fv49Pv38/r28vr18fn07/n07vjz7fjy7Pjx6/fw6ffw6Pfv6Pbv5/bu5vbu5fXt5PXs4/Xr4vTq4PTq3/Pp3vPo3fLn3PLm2vLm2fHl2PHk1/Dj1vDi1PDi0+/h0u/g0e7f0O7ezu7eze3dze3dzO3cy+zbyuzbyezayOvZx+vYxerXxOrXw+rWwunVwenUv+jTvujTvejSvOfRu+fQuebPuObPt+XOtuXNteXMs+TMs8qYZZ6MoYiGwIGEyxMOCRINCRAMCA4LBw0KBgsIBQoHBQgGBAcFAwUEAgMCAQIBAQAAAAAAAAAAAAAAAAAAAAAAAAAAAAAAAAAAAAAAAAAAAAAAAAAAAAAAAAAAAAAAAAAAAAAAAAAAAAAAAAAAAAAAAAAAAAAAAAAAAAAAAAAAAAAAAAAAAAAAAAAAAAAAAAAAAAAAAAAAAAAAAAAAAAAAAAAAAAAAAAAAAAAAAAAAAAAAAAj/AKsIHEiwoMEqAQ4qXMiw4UEBDiNKjDhgosWLBAlg3DixAMePDQ2AHHnwAMmTAxGgRJlg5UkFLkkuiDmSAU2QDW5+dKCT44OeGyEAxRhh6EUJRi1SSDrRAlOJFxgSeSoQg1SqVTJcpaph69MNXplyCJu0A1mjHs4O/aAWKIi2PUPA1Sli7s0RdmmSyBuzBF+XJv6uPCEYJYrCJ1MgJqli8UgWjj8CcBGZI4AXlTcCgJEZI4AYnS8CkBHaIoAZpScCoJFaIoAarSMCsBHbIYAbtRsCwJGbIYAcvRcC0BFcIYAdxQ8C4JHcIIAezQsC8BGdIIAf1QcCAJJdIIAg3asA/xgSHoBUIVTNLyQC/ql6hUS4u5eKff566vbhQ89/kAhz/gYRgRyABRFBHIEEEQEcggMRwRuDAhGBG4RVEEEbhUTAhiFrGKKGIWkYgoYhZxhihmEL7r3X3wopStUYUwCoGKBiMMpY4GE1SkVYjusFxiN8fv3Y315CBohXkQXWhWSCci3Z4FtORshWlBWmRSURZl051pVgXdnVlVpdadWVTkVJBBEVtAgfEROo2R8RSJlJRFFyCiXnT3Ly5JmNDlFBxXpEIHGRnzFi5CegSQxKRaGKAqqEooxadOiZRVRxhBGVnrkEpHw25OeZBR1xxJlMcGooFVMZJCoRTZjaqEKiOnHhqqR/wnrEE7NOdKitUOQq0a4HiRqFrxEBq+oRUhDbJ6rBjjqFsp6imupAq06r66KdMjQpEZVemqm1v2KLlULGjqtctlQRiu5T6pprULvuEgRvvALNS6+98eLrrr7m8juuv1gBnK649NZLcMECs0tFQAAh+QQBAABVACyWAKwANACPAIb////+/v7+/f39/Pv9/Pr9+/n8+vj8+ff7+PX7+PT79/P69vL69fH59O/59O748+348uz48ev38On38Oj37+j27+f27ub27uX17eT17OP16+L06uD06t/z6d7z6N3y59zy5try5tnx5djx5Nfw49bw4tTw4tPv4dLv4NHu39Du3s7u3s3t3c3t3czt3Mvs28rs28ns2sjr2cfr2MXq18Tq18Pq1sLp1cHp1L/o077o073o0rzn0bvn0Lnmz7jmz7flzrblzbXlzLPkzLPKmGWejKGIhsCBhMsTDgkSDQkQDAgOCwcNCgYLCAUKBwUIBgQHBQMFBAIDAgECAQEAAAAAAAAAAAAAAAAAAAAAAAAAAAAAAAAAAAAAAAAAAAAAAAAAAAAAAAAAAAAAAAAAAAAAAAAAAAAAAAAAAAAAAAAAAAAAAAAAAAAAAAAAAAAAAAAAAAAAAAAAAAAAAAAAAAAAAAAAAAAAAAAAAAAAAAAAAAAAAAAAAAAAAAAAAAAAAAAI/wCrCBxIsKBBAAYJEknIsKHDggACOFz4sKJFgQAETLzI0SGAARs7ioRIIOTIkwAKmDwpEoCBlSw5AjgAM6ZFAAhq2nwIIIHOnQ0BKPgJNCGABUSLQmSQVOlAAA2aOq0CwIFUpwAeXFUKAMLWogAifAUKQMLYnQAonLUJwMLamAAuvGUJAMNclBnujgSgQW/LDX47AuAQWGaHwhcBeEB88wPjigBAPOYZYrJHEZaDjsjMEAAJzkZLgD5oYjTEE6YJAkCR+mmK1hhVwKbKYjYAF7Zf2IZhO4ZtGbZn2KZhu4ZtG7Zv2MZhO4dtHbZ32OZhu4dtH7Z/2AZiO4jtIbYnCv+ZynOid/JBJ3JH33midvZGJ2KHf3CidfoQJ1LHr3qidP5PTQQdgBhN5ByBVE3EHIIINUSEcgxOhFyEDhpHIUNEEHdhQkQIt6FBRAD3YUFE+DaiQrydOBARuqkoEBEtIJiggyvI2CCGsrlYBRGv6UgEaz6i5mNpPorm42c+buYjZj5W5qNkPjrm42I+HuYjYT4C5mNfPublo10+uuVjBTZONEGZDprlo1g+euWjVj5atddJVEyExEhU3NhRnQ4mgaeeHPGJoRJ/0vliEUYcYUQRLy5RKJ47GnTEjkw8KhIVFElKRBOW7unQEU50GuinT4h6kaAJHQGFqRahKmkUrFZW5GpBR0gR60OYMnQEEVPc6lCdmQ40abCBAnrqoYku+iKdxspY0KzO1hctQ3lOS22z1lZrrUHabktQt94KBG6443pb7rbnZovttOmyu2607cL7rrNUBAQAIfkEAQAAVQAslwCtADUAjgCG/////v7+/v39/fz7/fz6/fv5/Pr4/Pn3+/j1+/j0+/fz+vby+vXx+fTv+fTu+PPt+PLs+PHr9/Dp9/Do9+/o9u/n9u7m9u7l9e3k9ezj9evi9Org9Orf8+ne8+jd8ufc8uba8ubZ8eXY8eTX8OPW8OLU8OLT7+HS7+DR7t/Q7t7O7t7N7d3N7d3M7dzL7NvK7NvJ7NrI69nH69jF6tfE6tfD6tbC6dXB6dS/6NO+6NO96NK859G759C55s+45s+35c625c215cyz5MyzyphlnoyhiIbAgYTLEw4JEg0JEAwIDgsHDQoGCwgFCgcFCAYEBwUDBQQCAwIBAgEBAAAAAAAAAAAAAAAAAAAAAAAAAAAAAAAAAAAAAAAAAAAAAAAAAAAAAAAAAAAAAAAAAAAAAAAAAAAAAAAAAAAAAAAAAAAAAAAAAAAAAAAAAAAAAAAAAAAAAAAAAAAAAAAAAAAAAAAAAAAAAAAAAAAAAAAAAAAAAAAAAAAAAAAAAAAAAAAACP8AqwgcSLBgQQAGCwZIyLChQ4MIHQp4SLEiwYgNB1jc+BAjQwIcQyb0mLCAyJMDSRo0gBKlyoIHWp58SRCBTJE0Bya4GTKnQAU8OfqssiDoxqEMjFoc2kBpxaEOnFIc+kBqx4cQrDocGkFrw6ESvDIcSkHsyIcWzEJ8eEHtwYcY3F58mEFuyoca7AocukFvlaEc/A7tIPihh8IOPyBuCGIxwxCOE4qIbHAE5YIkLhMsoXmgic4CT4CugmJ0itEqRrMY7WL0i9EwRscYLWP0jNE0RtcYbWP0jdE4RucYrWP0jtE8RvcY7WP0j9FARgcZPUSwkIZEiAiezjC74Ojdtev/BfA8vODm5scvT28XQHL2cgEch+8WQHH6agEMx28WQHD+YgHwG4BeAdAbgVoBsBuCVgGQG4NSAXAbhE4BUBuFSgEwG4ZGARAbh0EB8BqIPAHQAnbitbcCioKlRuJNAJz2okwAlDZjSwCIdqNLn+04E2c+4pRZkD1ZRqRQkx15FGRKLtVYk08pBuVUh03ZEWFWbhVYll/1xeVYeX05Ul1iQhRXmQelheZFFbA43gRuthfWmil1RedeWd35V1V6AhDVjQAMlRAVSMS5ERVUBCoSFUkYahGiioZEhRKOVgSpoAZRsUQV2RVRxRFGeOqdpIliWhAVTIw60BFHqHpoqYs2epEiQazO+iiskjrREKuL4soRFU/sekSvkf4KhbDEmkoQFVEgS2qxh0rh7K++HjqFrQLVmmyvrn7aKrYUXdorp0R4Cqqo4D4krl8MIcruVMqate67p1ZLr0Dz3ouvvffmq6+//fJLL8ADC/wuwQcbzC7CCyvsF8MPUxEQACH5BAEAAFUALJkArAA0AI8Ahv////7+/v79/f38+/38+v37+fz6+Pz59/v49fv49Pv38/r28vr18fn07/n07vjz7fjy7Pjx6/fw6ffw6Pfv6Pbv5/bu5vbu5fXt5PXs4/Xr4vTq4PTq3/Pp3vPo3fLn3PLm2vLm2fHl2PHk1/Dj1vDi1PDi0+/h0u/g0e7f0O7ezu7eze3dze3dzO3cy+zbyuzbyezayOvZx+vYxerXxOrXw+rWwunVwenUv+jTvujTvejSvOfRu+fQuebPuObPt+XOtuXNteXMs+TMs8qYZZ6MoYiGwIGEyxMOCRINCRAMCA4LBw0KBgsIBQoHBQgGBAcFAwUEAgMCAQIBAQAAAAAAAAAAAAAAAAAAAAAAAAAAAAAAAAAAAAAAAAAAAAAAAAAAAAAAAAAAAAAAAAAAAAAAAAAAAAAAAAAAAAAAAAAAAAAAAAAAAAAAAAAAAAAAAAAAAAAAAAAAAAAAAAAAAAAAAAAAAAAAAAAAAAAAAAAAAAAAAAAAAAAAAAAAAAAAAAj/AKsIHEiwIEEABgkSSciwoUODCBsSCfCwosWBERkSEXCxo8OMCYkM8EgSokMiBEqqFAjSIJECK1W2LEjEQMySMxUeuEky50AiCHh69CmQSAKhHYlWIaIA6UWlRBY4tQiVwdSKUBtcfQjVwdaPJx98bQgVwliGUCOcTQhVwlqTEim8LQjVwtyDJy/cxXgSw16WJzP8rQJVw2CoGw6f5KBYYofGGj1ADvlhsksQlmmGyKxQBOefIz4XJSF6aYnSREygPoEaBeoUqFWgZoHaBeoXqGGgjoFaBuoZqGmgroHaBuobqHGgzoFaB+odqHmg7oHaB+ofqIGgDoJ6yGEhJw9z/5d4WDv5vwCwn98LwPr6uwCov58LQPr8twCg318LwPn+swAw999YACg34FcAIHfgVgAYt+BVABD34FQACDehUwAAdyFSAPi2oVAA8PYhTwDoNuJNAOB2YkwAtBAeeiu8yJ5sK64EAGw1yuRajjixxmNPqv041GlCJkVakU+FhiRVni2J1WZOcoVZlB9VRiVZkl2J1mNassVYlxAlBiZdho15kGBmYuRXmizZxSZhFcgI3wRy0ufWmwCohadZeIqFp1c1KsUQFUjUeREVgiZERRKGWoRoSVQo0WhFj5JExRJFFWHEEUYUUZRKlXpEBRNLGXREqZAmahAVTSyU0BGuWmuqakFUOOHQqalC+sStoM5KEBVQ8JqrpVEIKyukUhgrqq8DUTFFrAXB2iuoqBJ0KrQdhSpqppt2+umwgzVERbhYkSsus29pa+6v6K6l7roCvQuvvOvSa6695OIbrr6D8fuXv3sBfJfAc1EREAAh+QQBAAAGACytAKwADAB8AIL////KmGWejKGIhsCBhMsAAAAAAAAAAAAIuAABGBhIsGAAgQUTHkyoECHDgQsfQnT4MKJEixUpMsS4UWNDiRNBGuD4ESRJgx5RijxJkGVIkylbxnx5ceZImy5vrsTJc6dPmD9rBs04tGPRkkKBKk3KlOhSp02NPpUaFSnUq1SxWs3KdStDmwbAihUZluxYkWdBppW49mHbr2bjopWrli5bu27xwp3Lt27fu3/zBt7rtzBgw4IREz7MOHHjxQ8LkJUskjJIyxIxR57MuXLny58lBgQAIfkEAQAABgAsmgCsADQAjwCC////yphlnoyhiIbAgYTLAAAAAAAAAAAACP8ADQgcSLBgQQAGCQZIyLChQ4MIGy58SLHiwIgMJ1rc2BBjQo0cQxL0aBCkSJEkC5o8yTGlQpYsXQ5cCbOiTIE0az68aSCnzo4Off5MyFPo0INBj1osqtRm0qY7n0IFKnGqQ6ZWGWLNClEq15FevwrcKnZsWLFky6ZFe/brWrdtub6VGzfrXLt1rd7Vm3fqXr99of4VHLjpYMOFlR5WnPjoYseNhz6WHPnnZMuVdV7WnLnmZs+dYX4WHTpm6ZOjTVcte/E0StchU6OG3ZL2RtmvV7M2gDu27aW/nepm3bv2cLXBKRa/nTzqcbbP4UanOx1vdb7XAWcnvB1xd8bfIYfVpzwec3nO50GnJ71edcbdZtvPlp/7PfzlwOn71m/c/m78wvlHXHNXEUiVgMjxx5yC+SEInYPSQUidhNZRiJ2F2mHInYZanVRAZwXw1NCH6YXoIYgiMkRiAAIMQMAAAuDkYYoJfbgSAT3N6GFOBBilIo0GkcgQjiKZWKRDRIZkpJJI6nhkQ0lytKSUTRYJZEEF8OhjjVcSZKNBOG4ZZJcDrdjiizHmaCV8DwnJ5oFvjhnnj3NyWaecd3pJJldT5tnnnX/WGeicg8ZZ6JuHspkofIvuVkBAACH5BAEAAAYALJsArAA0AI8Agv///8qYZZ6MoYiGwIGEywAAAAAAAAAAAAj/AA0IHEiwYEEABgkGSMiwoUODCBsufEix4sCIDCda3NgQY0KNHEMS9GgQpEiRJAuaPMkxpUKWLF0OXAmzokyBNGs+vGkgp86ODn3+TMhT6NCDQY9aLKrUZtKmO59CBSpxqkOmVhlizQpRKteRXr8K3Cp2bFixZMumRXv261q3bbm+lRs361y7da3e1Zt36l6/faH+FRy46WDDhZUeVpz46GLHjYc+lhz552TLlXVe1py55mbPnWF+Fh06ZumTo01XLXvxNErXIVOjht2S9kbZr1ezNoA7tu2lv53qZt279nC1wSkWv5086nG2z+FGpzsdb3W+1wFnJ7wdcXfG3yGH1ac8HnN5zudBpye9XnXG3Wbbz5af+z385cDp+9Zv3P5u/ML5R1xzVxFIlYDI8cecgvkhCJ2D0kFInYTWUYidhdphyJ2GWp1UQGcF8NTQh+mF6CGIIjJEYgACDEDAAALg5GGKCX24EgE9zehhTgQYpSKNBpHIEI4imVikQ0SGZKSSSOp4ZENJcrSklE0WCWRBBfDoY41XEmSjQThuGWSXA63Y4osx5mglfA8JyeaBb44Z549zclmnnHd6SSZXU+bZ551/1hnonIPGWeibh7KZKHyL7lZAQAAh+QQBAABVACycAK0ANACOAIb////+/v7+/f39/Pv9/Pr9+/n8+vj8+ff7+PX7+PT79/P69vL69fH59O/59O748+348uz48ev38On38Oj37+j27+f27ub27uX17eT17OP16+L06uD06t/z6d7z6N3y59zy5try5tnx5djx5Nfw49bw4tTw4tPv4dLv4NHu39Du3s7u3s3t3c3t3czt3Mvs28rs28ns2sjr2cfr2MXq18Tq18Pq1sLp1cHp1L/o077o073o0rzn0bvn0Lnmz7jmz7flzrblzbXlzLPkzLPKmGWejKGIhsCBhMsTDgkSDQkQDAgOCwcNCgYLCAUKBwUIBgQHBQMFBAIDAgECAQEAAAAAAAAAAAAAAAAAAAAAAAAAAAAAAAAAAAAAAAAAAAAAAAAAAAAAAAAAAAAAAAAAAAAAAAAAAAAAAAAAAAAAAAAAAAAAAAAAAAAAAAAAAAAAAAAAAAAAAAAAAAAAAAAAAAAAAAAAAAAAAAAAAAAAAAAAAAAAAAAAAAAAAAAAAAAAAAAI/wCrCBxIsKDBgwMDIFzIsKHDKgIeSpy4cADFixgJYNwosQDHjwwNgBxp8ADJkwIRoDyZYCVJBS5HLogJkgHNjw1ucnSgc+ODnhghAL0YYShFCUYnUkgq0QLThxeeOsQgtWGGqgw1YF24YStCDl4Pdghr0APZgh/OEgShdmCItgJFwK0yYi6JuSXmmph7Yi6KuSnmqpjLYq6LuS/mwpgbY66MuTPm0phbY66NuTfm4pibY66OuTvm8pjbY66PuT/mApkbZO4QqUIYEpHaeuHsp6ttS02t++np3kxLA086erjR0MaHfk4OtDPznpuf68ws/ebl6jQrY485ebvLyN5XPv8Oj7Ix+ZOLz5NMrH5kC9lSV8B/Org9yMD2P/7Nz7Ev/417/YdRXgJedFeBFNWF4ERyLSjRWw4+xFaEDqVFYUNmXcjQWBouBFaHCHUF4kFajWjQVSYWRFWKBDnF4kAVzMfUBDImhdSLAhWFYxVC7fjTjjzlB8BGSNQ4ERVDYpSEkRIhuZESTD7kJEZLCEREEUYcYUQRVm405UVMVHEbQUeI6WWSFzUxZkFHrHkkmhQ5wVCZGH1J0RNznrkRFHnWCedEUfR5kZ0TSSEoRYRKNIWbA7WpZ51mshnpoH82aSWWWnI5KaKVekXFXFV0ulWinoqKFamjmloVqqeqKhWrq7oU+hSsr8rKFK2z2poUrrfqahQVAQEAIfkEAQAABgAssACsAAwAfACC////yphlnoyhiIbAgYTLAAAAAAAAAAAACLgAARgYSLBgAIEFEx5MqBAhw4ELH0J0+DCiRIsVKTLEuFFjQ4kTQRrg+BEkSYMeUYo8SZBlSJMpW8Z8eXHmSJsub67EyXOnT5g/awbNOLRj0ZJCgSpNypToUqdNjT6VGhUp1KtUsVrNynUrQ5sGwIoVGZbsWJFnQaaVuPZh269m46KVq5YuW7tu8cKdy7du37t/8wbe67cwYMOCERM+zDhx48UPC5CVLJIySMsSMUeezLly58ufJQYEACH5BAEAAFUALJ0ArQA0AI4Ahv////7+/v79/f38+/38+v37+fz6+Pz59/v49fv49Pv38/r28vr18fn07/n07vjz7fjy7Pjx6/fw6ffw6Pfv6Pbv5/bu5vbu5fXt5PXs4/Xr4vTq4PTq3/Pp3vPo3fLn3PLm2vLm2fHl2PHk1/Dj1vDi1PDi0+/h0u/g0e7f0O7ezu7eze3dze3dzO3cy+zbyuzbyezayOvZx+vYxerXxOrXw+rWwunVwenUv+jTvujTvejSvOfRu+fQuebPuObPt+XOtuXNteXMs+TMs8qYZZ6MoYiGwIGEyxMOCRINCRAMCA4LBw0KBgsIBQoHBQgGBAcFAwUEAgMCAQIBAQAAAAAAAAAAAAAAAAAAAAAAAAAAAAAAAAAAAAAAAAAAAAAAAAAAAAAAAAAAAAAAAAAAAAAAAAAAAAAAAAAAAAAAAAAAAAAAAAAAAAAAAAAAAAAAAAAAAAAAAAAAAAAAAAAAAAAAAAAAAAAAAAAAAAAAAAAAAAAAAAAAAAAAAAAAAAAAAAj/AKsIHEiwoMGDAwMgXMiwocMqAh5KnLhwAMWLGAlg3CixAMePDA2AHGnwAMmTAhGgPJlgJUkFLkcuiAmSAc2PDW5ydKBz44OeGCEAvRhhKEUJRidSSCrRAtOHF546xCC1YYaqDDVgXbhhK0IOXg92CGvQA9mCH84SBKF2YIi2AkXArTJiLom5JeaamHtiLoq5KeaqmMtirou5L+bCmBtjroy5M+bSmFtjro25N+bimJtjro65O+bymNtjro+5P+YCmRtk7hCpQhgSkdp64eynq21LTa376eneTEsDTzp6uNHQxod+Tg60M/Oem5/rzCz95uXqNCtjjzl5u8vI3lc+/w6PsjH5k4vPk0ysfmQL2VJXwH86uD3IwPY//s3PsS//jXv9h1FeAl50V4EU1YXgRHItKNFbDj7EVoQOpUVhQ2ZdyNBYGi4EVocIdQXiQVqNaNBVJhZEVYoEOcXiQBXMx9QEMiaF1IsCFYVjFULt+NOOPOUHwEZI1DgRFUNilISREiG5kRJMPuQkRksIREQRRhxhRBFWbjTlRUxUcRtBR4jpZZIXNTFmQUeseSSaFDnBUJkYfUnRE3OeuREUedYJ50RR9HmRnRNJIShFhEo0hZsDtalnnWayGemgfzZpJZZacjkpopV6RcVcVXS6VaKeiooVqaOaWhWqp6oqFauruhT6FKyvysoUrbPamhSut+pqFBUBAQAh+QQBAAAGACyxAKwADAB8AIL////KmGWejKGIhsCBhMsAAAAAAAAAAAAIuAABGBhIsGAAgQUTHkyoECHDgQsfQnT4MKJEixUpMsS4UWNDiRNBGuD4ESRJgx5RijxJkGVIkylbxnx5ceZImy5vrsTJc6dPmD9rBs04tGPRkkKBKk3KlOhSp02NPpUaFSnUq1SxWs3KdStDmwbAihUZluxYkWdBppW49mHbr2bjopWrli5bu27xwp3Lt27fu3/zBt7rtzBgw4IREz7MOHHjxQ8LkJUskjJIyxIxR57MuXLny58lBgQAIfkEAQAABgAsngCsADQAjwCC////yphlnoyhiIbAgYTLAAAAAAAAAAAACP8ADQgcSLBgQQAGCQZIyLChQ4MIGy58SLHiwIgMJ1rc2BBjQo0cQxL0aBCkSJEkC5o8yTGlQpYsXQ5cCbOiTIE0az68aSCnzo4Off5MyFPo0INBj1osqtRm0qY7n0IFKnGqQ6ZWGWLNClEq15FevwrcKnZsWLFky6ZFe/brWrdtub6VGzfrXLt1rd7Vm3fqXr99of4VHLjpYMOFlR5WnPjoYseNhz6WHPnnZMuVdV7WnLnmZs+dYX4WHTpm6ZOjTVcte/E0StchU6OG3ZL2RtmvV7M2gDu27aW/nepm3bv2cLXBKRa/nTzqcbbP4UanOx1vdb7XAWcnvB1xd8bfIYfVpzwec3nO50GnJ71edcbdZtvPlp/7PfzlwOn71m/c/m78wvlHXHNXEUiVgMjxx5yC+SEInYPSQUidhNZRiJ2F2mHInYZanVRAZwXw1NCH6YXoIYgiMkRiAAIMQMAAAuDkYYoJfbgSAT3N6GFOBBilIo0GkcgQjiKZWKRDRIZkpJJI6nhkQ0lytKSUTRYJZEEF8OhjjVcSZKNBOG4ZZJcDrdjiizHmaCV8DwnJ5oFvjhnnj3NyWaecd3pJJldT5tnnnX/WGeicg8ZZ6JuHspkofIvuVkBAACH5BAEAAFUALJ8ArQA0AI4Ahv////7+/v79/f38+/38+v37+fz6+Pz59/v49fv49Pv38/r28vr18fn07/n07vjz7fjy7Pjx6/fw6ffw6Pfv6Pbv5/bu5vbu5fXt5PXs4/Xr4vTq4PTq3/Pp3vPo3fLn3PLm2vLm2fHl2PHk1/Dj1vDi1PDi0+/h0u/g0e7f0O7ezu7eze3dze3dzO3cy+zbyuzbyezayOvZx+vYxerXxOrXw+rWwunVwenUv+jTvujTvejSvOfRu+fQuebPuObPt+XOtuXNteXMs+TMs8qYZZ6MoYiGwIGEyxMOCRINCRAMCA4LBw0KBgsIBQoHBQgGBAcFAwUEAgMCAQIBAQAAAAAAAAAAAAAAAAAAAAAAAAAAAAAAAAAAAAAAAAAAAAAAAAAAAAAAAAAAAAAAAAAAAAAAAAAAAAAAAAAAAAAAAAAAAAAAAAAAAAAAAAAAAAAAAAAAAAAAAAAAAAAAAAAAAAAAAAAAAAAAAAAAAAAAAAAAAAAAAAAAAAAAAAAAAAAAAAj/AKsIHEiwoMGDAwMgXMiwocMqAh5KnLhwAMWLGAlg3CixAMePDA2AHGnwAMmTAhGgPJlgJUkFLkcuiAmSAc2PDW5ydKBz44OeGCEAvRhhKEUJRidSSCrRAtOHF546xCC1YYaqDDVgXbhhK0IOXg92CGvQA9mCH84SBKF2YIi2AkXArTJiLom5JeaamHtiLoq5KeaqmMtirou5L+bCmBtjroy5M+bSmFtjro25N+bimJtjro65O+bymNtjro+5P+YCmRtk7hCpQhgSkdp64eynq21LTa376eneTEsDTzp6uNHQxod+Tg60M/Oem5/rzCz95uXqNCtjjzl5u8vI3lc+/w6PsjH5k4vPk0ysfmQL2VJXwH86uD3IwPY//s3PsS//jXv9h1FeAl50V4EU1YXgRHItKNFbDj7EVoQOpUVhQ2ZdyNBYGi4EVocIdQXiQVqNaNBVJhZEVYoEOcXiQBXMx9QEMiaF1IsCFYVjFULt+NOOPOUHwEZI1DgRFUNilISREiG5kRJMPuQkRksIREQRRhxhRBFWbjTlRUxUcRtBR4jpZZIXNTFmQUeseSSaFDnBUJkYfUnRE3OeuREUedYJ50RR9HmRnRNJIShFhEo0hZsDtalnnWayGemgfzZpJZZacjkpopV6RcVcVXS6VaKeiooVqaOaWhWqp6oqFauruhT6FKyvysoUrbPamhSut+pqFBUBAQAh+QQBAAAGACyzAKwADAB8AIL////KmGWejKGIhsCBhMsAAAAAAAAAAAAIuAABGBhIsGAAgQUTHkyoECHDgQsfQnT4MKJEixUpMsS4UWNDiRNBGuD4ESRJgx5RijxJkGVIkylbxnx5ceZImy5vrsTJc6dPmD9rBs04tGPRkkKBKk3KlOhSp02NPpUaFSnUq1SxWs3KdStDmwbAihUZluxYkWdBppW49mHbr2bjopWrli5bu27xwp3Lt27fu3/zBt7rtzBgw4IREz7MOHHjxQ8LkJUskjJIyxIxR57MuXLny58lBgQAIfkEAQAAVQAsoACtADQAjgCG/////v7+/v39/fz7/fz6/fv5/Pr4/Pn3+/j1+/j0+/fz+vby+vXx+fTv+fTu+PPt+PLs+PHr9/Dp9/Do9+/o9u/n9u7m9u7l9e3k9ezj9evi9Org9Orf8+ne8+jd8ufc8uba8ubZ8eXY8eTX8OPW8OLU8OLT7+HS7+DR7t/Q7t7O7t7N7d3N7d3M7dzL7NvK7NvJ7NrI69nH69jF6tfE6tfD6tbC6dXB6dS/6NO+6NO96NK859G759C55s+45s+35c625c215cyz5MyzyphlnoyhiIbAgYTLEw4JEg0JEAwIDgsHDQoGCwgFCgcFCAYEBwUDBQQCAwIBAgEBAAAAAAAAAAAAAAAAAAAAAAAAAAAAAAAAAAAAAAAAAAAAAAAAAAAAAAAAAAAAAAAAAAAAAAAAAAAAAAAAAAAAAAAAAAAAAAAAAAAAAAAAAAAAAAAAAAAAAAAAAAAAAAAAAAAAAAAAAAAAAAAAAAAAAAAAAAAAAAAAAAAAAAAAAAAAAAAACP8AqwgcSLCgwYMDAyBcyLChwyoCHkqcuHAAxYsYCWDcKLEAx48MDYAcafAAyZMCEaA8mWAlSQUuRy6ICZIBzY8NbnJ0oHPjg54YIQC9GGEoRQlGJ1JIKtEC04cXnjrEILVhhqoMNWBduGErQg5eD3YIa9AD2YIfzhIEoXZgiLYCRcCtMmIuibkl5pqYe2Iuirkp5qqYy2Kui7kv5sKYG2OujLkz5tKYW2Oujbk35uKYm2Oujrk75vKY22Ouj7k/5gKZG2TuEKlCGBKR2nrh7KerbUtNrfvp6d5MSwNPOnq40dDGh35ODrQz856bn+vMLP3m5eo0K2OPOXm7y8jeVz7/Do+yMfmTi8+TTKx+ZAvZUlfAfzq4PcjA9j/+zc+xL/+Ne/2HUV4CXnRXgRTVheBEci0o0VsOPsRWhA6lRWFDZl3I0FgaLgRWhwh1BeJBWo1o0FUmFkRVigQ5xeJAFczH1AQyJoXUiwIVhWMVQu3404485QfARkjUOBEVQ2KUhJESIbmREkw+5CRGSwhERBFGHGFEEVZuNOVFTFRxG0FHiOllkhc1MWZBR6x5JJoUOcFQmRh9SdETc565ERR51gnnRFH0eZGdE0khKEWESjSFmwO1qWedZrIZ6aB/NmklllpyOSmilXpFxVxVdLpVop6KihWpo5paFaqnqioVq6u6FPoUrK/KyhSts9qaFK636moUFQEBACH5BAEAAFUALKAArAA0AI8Ahv////7+/v79/f38+/38+v37+fz6+Pz59/v49fv49Pv38/r28vr18fn07/n07vjz7fjy7Pjx6/fw6ffw6Pfv6Pbv5/bu5vbu5fXt5PXs4/Xr4vTq4PTq3/Pp3vPo3fLn3PLm2vLm2fHl2PHk1/Dj1vDi1PDi0+/h0u/g0e7f0O7ezu7eze3dze3dzO3cy+zbyuzbyezayOvZx+vYxerXxOrXw+rWwunVwenUv+jTvujTvejSvOfRu+fQuebPuObPt+XOtuXNteXMs+TMs8qYZZ6MoYiGwIGEyxMOCRINCRAMCA4LBw0KBgsIBQoHBQgGBAcFAwUEAgMCAQIBAQAAAAAAAAAAAAAAAAAAAAAAAAAAAAAAAAAAAAAAAAAAAAAAAAAAAAAAAAAAAAAAAAAAAAAAAAAAAAAAAAAAAAAAAAAAAAAAAAAAAAAAAAAAAAAAAAAAAAAAAAAAAAAAAAAAAAAAAAAAAAAAAAAAAAAAAAAAAAAAAAAAAAAAAAAAAAAAAAj/AKsIHEiwYEEABgkSSciwoUODARwufEix4kABEi1qfDgg48aPBgl4BEmySoGRJT8aQJlS4wGWLSsigBnzYQKaNRsqwJkz4QKePQsyABp0YAOiRas4QFr0AdOgEJ72jCA1p4SqNSlgjWlha8sLXlNiCFsyA1mSGs6C3KD2I4e2GzvA1ehhrsUPdiuCyEsxBN+HIv46HCG4IYnCDEsgTmhiscETjguiiEwwBeWBKi4LZKG5iovOLzrD6Byjs4zOMzrT6Fyjs43ONzrj6Jyjs47OOzrz6Nyjs4/OPzoD6Ryk85DOExkKSfowecLizBs6Nzg8OsPpBYNbT4id4O/tBrsP/+wNvqB4gbvLK3SYW/3A81VuuxcIv/b8KvBn34cfe7/D1/411FqADK1GYEKpHWjQaQoWVFqDBI0G4UChTShQC/fh59AKGcKXmYVVWAbiZCBCBmJjICoG4mEgEgZiYCD6BeJeIOIFYl0gygXiWyCyBWJaIJoF4lggdgViBR06NEGSDV0FIlUgRgWiUyAuRRIVJMGHBEkAYAkSfElw6eVH8CkhZpYCFWHEEUYUMdESZ35ZxRHhVcFEnGTSyV0TeG6kJ0NO9KnRnwk9IahFhBoExaEVJVpQFIxS5ChBUkTa3KT4TWFpRo4uNOZGXaJZhZpsuinQpxqFmmFDCK3qEKquDiqkaqwHwUrrrLTKamusuOZaRa+5Anvrrq4KyyuxqxpbLLIZKpsss/cBEBAAIfkEAQAABgAsoACtADQAjgCC////yphlnoyhiIbAgYTLAAAAAAAAAAAACP8ADQgcSLBgQQAGEypcyLAhwoYQI0p8KLGiRYIUL2qMmHGjR4UdP4ocGHKkyJImPaJMqXElS4suX06UOTImTYc3P9rMCZLnxp0+Dwa9CHSowKJGkQ5VGpSpT6c8oeaUepMqTasysb7UypJrSq8mwdY0WlHsSbIz0UI0q1PtWrc44S5kq1LuXLs98Rqk+1PvXr9CAZMUPJiwAb4tDR9WjJgo48eGG8OETFhyWYYB3LrMrHazZsyfF3JG67kzaNOiQyscTbY06dOvU6NerToh66SwW+fGLTs27dm2axu8vXR38d66kfP+7Ts48OHCCxJvapy68uPMk2df7rw59OfSoxOrnP60evnr1rdj766dPffv3sODHy9+IPmo5vGjP68+vfv18DmmUQH5MVSAUwTu19CBGyXYH0QMDihQAAIMQMAAAkzYIIIGEEdAhxs2SB4B9xnI4UIfDniiQileFKGLDLVo0YszxhiihCje6OKIJS5EY0UEegiiig1OWOGFGQ7pomUROViZYT/qFSVeU9pVpVxXwpWlW1uq1SVaX5IVplFjDlVmUGf6lCZPBQQEACH5BAEAAFAALLUArQAMAH0Ahv////7+/v79/f38+/38+v37+fz6+Pz59/v49fv49Pv38/r28vr18fn07/n07vjz7fjy7Pjx6/fw6ffw6Pfv6Pbv5/bu5vbu5fXt5PXs4/Xr4vTq4PTq3/Pp3vPo3fLn3PLm2vLm2fHl2PHk1/Dj1vDi1PDi0+/h0u/g0e7f0O7ezu7eze3dze3dzO3cy+zbyuzbyezayOvZx+vYxerXxOrXw+rWwunVwenUv+jTvujTvejSvOfRu+fQuebPuObPt+XOtuXNteXMs+TMs8qYZZ6MoYiGwIGEyxMOCRINCRAMCA4LBw0KBgsIBQIBAQAAAAAAAAAAAAAAAAAAAAAAAAAAAAAAAAAAAAAAAAAAAAAAAAAAAAAAAAAAAAAAAAAAAAAAAAAAAAAAAAAAAAAAAAAAAAAAAAAAAAAAAAAAAAAAAAAAAAAAAAAAAAAAAAAAAAAAAAAAAAAAAAAAAAAAAAAAAAAAAAAAAAAAAAAAAAAAAAAAAAAAAAAAAAAAAAAAAAj/AKEIHEgQSoCCCAUgLDhgIUECDgcWiCjQAEUoBy4iuJjgooKLCy4yuNjgooOLDy5CuBjhooSLFC5auHjhIoaLGS5quLjhIoeLHS56uPjhIoiLIS6KuDjiIomLJS6auHjiIoqLKS6quMjioouLLy7CuBjjooyLMy7SuFjjoo2LNy7iuJjjoo6LOy7yuNjjoo+LPy4CuRjk4hAhFIkUjkhkMOPAjP8y7st4L+O8jO8yrst4LuO4jN8ybst4LeO0jM8yLst4LOOwjFskXpF4K+OsjK8yrsp4KuOojJ8ybsp4KeOkjI8yLsp4KOOgjH8y7sl4J+OcjG8ynsm4QuIJiV8yJW7JeCXjlIxPMkaSOEliJYmXJGaSuEnii0Tw67+f2EniJ/8lFhAAOw==\"/>"
            ]
          },
          "metadata": {},
          "execution_count": 35
        }
      ],
      "source": [
        "import tensorflow_docs.vis.embed as embed\n",
        "embed.embed_file(image_file)\n"
      ]
    },
    {
      "cell_type": "markdown",
      "metadata": {
        "id": "lnq9Hzo1Po6X"
      },
      "source": [
        "## Next steps\n",
        "\n",
        "This tutorial demonstrated how to implement the Actor-Critic method using Tensorflow.\n",
        "\n",
        "As a next step, you could try training a model on a different environment in Gym.\n",
        "\n",
        "For additional information regarding Actor-Critic methods and the Cartpole-v0 problem, you may refer to the following resources:\n",
        "\n",
        "- [The Actor-Critic method](https://hal.inria.fr/hal-00840470/document)\n",
        "- [The Actor-Critic lecture (CAL)](https://www.youtube.com/watch?v=EKqxumCuAAY&list=PLkFD6_40KJIwhWJpGazJ9VSj9CFMkb79A&index=7&t=0s)\n",
        "- [Cart Pole learning control problem \\[Barto, et al. 1983\\]](http://www.derongliu.org/adp/adp-cdrom/Barto1983.pdf)\n",
        "\n",
        "For more reinforcement learning examples in TensorFlow, you can check the following resources:\n",
        "- [Reinforcement learning code examples (keras.io)](https://keras.io/examples/rl/)\n",
        "- [TF-Agents reinforcement learning library](https://www.tensorflow.org/agents)\n"
      ]
    }
  ],
  "metadata": {
    "colab": {
      "collapsed_sections": [
        "_jQ1tEQCxwRx"
      ],
      "name": "actor_critic.ipynb",
      "provenance": [],
      "toc_visible": true,
      "gpuType": "T4",
      "include_colab_link": true
    },
    "kernelspec": {
      "display_name": "Python 3",
      "name": "python3"
    },
    "accelerator": "GPU"
  },
  "nbformat": 4,
  "nbformat_minor": 0
}