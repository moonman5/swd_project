{
  "cells": [
    {
      "cell_type": "markdown",
      "metadata": {
        "id": "view-in-github",
        "colab_type": "text"
      },
      "source": [
        "<a href=\"https://colab.research.google.com/github/moonman5/swd_project/blob/main/site/en/tutorials/reinforcement_learning/actor_critic.ipynb\" target=\"_parent\"><img src=\"https://colab.research.google.com/assets/colab-badge.svg\" alt=\"Open In Colab\"/></a>"
      ]
    },
    {
      "cell_type": "markdown",
      "metadata": {
        "id": "_jQ1tEQCxwRx"
      },
      "source": [
        "##### Copyright 2020 The TensorFlow Authors."
      ]
    },
    {
      "cell_type": "code",
      "execution_count": null,
      "metadata": {
        "cellView": "form",
        "id": "V_sgB_5dx1f1"
      },
      "outputs": [],
      "source": [
        "#@title Licensed under the Apache License, Version 2.0 (the \"License\");\n",
        "# you may not use this file except in compliance with the License.\n",
        "# You may obtain a copy of the License at\n",
        "#\n",
        "# https://www.apache.org/licenses/LICENSE-2.0\n",
        "#\n",
        "# Unless required by applicable law or agreed to in writing, software\n",
        "# distributed under the License is distributed on an \"AS IS\" BASIS,\n",
        "# WITHOUT WARRANTIES OR CONDITIONS OF ANY KIND, either express or implied.\n",
        "# See the License for the specific language governing permissions and\n",
        "# limitations under the License."
      ]
    },
    {
      "cell_type": "markdown",
      "metadata": {
        "id": "p62G8M_viUJp"
      },
      "source": [
        "# Playing CartPole with the Actor-Critic method\n"
      ]
    },
    {
      "cell_type": "markdown",
      "metadata": {
        "id": "-mJ2i6jvZ3sK"
      },
      "source": [
        "<table class=\"tfo-notebook-buttons\" align=\"left\">\n",
        "  <td>\n",
        "    <a target=\"_blank\" href=\"https://www.tensorflow.org/tutorials/reinforcement_learning/actor_critic\">\n",
        "    <img src=\"https://www.tensorflow.org/images/tf_logo_32px.png\" />\n",
        "    View on TensorFlow.org</a>\n",
        "  </td>\n",
        "  <td>\n",
        "    <a target=\"_blank\" href=\"https://colab.research.google.com/github/tensorflow/docs/blob/master/site/en/tutorials/reinforcement_learning/actor_critic.ipynb\">\n",
        "    <img src=\"https://www.tensorflow.org/images/colab_logo_32px.png\" />\n",
        "    Run in Google Colab</a>\n",
        "  </td>\n",
        "  <td>\n",
        "    <a target=\"_blank\" href=\"https://github.com/tensorflow/docs/blob/master/site/en/tutorials/reinforcement_learning/actor_critic.ipynb\">\n",
        "    <img src=\"https://www.tensorflow.org/images/GitHub-Mark-32px.png\" />\n",
        "    View source on GitHub</a>\n",
        "  </td>\n",
        "  <td>\n",
        "    <a href=\"https://storage.googleapis.com/tensorflow_docs/docs/site/en/tutorials/reinforcement_learning/actor_critic.ipynb\"><img src=\"https://www.tensorflow.org/images/download_logo_32px.png\" />Download notebook</a>\n",
        "  </td>\n",
        "</table>"
      ]
    },
    {
      "cell_type": "markdown",
      "metadata": {
        "id": "kFgN7h_wiUJq"
      },
      "source": [
        "This tutorial demonstrates how to implement the [Actor-Critic](https://papers.nips.cc/paper/1786-actor-critic-algorithms.pdf) method using TensorFlow to train an agent on the [Open AI Gym](https://www.gymlibrary.dev/) [`CartPole-v0`](https://www.gymlibrary.dev/environments/classic_control/cart_pole/) environment.\n",
        "The reader is assumed to have some familiarity with [policy gradient methods](https://papers.nips.cc/paper/1713-policy-gradient-methods-for-reinforcement-learning-with-function-approximation.pdf) of [(deep) reinforcement learning](https://en.wikipedia.org/wiki/Deep_reinforcement_learning).\n"
      ]
    },
    {
      "cell_type": "markdown",
      "metadata": {
        "id": "_kA10ZKRR0hi"
      },
      "source": [
        "**Actor-Critic methods**\n",
        "\n",
        "Actor-Critic methods are [temporal difference (TD) learning](https://en.wikipedia.org/wiki/Temporal_difference_learning) methods that represent the policy function independent of the value function.\n",
        "\n",
        "A policy function (or policy) returns a probability distribution over actions that the agent can take based on the given state.\n",
        "A value function determines the expected return for an agent starting at a given state and acting according to a particular policy forever after.\n",
        "\n",
        "In the Actor-Critic method, the policy is referred to as the *actor* that proposes a set of possible actions given a state, and the estimated value function is referred to as the *critic*, which evaluates actions taken by the *actor* based on the given policy.\n",
        "\n",
        "In this tutorial, both the *Actor* and *Critic* will be represented using one neural network with two outputs.\n"
      ]
    },
    {
      "cell_type": "markdown",
      "metadata": {
        "id": "rBfiafKSRs2k"
      },
      "source": [
        "**`CartPole-v0`**\n",
        "\n",
        "In the [`CartPole-v0` environment](https://www.gymlibrary.dev/environments/classic_control/cart_pole/), a pole is attached to a cart moving along a frictionless track.\n",
        "The pole starts upright and the goal of the agent is to prevent it from falling over by applying a force of `-1` or `+1` to the cart.\n",
        "A reward of `+1` is given for every time step the pole remains upright.\n",
        "An episode ends when: 1) the pole is more than 15 degrees from vertical; or 2) the cart moves more than 2.4 units from the center.\n",
        "\n",
        "<center>\n",
        "  <figure>\n",
        "    <image src=\"https://tensorflow.org/tutorials/reinforcement_learning/images/cartpole-v0.gif\">\n",
        "    <figcaption>\n",
        "      Trained actor-critic model in Cartpole-v0 environment\n",
        "    </figcaption>\n",
        "  </figure>\n",
        "</center>\n"
      ]
    },
    {
      "cell_type": "markdown",
      "metadata": {
        "id": "XSNVK0AeRoJd"
      },
      "source": [
        "The problem is considered \"solved\" when the average total reward for the episode reaches 195 over 100 consecutive trials."
      ]
    },
    {
      "cell_type": "markdown",
      "metadata": {
        "id": "glLwIctHiUJq"
      },
      "source": [
        "## Setup\n",
        "\n",
        "Import necessary packages and configure global settings.\n"
      ]
    },
    {
      "cell_type": "code",
      "execution_count": 2,
      "metadata": {
        "id": "13l6BbxKhCKp",
        "colab": {
          "base_uri": "https://localhost:8080/"
        },
        "outputId": "7400204c-6cf3-4916-dea5-d7b7c72e40be"
      },
      "outputs": [
        {
          "output_type": "stream",
          "name": "stdout",
          "text": [
            "Requirement already satisfied: gym in /usr/local/lib/python3.11/dist-packages (0.25.2)\n",
            "Requirement already satisfied: numpy>=1.18.0 in /usr/local/lib/python3.11/dist-packages (from gym) (1.26.4)\n",
            "Requirement already satisfied: cloudpickle>=1.2.0 in /usr/local/lib/python3.11/dist-packages (from gym) (3.1.1)\n",
            "Requirement already satisfied: gym_notices>=0.0.4 in /usr/local/lib/python3.11/dist-packages (from gym) (0.0.8)\n",
            "Collecting pyglet\n",
            "  Downloading pyglet-2.1.2-py3-none-any.whl.metadata (7.7 kB)\n",
            "Downloading pyglet-2.1.2-py3-none-any.whl (961 kB)\n",
            "\u001b[2K   \u001b[90m━━━━━━━━━━━━━━━━━━━━━━━━━━━━━━━━━━━━━━━━\u001b[0m \u001b[32m962.0/962.0 kB\u001b[0m \u001b[31m14.0 MB/s\u001b[0m eta \u001b[36m0:00:00\u001b[0m\n",
            "\u001b[?25hInstalling collected packages: pyglet\n",
            "Successfully installed pyglet-2.1.2\n"
          ]
        }
      ],
      "source": [
        "!pip install gym\n",
        "!pip install pyglet"
      ]
    },
    {
      "cell_type": "code",
      "execution_count": 3,
      "metadata": {
        "id": "WBeQhPi2S4m5",
        "colab": {
          "base_uri": "https://localhost:8080/"
        },
        "outputId": "f34a34e0-b731-47ce-a5e9-5c342e728829"
      },
      "outputs": [
        {
          "output_type": "stream",
          "name": "stdout",
          "text": [
            "Get:1 https://cloud.r-project.org/bin/linux/ubuntu jammy-cran40/ InRelease [3,626 B]\n",
            "Hit:2 https://developer.download.nvidia.com/compute/cuda/repos/ubuntu2204/x86_64  InRelease\n",
            "Get:3 http://security.ubuntu.com/ubuntu jammy-security InRelease [129 kB]\n",
            "Get:4 https://r2u.stat.illinois.edu/ubuntu jammy InRelease [6,555 B]\n",
            "Hit:5 http://archive.ubuntu.com/ubuntu jammy InRelease\n",
            "Get:6 http://archive.ubuntu.com/ubuntu jammy-updates InRelease [128 kB]\n",
            "Get:7 https://r2u.stat.illinois.edu/ubuntu jammy/main all Packages [8,660 kB]\n",
            "Get:8 https://ppa.launchpadcontent.net/deadsnakes/ppa/ubuntu jammy InRelease [18.1 kB]\n",
            "Get:9 http://security.ubuntu.com/ubuntu jammy-security/main amd64 Packages [2,606 kB]\n",
            "Hit:10 https://ppa.launchpadcontent.net/graphics-drivers/ppa/ubuntu jammy InRelease\n",
            "Get:11 http://archive.ubuntu.com/ubuntu jammy-backports InRelease [127 kB]\n",
            "Hit:12 https://ppa.launchpadcontent.net/ubuntugis/ppa/ubuntu jammy InRelease\n",
            "Get:13 https://r2u.stat.illinois.edu/ubuntu jammy/main amd64 Packages [2,653 kB]\n",
            "Get:14 http://security.ubuntu.com/ubuntu jammy-security/universe amd64 Packages [1,230 kB]\n",
            "Get:15 http://archive.ubuntu.com/ubuntu jammy-updates/universe amd64 Packages [1,523 kB]\n",
            "Get:16 http://archive.ubuntu.com/ubuntu jammy-updates/main amd64 Packages [2,907 kB]\n",
            "Fetched 20.0 MB in 6s (3,545 kB/s)\n",
            "Reading package lists...\n",
            "Reading package lists...\n",
            "Building dependency tree...\n",
            "Reading state information...\n",
            "The following additional packages will be installed:\n",
            "  libfontenc1 libxfont2 libxkbfile1 x11-xkb-utils xfonts-base xfonts-encodings xfonts-utils\n",
            "  xserver-common\n",
            "The following NEW packages will be installed:\n",
            "  libfontenc1 libxfont2 libxkbfile1 x11-xkb-utils xfonts-base xfonts-encodings xfonts-utils\n",
            "  xserver-common xvfb\n",
            "0 upgraded, 9 newly installed, 0 to remove and 27 not upgraded.\n",
            "Need to get 7,815 kB of archives.\n",
            "After this operation, 11.9 MB of additional disk space will be used.\n",
            "Get:1 http://archive.ubuntu.com/ubuntu jammy/main amd64 libfontenc1 amd64 1:1.1.4-1build3 [14.7 kB]\n",
            "Get:2 http://archive.ubuntu.com/ubuntu jammy/main amd64 libxfont2 amd64 1:2.0.5-1build1 [94.5 kB]\n",
            "Get:3 http://archive.ubuntu.com/ubuntu jammy/main amd64 libxkbfile1 amd64 1:1.1.0-1build3 [71.8 kB]\n",
            "Get:4 http://archive.ubuntu.com/ubuntu jammy/main amd64 x11-xkb-utils amd64 7.7+5build4 [172 kB]\n",
            "Get:5 http://archive.ubuntu.com/ubuntu jammy/main amd64 xfonts-encodings all 1:1.0.5-0ubuntu2 [578 kB]\n",
            "Get:6 http://archive.ubuntu.com/ubuntu jammy/main amd64 xfonts-utils amd64 1:7.7+6build2 [94.6 kB]\n",
            "Get:7 http://archive.ubuntu.com/ubuntu jammy/main amd64 xfonts-base all 1:1.0.5 [5,896 kB]\n",
            "Get:8 http://archive.ubuntu.com/ubuntu jammy-updates/main amd64 xserver-common all 2:21.1.4-2ubuntu1.7~22.04.12 [28.7 kB]\n",
            "Get:9 http://archive.ubuntu.com/ubuntu jammy-updates/universe amd64 xvfb amd64 2:21.1.4-2ubuntu1.7~22.04.12 [864 kB]\n",
            "Fetched 7,815 kB in 2s (4,172 kB/s)\n",
            "Selecting previously unselected package libfontenc1:amd64.\r\n",
            "(Reading database ... \r(Reading database ... 5%\r(Reading database ... 10%\r(Reading database ... 15%\r(Reading database ... 20%\r(Reading database ... 25%\r(Reading database ... 30%\r(Reading database ... 35%\r(Reading database ... 40%\r(Reading database ... 45%\r(Reading database ... 50%\r(Reading database ... 55%\r(Reading database ... 60%\r(Reading database ... 65%\r(Reading database ... 70%\r(Reading database ... 75%\r(Reading database ... 80%\r(Reading database ... 85%\r(Reading database ... 90%\r(Reading database ... 95%\r(Reading database ... 100%\r(Reading database ... 124926 files and directories currently installed.)\r\n",
            "Preparing to unpack .../0-libfontenc1_1%3a1.1.4-1build3_amd64.deb ...\r\n",
            "Unpacking libfontenc1:amd64 (1:1.1.4-1build3) ...\r\n",
            "Selecting previously unselected package libxfont2:amd64.\r\n",
            "Preparing to unpack .../1-libxfont2_1%3a2.0.5-1build1_amd64.deb ...\r\n",
            "Unpacking libxfont2:amd64 (1:2.0.5-1build1) ...\r\n",
            "Selecting previously unselected package libxkbfile1:amd64.\r\n",
            "Preparing to unpack .../2-libxkbfile1_1%3a1.1.0-1build3_amd64.deb ...\r\n",
            "Unpacking libxkbfile1:amd64 (1:1.1.0-1build3) ...\r\n",
            "Selecting previously unselected package x11-xkb-utils.\r\n",
            "Preparing to unpack .../3-x11-xkb-utils_7.7+5build4_amd64.deb ...\r\n",
            "Unpacking x11-xkb-utils (7.7+5build4) ...\r\n",
            "Selecting previously unselected package xfonts-encodings.\r\n",
            "Preparing to unpack .../4-xfonts-encodings_1%3a1.0.5-0ubuntu2_all.deb ...\r\n",
            "Unpacking xfonts-encodings (1:1.0.5-0ubuntu2) ...\r\n",
            "Selecting previously unselected package xfonts-utils.\r\n",
            "Preparing to unpack .../5-xfonts-utils_1%3a7.7+6build2_amd64.deb ...\r\n",
            "Unpacking xfonts-utils (1:7.7+6build2) ...\r\n",
            "Selecting previously unselected package xfonts-base.\r\n",
            "Preparing to unpack .../6-xfonts-base_1%3a1.0.5_all.deb ...\r\n",
            "Unpacking xfonts-base (1:1.0.5) ...\r\n",
            "Selecting previously unselected package xserver-common.\r\n",
            "Preparing to unpack .../7-xserver-common_2%3a21.1.4-2ubuntu1.7~22.04.12_all.deb ...\r\n",
            "Unpacking xserver-common (2:21.1.4-2ubuntu1.7~22.04.12) ...\r\n",
            "Selecting previously unselected package xvfb.\r\n",
            "Preparing to unpack .../8-xvfb_2%3a21.1.4-2ubuntu1.7~22.04.12_amd64.deb ...\r\n",
            "Unpacking xvfb (2:21.1.4-2ubuntu1.7~22.04.12) ...\r\n",
            "Setting up libfontenc1:amd64 (1:1.1.4-1build3) ...\r\n",
            "Setting up xfonts-encodings (1:1.0.5-0ubuntu2) ...\r\n",
            "Setting up libxkbfile1:amd64 (1:1.1.0-1build3) ...\r\n",
            "Setting up libxfont2:amd64 (1:2.0.5-1build1) ...\r\n",
            "Setting up x11-xkb-utils (7.7+5build4) ...\r\n",
            "Setting up xfonts-utils (1:7.7+6build2) ...\r\n",
            "Setting up xfonts-base (1:1.0.5) ...\r\n",
            "Setting up xserver-common (2:21.1.4-2ubuntu1.7~22.04.12) ...\r\n",
            "Setting up xvfb (2:21.1.4-2ubuntu1.7~22.04.12) ...\r\n",
            "Processing triggers for man-db (2.10.2-1) ...\r\n",
            "Processing triggers for fontconfig (2.13.1-4.2ubuntu5) ...\r\n",
            "Processing triggers for libc-bin (2.35-0ubuntu3.8) ...\r\n",
            "/sbin/ldconfig.real: /usr/local/lib/libtbb.so.12 is not a symbolic link\r\n",
            "\r\n",
            "/sbin/ldconfig.real: /usr/local/lib/libtbbmalloc_proxy.so.2 is not a symbolic link\r\n",
            "\r\n",
            "/sbin/ldconfig.real: /usr/local/lib/libur_adapter_opencl.so.0 is not a symbolic link\r\n",
            "\r\n",
            "/sbin/ldconfig.real: /usr/local/lib/libtbbbind.so.3 is not a symbolic link\r\n",
            "\r\n",
            "/sbin/ldconfig.real: /usr/local/lib/libtbbmalloc.so.2 is not a symbolic link\r\n",
            "\r\n",
            "/sbin/ldconfig.real: /usr/local/lib/libur_adapter_level_zero.so.0 is not a symbolic link\r\n",
            "\r\n",
            "/sbin/ldconfig.real: /usr/local/lib/libtbbbind_2_5.so.3 is not a symbolic link\r\n",
            "\r\n",
            "/sbin/ldconfig.real: /usr/local/lib/libtbbbind_2_0.so.3 is not a symbolic link\r\n",
            "\r\n",
            "/sbin/ldconfig.real: /usr/local/lib/libtcm_debug.so.1 is not a symbolic link\r\n",
            "\r\n",
            "/sbin/ldconfig.real: /usr/local/lib/libtcm.so.1 is not a symbolic link\r\n",
            "\r\n",
            "/sbin/ldconfig.real: /usr/local/lib/libur_loader.so.0 is not a symbolic link\r\n",
            "\r\n",
            "/sbin/ldconfig.real: /usr/local/lib/libhwloc.so.15 is not a symbolic link\r\n",
            "\r\n",
            "/sbin/ldconfig.real: /usr/local/lib/libumf.so.0 is not a symbolic link\r\n",
            "\r\n"
          ]
        },
        {
          "output_type": "stream",
          "name": "stderr",
          "text": [
            "W: Skipping acquire of configured file 'main/source/Sources' as repository 'https://r2u.stat.illinois.edu/ubuntu jammy InRelease' does not seem to provide it (sources.list entry misspelt?)\n"
          ]
        }
      ],
      "source": [
        "%%bash\n",
        "# Install additional packages for visualization\n",
        "apt-get update\n",
        "apt-get install -y xvfb\n",
        "apt-get install python-opengl > /dev/null 2>&1\n",
        "pip install pyvirtualdisplay > /dev/null 2>&1\n",
        "pip install git+https://github.com/tensorflow/docs > /dev/null 2>&1"
      ]
    },
    {
      "cell_type": "code",
      "execution_count": 4,
      "metadata": {
        "id": "tT4N3qYviUJr",
        "colab": {
          "base_uri": "https://localhost:8080/"
        },
        "outputId": "39a6deeb-b48c-4796-cc61-93bc54dd7957"
      },
      "outputs": [
        {
          "output_type": "stream",
          "name": "stderr",
          "text": [
            "/usr/local/lib/python3.11/dist-packages/gym/core.py:317: DeprecationWarning: \u001b[33mWARN: Initializing wrapper in old step API which returns one bool instead of two. It is recommended to set `new_step_api=True` to use new step API. This will be the default behaviour in future.\u001b[0m\n",
            "  deprecation(\n",
            "/usr/local/lib/python3.11/dist-packages/gym/wrappers/step_api_compatibility.py:39: DeprecationWarning: \u001b[33mWARN: Initializing environment in old step API which returns one bool instead of two. It is recommended to set `new_step_api=True` to use new step API. This will be the default behaviour in future.\u001b[0m\n",
            "  deprecation(\n"
          ]
        }
      ],
      "source": [
        "import collections\n",
        "import gym\n",
        "import numpy as np\n",
        "import statistics\n",
        "import tensorflow as tf\n",
        "import tqdm\n",
        "\n",
        "from matplotlib import pyplot as plt\n",
        "from tensorflow.keras import layers\n",
        "from typing import Any, List, Sequence, Tuple\n",
        "\n",
        "\n",
        "# Create the environment\n",
        "env = gym.make(\"CartPole-v1\")\n",
        "\n",
        "# Set seed for experiment reproducibility\n",
        "seed = 42\n",
        "env.reset(seed=seed)\n",
        "tf.random.set_seed(seed)\n",
        "np.random.seed(seed)\n",
        "\n",
        "# Small epsilon value for stabilizing division operations\n",
        "eps = np.finfo(np.float32).eps.item()"
      ]
    },
    {
      "cell_type": "markdown",
      "metadata": {
        "id": "AOUCe2D0iUJu"
      },
      "source": [
        "## The model\n",
        "\n",
        "The *Actor* and *Critic* will be modeled using one neural network that generates the action probabilities and Critic value respectively. This tutorial uses model subclassing to define the model.\n",
        "\n",
        "During the forward pass, the model will take in the state as the input and will output both action probabilities and critic value $V$, which models the state-dependent [value function](https://spinningup.openai.com/en/latest/spinningup/rl_intro.html#value-functions). The goal is to train a model that chooses actions based on a policy $\\pi$ that maximizes expected [return](https://spinningup.openai.com/en/latest/spinningup/rl_intro.html#reward-and-return).\n",
        "\n",
        "For `CartPole-v0`, there are four values representing the state: cart position, cart-velocity, pole angle and pole velocity respectively. The agent can take two actions to push the cart left (`0`) and right (`1`), respectively.\n",
        "\n",
        "Refer to [Gym's Cart Pole documentation page](https://www.gymlibrary.dev/environments/classic_control/cart_pole/) and [_Neuronlike adaptive elements that can solve difficult learning control problems_](http://www.derongliu.org/adp/adp-cdrom/Barto1983.pdf) by Barto, Sutton and Anderson (1983) for more information.\n"
      ]
    },
    {
      "cell_type": "code",
      "execution_count": 5,
      "metadata": {
        "id": "aXKbbMC-kmuv",
        "outputId": "84ee9738-6285-4e94-d86a-e72b734dacc4",
        "colab": {
          "base_uri": "https://localhost:8080/"
        }
      },
      "outputs": [
        {
          "output_type": "stream",
          "name": "stderr",
          "text": [
            "/usr/local/lib/python3.11/dist-packages/ipykernel/ipkernel.py:283: DeprecationWarning: `should_run_async` will not call `transform_cell` automatically in the future. Please pass the result to `transformed_cell` argument and any exception that happen during thetransform in `preprocessing_exc_tuple` in IPython 7.17 and above.\n",
            "  and should_run_async(code)\n"
          ]
        }
      ],
      "source": [
        "class ActorCritic(tf.keras.Model):\n",
        "  \"\"\"Combined actor-critic network.\"\"\"\n",
        "\n",
        "  def __init__(\n",
        "      self,\n",
        "      num_actions: int,\n",
        "      num_hidden_units: int):\n",
        "    \"\"\"Initialize.\"\"\"\n",
        "    super().__init__()\n",
        "\n",
        "    self.common = layers.Dense(num_hidden_units, activation=\"relu\")\n",
        "    self.actor = layers.Dense(num_actions)\n",
        "    self.critic = layers.Dense(1)\n",
        "\n",
        "  def call(self, inputs: tf.Tensor) -> Tuple[tf.Tensor, tf.Tensor]:\n",
        "    x = self.common(inputs)\n",
        "    return self.actor(x), self.critic(x)"
      ]
    },
    {
      "cell_type": "code",
      "execution_count": 6,
      "metadata": {
        "id": "nWyxJgjLn68c"
      },
      "outputs": [],
      "source": [
        "num_actions = env.action_space.n  # 2\n",
        "num_hidden_units = 128\n",
        "\n",
        "model = ActorCritic(num_actions, num_hidden_units)"
      ]
    },
    {
      "cell_type": "markdown",
      "metadata": {
        "id": "hk92njFziUJw"
      },
      "source": [
        "## Train the agent\n",
        "\n",
        "To train the agent, you will follow these steps:\n",
        "\n",
        "1. Run the agent on the environment to collect training data per episode.\n",
        "2. Compute expected return at each time step.\n",
        "3. Compute the loss for the combined Actor-Critic model.\n",
        "4. Compute gradients and update network parameters.\n",
        "5. Repeat 1-4 until either success criterion or max episodes has been reached.\n"
      ]
    },
    {
      "cell_type": "markdown",
      "metadata": {
        "id": "R2nde2XDs8Gh"
      },
      "source": [
        "### 1. Collect training data\n",
        "\n",
        "As in supervised learning, in order to train the actor-critic model, you need\n",
        "to have training data. However, in order to collect such data, the model would\n",
        "need to be \"run\" in the environment.\n",
        "\n",
        "Training data is collected for each episode. Then at each time step, the model's forward pass will be run on the environment's state in order to generate action probabilities and the critic value based on the current policy parameterized by the model's weights.\n",
        "\n",
        "The next action will be sampled from the action probabilities generated by the model, which would then be applied to the environment, causing the next state and reward to be generated.\n",
        "\n",
        "This process is implemented in the `run_episode` function, which uses TensorFlow operations so that it can later be compiled into a TensorFlow graph for faster training. Note that `tf.TensorArray`s were used to support Tensor iteration on variable length arrays."
      ]
    },
    {
      "cell_type": "code",
      "execution_count": 7,
      "metadata": {
        "id": "5URrbGlDSAGx"
      },
      "outputs": [],
      "source": [
        "# Wrap OpenAI Gym's `env.step` call as an operation in a TensorFlow function.\n",
        "# This would allow it to be included in a callable TensorFlow graph.\n",
        "\n",
        "def env_step(action: np.ndarray) -> Tuple[np.ndarray, np.ndarray, np.ndarray]:\n",
        "  \"\"\"Returns state, reward and done flag given an action.\"\"\"\n",
        "\n",
        "  state, reward, done, _ = env.step(action)\n",
        "  return (state.astype(np.float32),\n",
        "          np.array(reward, np.int32),\n",
        "          np.array(done, np.int32))\n",
        "\n",
        "\n",
        "def tf_env_step(action: tf.Tensor) -> List[tf.Tensor]:\n",
        "  return tf.numpy_function(env_step, [action],\n",
        "                           [tf.float32, tf.int32, tf.int32])\n"
      ]
    },
    {
      "cell_type": "code",
      "execution_count": 8,
      "metadata": {
        "id": "a4qVRV063Cl9"
      },
      "outputs": [],
      "source": [
        "def run_episode(\n",
        "    initial_state: tf.Tensor,\n",
        "    model: tf.keras.Model,\n",
        "    max_steps: int) -> Tuple[tf.Tensor, tf.Tensor, tf.Tensor]:\n",
        "  \"\"\"Runs a single episode to collect training data.\"\"\"\n",
        "\n",
        "  action_probs = tf.TensorArray(dtype=tf.float32, size=0, dynamic_size=True)\n",
        "  values = tf.TensorArray(dtype=tf.float32, size=0, dynamic_size=True)\n",
        "  rewards = tf.TensorArray(dtype=tf.int32, size=0, dynamic_size=True)\n",
        "\n",
        "  initial_state_shape = initial_state.shape\n",
        "  state = initial_state\n",
        "\n",
        "  for t in tf.range(max_steps):\n",
        "    # Convert state into a batched tensor (batch size = 1)\n",
        "    state = tf.expand_dims(state, 0)\n",
        "\n",
        "    # Run the model and to get action probabilities and critic value\n",
        "    action_logits_t, value = model(state)\n",
        "\n",
        "    # Sample next action from the action probability distribution\n",
        "    action = tf.random.categorical(action_logits_t, 1)[0, 0]\n",
        "    action_probs_t = tf.nn.softmax(action_logits_t)\n",
        "\n",
        "    # Store critic values\n",
        "    values = values.write(t, tf.squeeze(value))\n",
        "\n",
        "    # Store log probability of the action chosen\n",
        "    action_probs = action_probs.write(t, action_probs_t[0, action])\n",
        "\n",
        "    # Apply action to the environment to get next state and reward\n",
        "    state, reward, done = tf_env_step(action)\n",
        "    state.set_shape(initial_state_shape)\n",
        "\n",
        "    # Store reward\n",
        "    rewards = rewards.write(t, reward)\n",
        "\n",
        "    if tf.cast(done, tf.bool):\n",
        "      break\n",
        "\n",
        "  action_probs = action_probs.stack()\n",
        "  values = values.stack()\n",
        "  rewards = rewards.stack()\n",
        "\n",
        "  return action_probs, values, rewards\n"
      ]
    },
    {
      "cell_type": "markdown",
      "metadata": {
        "id": "lBnIHdz22dIx"
      },
      "source": [
        "### 2. Compute the expected returns\n",
        "\n",
        "The sequence of rewards for each timestep $t$, $\\{r_{t}\\}^{T}_{t=1}$ collected during one episode is converted into a sequence of expected returns $\\{G_{t}\\}^{T}_{t=1}$ in which the sum of rewards is taken from the current timestep $t$ to $T$ and each reward is multiplied with an exponentially decaying discount factor $\\gamma$:\n",
        "\n",
        "$$G_{t} = \\sum^{T}_{t'=t} \\gamma^{t'-t}r_{t'}$$\n",
        "\n",
        "Since $\\gamma\\in(0,1)$, rewards further out from the current timestep are given less weight.\n",
        "\n",
        "Intuitively, expected return simply implies that rewards now are better than rewards later. In a mathematical sense, it is to ensure that the sum of the rewards converges.\n",
        "\n",
        "To stabilize training, the resulting sequence of returns is also standardized (i.e. to have zero mean and unit standard deviation).\n"
      ]
    },
    {
      "cell_type": "code",
      "execution_count": 9,
      "metadata": {
        "id": "jpEwFyl315dl"
      },
      "outputs": [],
      "source": [
        "def get_expected_return(\n",
        "    rewards: tf.Tensor,\n",
        "    gamma: float,\n",
        "    standardize: bool = True) -> tf.Tensor:\n",
        "  \"\"\"Compute expected returns per timestep.\"\"\"\n",
        "\n",
        "  n = tf.shape(rewards)[0]\n",
        "  returns = tf.TensorArray(dtype=tf.float32, size=n)\n",
        "\n",
        "  # Start from the end of `rewards` and accumulate reward sums\n",
        "  # into the `returns` array\n",
        "  rewards = tf.cast(rewards[::-1], dtype=tf.float32)\n",
        "  discounted_sum = tf.constant(0.0)\n",
        "  discounted_sum_shape = discounted_sum.shape\n",
        "  for i in tf.range(n):\n",
        "    reward = rewards[i]\n",
        "    discounted_sum = reward + gamma * discounted_sum\n",
        "    discounted_sum.set_shape(discounted_sum_shape)\n",
        "    returns = returns.write(i, discounted_sum)\n",
        "  returns = returns.stack()[::-1]\n",
        "\n",
        "  if standardize:\n",
        "    returns = ((returns - tf.math.reduce_mean(returns)) /\n",
        "               (tf.math.reduce_std(returns) + eps))\n",
        "\n",
        "  return returns\n"
      ]
    },
    {
      "cell_type": "markdown",
      "metadata": {
        "id": "qhr50_Czxazw"
      },
      "source": [
        "### 3. The Actor-Critic loss\n",
        "\n",
        "Since you're using a hybrid Actor-Critic model, the chosen loss function is a combination of Actor and Critic losses for training, as shown below:\n",
        "\n",
        "$$L = L_{actor} + L_{critic}$$"
      ]
    },
    {
      "cell_type": "markdown",
      "metadata": {
        "id": "nOQIJuG1xdTH"
      },
      "source": [
        "#### The Actor loss\n",
        "\n",
        "The Actor loss is based on [policy gradients with the Critic as a state dependent baseline](https://www.youtube.com/watch?v=EKqxumCuAAY&t=62m23s) and computed with single-sample (per-episode) estimates.\n",
        "\n",
        "$$L_{actor} = -\\sum^{T}_{t=1} \\log\\pi_{\\theta}(a_{t} | s_{t})[G(s_{t}, a_{t})  - V^{\\pi}_{\\theta}(s_{t})]$$\n",
        "\n",
        "where:\n",
        "- $T$: the number of timesteps per episode, which can vary per episode\n",
        "- $s_{t}$: the state at timestep $t$\n",
        "- $a_{t}$: chosen action at timestep $t$ given state $s$\n",
        "- $\\pi_{\\theta}$: is the policy (Actor) parameterized by $\\theta$\n",
        "- $V^{\\pi}_{\\theta}$: is the value function (Critic) also parameterized by $\\theta$\n",
        "- $G = G_{t}$: the expected return for a given state, action pair at timestep $t$\n",
        "\n",
        "A negative term is added to the sum since the idea is to maximize the probabilities of actions yielding higher rewards by minimizing the combined loss.\n",
        "\n",
        "<br>"
      ]
    },
    {
      "cell_type": "markdown",
      "metadata": {
        "id": "Y304O4OAxiAv"
      },
      "source": [
        "##### The Advantage\n",
        "\n",
        "The $G - V$ term in our $L_{actor}$ formulation is called the [Advantage](https://spinningup.openai.com/en/latest/spinningup/rl_intro.html#advantage-functions), which indicates how much better an action is given a particular state over a random action selected according to the policy $\\pi$ for that state.\n",
        "\n",
        "While it's possible to exclude a baseline, this may result in high variance during training. And the nice thing about choosing the critic $V$ as a baseline is that it trained to be as close as possible to $G$, leading to a lower variance.\n",
        "\n",
        "In addition, without the Critic, the algorithm would try to increase probabilities for actions taken on a particular state based on expected return, which may not make much of a difference if the relative probabilities between actions remain the same.\n",
        "\n",
        "For instance, suppose that two actions for a given state would yield the same expected return. Without the Critic, the algorithm would try to raise the probability of these actions based on the objective $J$. With the Critic, it may turn out that there's no Advantage ($G - V = 0$), and thus no benefit gained in increasing the actions' probabilities and the algorithm would set the gradients to zero.\n",
        "\n",
        "<br>"
      ]
    },
    {
      "cell_type": "markdown",
      "metadata": {
        "id": "1hrPLrgGxlvb"
      },
      "source": [
        "#### The Critic loss\n",
        "\n",
        "Training $V$ to be as close possible to $G$ can be set up as a regression problem with the following loss function:\n",
        "\n",
        "$$L_{critic} = L_{\\delta}(G, V^{\\pi}_{\\theta})$$\n",
        "\n",
        "where $L_{\\delta}$ is the [Huber loss](https://en.wikipedia.org/wiki/Huber_loss), which is less sensitive to outliers in data than squared-error loss.\n"
      ]
    },
    {
      "cell_type": "code",
      "execution_count": 10,
      "metadata": {
        "id": "9EXwbEez6n9m"
      },
      "outputs": [],
      "source": [
        "huber_loss = tf.keras.losses.Huber(reduction=tf.keras.losses.Reduction.SUM)\n",
        "\n",
        "def compute_loss(\n",
        "    action_probs: tf.Tensor,\n",
        "    values: tf.Tensor,\n",
        "    returns: tf.Tensor) -> tf.Tensor:\n",
        "  \"\"\"Computes the combined actor-critic loss.\"\"\"\n",
        "\n",
        "  advantage = returns - values\n",
        "\n",
        "  action_log_probs = tf.math.log(action_probs)\n",
        "  actor_loss = -tf.math.reduce_sum(action_log_probs * advantage)\n",
        "\n",
        "  critic_loss = huber_loss(values, returns)\n",
        "\n",
        "  return actor_loss + critic_loss\n"
      ]
    },
    {
      "cell_type": "markdown",
      "metadata": {
        "id": "HSYkQOmRfV75"
      },
      "source": [
        "### 4. Define the training step to update parameters\n",
        "\n",
        "All of the steps above are combined into a training step that is run every episode. All steps leading up to the loss function are executed with the `tf.GradientTape` context to enable automatic differentiation.\n",
        "\n",
        "This tutorial uses the Adam optimizer to apply the gradients to the model parameters.\n",
        "\n",
        "The sum of the undiscounted rewards, `episode_reward`, is also computed in this step. This value will be used later on to evaluate if the success criterion is met.\n",
        "\n",
        "The `tf.function` context is applied to the `train_step` function so that it can be compiled into a callable TensorFlow graph, which can lead to 10x speedup in training.\n"
      ]
    },
    {
      "cell_type": "code",
      "execution_count": 11,
      "metadata": {
        "id": "QoccrkF3IFCg"
      },
      "outputs": [],
      "source": [
        "optimizer = tf.keras.optimizers.Adam(learning_rate=0.01)\n",
        "\n",
        "\n",
        "@tf.function\n",
        "def train_step(\n",
        "    initial_state: tf.Tensor,\n",
        "    model: tf.keras.Model,\n",
        "    optimizer: tf.keras.optimizers.Optimizer,\n",
        "    gamma: float,\n",
        "    max_steps_per_episode: int) -> tf.Tensor:\n",
        "  \"\"\"Runs a model training step.\"\"\"\n",
        "\n",
        "  with tf.GradientTape() as tape:\n",
        "\n",
        "    # Run the model for one episode to collect training data\n",
        "    action_probs, values, rewards = run_episode(\n",
        "        initial_state, model, max_steps_per_episode)\n",
        "\n",
        "    # Calculate expected returns\n",
        "    returns = get_expected_return(rewards, gamma)\n",
        "\n",
        "    # Convert training data to appropriate TF tensor shapes\n",
        "    action_probs, values, returns = [\n",
        "        tf.expand_dims(x, 1) for x in [action_probs, values, returns]]\n",
        "\n",
        "    # Calculating loss values to update our network\n",
        "    loss = compute_loss(action_probs, values, returns)\n",
        "\n",
        "  # Compute the gradients from the loss\n",
        "  grads = tape.gradient(loss, model.trainable_variables)\n",
        "\n",
        "  # Apply the gradients to the model's parameters\n",
        "  optimizer.apply_gradients(zip(grads, model.trainable_variables))\n",
        "\n",
        "  episode_reward = tf.math.reduce_sum(rewards)\n",
        "\n",
        "  return episode_reward\n"
      ]
    },
    {
      "cell_type": "markdown",
      "metadata": {
        "id": "HFvZiDoAflGK"
      },
      "source": [
        "### 5. Run the training loop\n",
        "\n",
        "Training is executed by running the training step until either the success criterion or maximum number of episodes is reached.  \n",
        "\n",
        "A running record of episode rewards is kept in a queue. Once 100 trials are reached, the oldest reward is removed at the left (tail) end of the queue and the newest one is added at the head (right). A running sum of the rewards is also maintained for computational efficiency.\n",
        "\n",
        "Depending on your runtime, training can finish in less than a minute."
      ]
    },
    {
      "cell_type": "code",
      "execution_count": 12,
      "metadata": {
        "id": "kbmBxnzLiUJx",
        "colab": {
          "base_uri": "https://localhost:8080/"
        },
        "outputId": "974014b3-65c5-4cc4-89ac-9191a05e5913"
      },
      "outputs": [
        {
          "output_type": "stream",
          "name": "stderr",
          "text": [
            "  0%|          | 0/10000 [00:00<?, ?it/s]/usr/local/lib/python3.11/dist-packages/gym/utils/passive_env_checker.py:241: DeprecationWarning: `np.bool8` is a deprecated alias for `np.bool_`.  (Deprecated NumPy 1.24)\n",
            "  if not isinstance(terminated, (bool, np.bool8)):\n",
            "Episode 6830:  68%|██████▊   | 6830/10000 [28:08<13:03,  4.05it/s, episode_reward=500, running_reward=475]"
          ]
        },
        {
          "output_type": "stream",
          "name": "stdout",
          "text": [
            "\n",
            "Solved at episode 6830: average reward: 475.07!\n",
            "CPU times: user 33min 40s, sys: 2min 23s, total: 36min 3s\n",
            "Wall time: 28min 8s\n"
          ]
        },
        {
          "output_type": "stream",
          "name": "stderr",
          "text": [
            "\n"
          ]
        }
      ],
      "source": [
        "%%time\n",
        "\n",
        "min_episodes_criterion = 5000\n",
        "max_episodes = 10000\n",
        "max_steps_per_episode = 500\n",
        "\n",
        "# Cartpole-v1 is considered solved if average reward is >= 475 over 500\n",
        "# consecutive trials\n",
        "reward_threshold = 475\n",
        "running_reward = 0\n",
        "\n",
        "# Discount factor for future rewards\n",
        "gamma = 0.99\n",
        "\n",
        "# Keep last episodes reward\n",
        "episodes_reward: collections.deque = collections.deque(maxlen=min_episodes_criterion)\n",
        "\n",
        "with tqdm.trange(max_episodes) as t:\n",
        "  for i in t:\n",
        "    initial_state = tf.constant(env.reset(), dtype=tf.float32)\n",
        "    episode_reward = int(train_step(\n",
        "        initial_state, model, optimizer, gamma, max_steps_per_episode))\n",
        "\n",
        "    episodes_reward.append(episode_reward)\n",
        "    running_reward = statistics.mean(episodes_reward)\n",
        "\n",
        "    t.set_description(f'Episode {i}')\n",
        "    t.set_postfix(\n",
        "        episode_reward=episode_reward, running_reward=running_reward)\n",
        "\n",
        "    # Show average episode reward every 10 episodes\n",
        "    if i % 10 == 0:\n",
        "      pass # print(f'Episode {i}: average reward: {avg_reward}')\n",
        "\n",
        "    if running_reward > reward_threshold and i >= min_episodes_criterion:\n",
        "        break\n",
        "\n",
        "print(f'\\nSolved at episode {i}: average reward: {running_reward:.2f}!')\n"
      ]
    },
    {
      "cell_type": "markdown",
      "metadata": {
        "id": "ru8BEwS1EmAv"
      },
      "source": [
        "## Visualization\n",
        "\n",
        "After training, it would be good to visualize how the model performs in the environment. You can run the cells below to generate a GIF animation of one episode run of the model. Note that additional packages need to be installed for Gym to render the environment's images correctly in Colab."
      ]
    },
    {
      "cell_type": "code",
      "execution_count": 13,
      "metadata": {
        "id": "qbIMMkfmRHyC",
        "colab": {
          "base_uri": "https://localhost:8080/"
        },
        "outputId": "5ec06669-ec8a-4cde-f833-42427384d650"
      },
      "outputs": [
        {
          "output_type": "stream",
          "name": "stderr",
          "text": [
            "/usr/local/lib/python3.11/dist-packages/gym/core.py:43: DeprecationWarning: \u001b[33mWARN: The argument mode in render method is deprecated; use render_mode during environment initialization instead.\n",
            "See here for more information: https://www.gymlibrary.ml/content/api/\u001b[0m\n",
            "  deprecation(\n",
            "/usr/local/lib/python3.11/dist-packages/pygame/pkgdata.py:25: DeprecationWarning: pkg_resources is deprecated as an API. See https://setuptools.pypa.io/en/latest/pkg_resources.html\n",
            "  from pkg_resources import resource_stream, resource_exists\n",
            "/usr/local/lib/python3.11/dist-packages/pkg_resources/__init__.py:3154: DeprecationWarning: Deprecated call to `pkg_resources.declare_namespace('google')`.\n",
            "Implementing implicit namespace packages (as specified in PEP 420) is preferred to `pkg_resources.declare_namespace`. See https://setuptools.pypa.io/en/latest/references/keywords.html#keyword-namespace-packages\n",
            "  declare_namespace(pkg)\n",
            "/usr/local/lib/python3.11/dist-packages/pkg_resources/__init__.py:3154: DeprecationWarning: Deprecated call to `pkg_resources.declare_namespace('google.cloud')`.\n",
            "Implementing implicit namespace packages (as specified in PEP 420) is preferred to `pkg_resources.declare_namespace`. See https://setuptools.pypa.io/en/latest/references/keywords.html#keyword-namespace-packages\n",
            "  declare_namespace(pkg)\n",
            "/usr/local/lib/python3.11/dist-packages/pkg_resources/__init__.py:3154: DeprecationWarning: Deprecated call to `pkg_resources.declare_namespace('sphinxcontrib')`.\n",
            "Implementing implicit namespace packages (as specified in PEP 420) is preferred to `pkg_resources.declare_namespace`. See https://setuptools.pypa.io/en/latest/references/keywords.html#keyword-namespace-packages\n",
            "  declare_namespace(pkg)\n",
            "/usr/local/lib/python3.11/dist-packages/gym/core.py:43: DeprecationWarning: \u001b[33mWARN: The argument mode in render method is deprecated; use render_mode during environment initialization instead.\n",
            "See here for more information: https://www.gymlibrary.ml/content/api/\u001b[0m\n",
            "  deprecation(\n"
          ]
        }
      ],
      "source": [
        "# Render an episode and save as a GIF file\n",
        "\n",
        "from IPython import display as ipythondisplay\n",
        "from PIL import Image\n",
        "from pyvirtualdisplay import Display\n",
        "\n",
        "\n",
        "display = Display(visible=0, size=(400, 300))\n",
        "display.start()\n",
        "\n",
        "\n",
        "def render_episode(env: gym.Env, model: tf.keras.Model, max_steps: int):\n",
        "  screen = env.render(mode='rgb_array')\n",
        "  im = Image.fromarray(screen)\n",
        "\n",
        "  images = [im]\n",
        "\n",
        "  state = tf.constant(env.reset(), dtype=tf.float32)\n",
        "  for i in range(1, max_steps + 1):\n",
        "    state = tf.expand_dims(state, 0)\n",
        "    action_probs, _ = model(state)\n",
        "    action = np.argmax(np.squeeze(action_probs))\n",
        "\n",
        "    state, _, done, _ = env.step(action)\n",
        "    state = tf.constant(state, dtype=tf.float32)\n",
        "\n",
        "    # Render screen every 10 steps\n",
        "    if i % 10 == 0:\n",
        "      screen = env.render(mode='rgb_array')\n",
        "      images.append(Image.fromarray(screen))\n",
        "\n",
        "    if done:\n",
        "      break\n",
        "\n",
        "  return images\n",
        "\n",
        "\n",
        "# Save GIF image\n",
        "images = render_episode(env, model, max_steps_per_episode)\n",
        "image_file = 'cartpole-v1.gif'\n",
        "# loop=0: loop forever, duration=1: play each frame for 1ms\n",
        "images[0].save(\n",
        "    image_file, save_all=True, append_images=images[1:], loop=0, duration=1)\n"
      ]
    },
    {
      "cell_type": "code",
      "execution_count": 14,
      "metadata": {
        "id": "TLd720SejKmf",
        "colab": {
          "base_uri": "https://localhost:8080/",
          "height": 421
        },
        "outputId": "6adf852f-c0ab-4a28-dadd-cc3d1168eaf2"
      },
      "outputs": [
        {
          "output_type": "execute_result",
          "data": {
            "text/plain": [
              "<IPython.core.display.HTML object>"
            ],
            "text/html": [
              "<img src=\"data:image/gif;base64,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\"/>"
            ]
          },
          "metadata": {},
          "execution_count": 14
        }
      ],
      "source": [
        "import tensorflow_docs.vis.embed as embed\n",
        "embed.embed_file(image_file)\n"
      ]
    },
    {
      "cell_type": "markdown",
      "metadata": {
        "id": "lnq9Hzo1Po6X"
      },
      "source": [
        "## Next steps\n",
        "\n",
        "This tutorial demonstrated how to implement the Actor-Critic method using Tensorflow.\n",
        "\n",
        "As a next step, you could try training a model on a different environment in Gym.\n",
        "\n",
        "For additional information regarding Actor-Critic methods and the Cartpole-v0 problem, you may refer to the following resources:\n",
        "\n",
        "- [The Actor-Critic method](https://hal.inria.fr/hal-00840470/document)\n",
        "- [The Actor-Critic lecture (CAL)](https://www.youtube.com/watch?v=EKqxumCuAAY&list=PLkFD6_40KJIwhWJpGazJ9VSj9CFMkb79A&index=7&t=0s)\n",
        "- [Cart Pole learning control problem \\[Barto, et al. 1983\\]](http://www.derongliu.org/adp/adp-cdrom/Barto1983.pdf)\n",
        "\n",
        "For more reinforcement learning examples in TensorFlow, you can check the following resources:\n",
        "- [Reinforcement learning code examples (keras.io)](https://keras.io/examples/rl/)\n",
        "- [TF-Agents reinforcement learning library](https://www.tensorflow.org/agents)\n"
      ]
    }
  ],
  "metadata": {
    "colab": {
      "collapsed_sections": [
        "_jQ1tEQCxwRx"
      ],
      "name": "actor_critic.ipynb",
      "provenance": [],
      "toc_visible": true,
      "gpuType": "T4",
      "include_colab_link": true
    },
    "kernelspec": {
      "display_name": "Python 3",
      "name": "python3"
    },
    "accelerator": "GPU"
  },
  "nbformat": 4,
  "nbformat_minor": 0
}